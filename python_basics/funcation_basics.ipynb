{
 "cells": [
  {
   "cell_type": "markdown",
   "id": "7df25423-0d45-4dfa-a395-8b2e41e394f6",
   "metadata": {},
   "source": [
    "# Function Basics"
   ]
  },
  {
   "cell_type": "code",
   "execution_count": 2,
   "id": "d6a03b1f-a7fc-4a2f-8740-02b77356cb65",
   "metadata": {},
   "outputs": [],
   "source": [
    "def greet():\n",
    "    return \"Hello, World!\""
   ]
  },
  {
   "cell_type": "code",
   "execution_count": 3,
   "id": "3007556e-0761-4d12-9cc2-521bc43b0223",
   "metadata": {},
   "outputs": [
    {
     "data": {
      "text/plain": [
       "'Hello, World!'"
      ]
     },
     "execution_count": 3,
     "metadata": {},
     "output_type": "execute_result"
    }
   ],
   "source": [
    "greet()"
   ]
  },
  {
   "cell_type": "code",
   "execution_count": 4,
   "id": "c69b2664-4505-4587-bf33-0cf844a5720d",
   "metadata": {},
   "outputs": [],
   "source": [
    "def greet2(name):\n",
    "    return f\"Hello, {name}!\""
   ]
  },
  {
   "cell_type": "code",
   "execution_count": 5,
   "id": "3d98b59d-1a03-4eea-a520-b5f00c09647b",
   "metadata": {},
   "outputs": [
    {
     "data": {
      "text/plain": [
       "'Hello, Craig!'"
      ]
     },
     "execution_count": 5,
     "metadata": {},
     "output_type": "execute_result"
    }
   ],
   "source": [
    "greet2('Craig')"
   ]
  },
  {
   "cell_type": "code",
   "execution_count": 13,
   "id": "c81bf8fa-aefd-4416-9731-e5a5a24eb231",
   "metadata": {},
   "outputs": [],
   "source": [
    "def greet3(name='stranger'):\n",
    "    return f\"Hello, {name}!\""
   ]
  },
  {
   "cell_type": "code",
   "execution_count": 15,
   "id": "512b56a4-762f-45aa-8fe6-028a315eb9bc",
   "metadata": {},
   "outputs": [
    {
     "data": {
      "text/plain": [
       "'Hello, Bob!'"
      ]
     },
     "execution_count": 15,
     "metadata": {},
     "output_type": "execute_result"
    }
   ],
   "source": [
    "greet3('Bob')"
   ]
  },
  {
   "cell_type": "code",
   "execution_count": null,
   "id": "b4b0cd70-f42a-43c2-a347-4105f8e83293",
   "metadata": {},
   "outputs": [],
   "source": []
  }
 ],
 "metadata": {
  "kernelspec": {
   "display_name": "Python [conda env:base] *",
   "language": "python",
   "name": "conda-base-py"
  },
  "language_info": {
   "codemirror_mode": {
    "name": "ipython",
    "version": 3
   },
   "file_extension": ".py",
   "mimetype": "text/x-python",
   "name": "python",
   "nbconvert_exporter": "python",
   "pygments_lexer": "ipython3",
   "version": "3.12.7"
  }
 },
 "nbformat": 4,
 "nbformat_minor": 5
}
