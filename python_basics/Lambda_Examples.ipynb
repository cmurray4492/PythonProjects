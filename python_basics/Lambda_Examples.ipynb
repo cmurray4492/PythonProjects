{
 "cells": [
  {
   "cell_type": "markdown",
   "id": "39bc850f",
   "metadata": {},
   "source": [
    "# Lambda Functions Examples"
   ]
  },
  {
   "cell_type": "markdown",
   "id": "4e82a7a1",
   "metadata": {},
   "source": [
    "## Filter "
   ]
  },
  {
   "cell_type": "code",
   "execution_count": 1,
   "id": "e43ae8cf",
   "metadata": {},
   "outputs": [],
   "source": [
    "numbers = [1, 2, 3, 4, 5, 6, 7, 8, 9, 10]"
   ]
  },
  {
   "cell_type": "code",
   "execution_count": 2,
   "id": "04f032e4",
   "metadata": {},
   "outputs": [],
   "source": [
    "even_numbers = filter(lambda x: x % 2 == 0, numbers)"
   ]
  },
  {
   "cell_type": "code",
   "execution_count": 3,
   "id": "05b03a27",
   "metadata": {},
   "outputs": [],
   "source": [
    "even_numbers_list = list(even_numbers)"
   ]
  },
  {
   "cell_type": "code",
   "execution_count": 4,
   "id": "acd24dcb",
   "metadata": {},
   "outputs": [
    {
     "name": "stdout",
     "output_type": "stream",
     "text": [
      "[2, 4, 6, 8, 10]\n"
     ]
    }
   ],
   "source": [
    "print(even_numbers_list)"
   ]
  },
  {
   "cell_type": "markdown",
   "id": "3b7d1774",
   "metadata": {},
   "source": [
    "## Sorted "
   ]
  },
  {
   "cell_type": "code",
   "execution_count": 5,
   "id": "56e8b634",
   "metadata": {},
   "outputs": [],
   "source": [
    "names = ['Craig', 'Alex', 'Bobby', 'Charlie', 'Don', 'Eva', 'Elma', 'Murray']"
   ]
  },
  {
   "cell_type": "code",
   "execution_count": 6,
   "id": "f39eb6cf",
   "metadata": {},
   "outputs": [],
   "source": [
    "sorted_names = sorted(names, key=lambda x: len(x))"
   ]
  },
  {
   "cell_type": "code",
   "execution_count": 7,
   "id": "3ee724df",
   "metadata": {},
   "outputs": [
    {
     "name": "stdout",
     "output_type": "stream",
     "text": [
      "['Don', 'Eva', 'Alex', 'Elma', 'Craig', 'Bobby', 'Murray', 'Charlie']\n"
     ]
    }
   ],
   "source": [
    "print(sorted_names)"
   ]
  },
  {
   "cell_type": "code",
   "execution_count": null,
   "id": "9fe3fbd2",
   "metadata": {},
   "outputs": [],
   "source": []
  }
 ],
 "metadata": {
  "kernelspec": {
   "display_name": "Python 3 (ipykernel)",
   "language": "python",
   "name": "python3"
  },
  "language_info": {
   "codemirror_mode": {
    "name": "ipython",
    "version": 3
   },
   "file_extension": ".py",
   "mimetype": "text/x-python",
   "name": "python",
   "nbconvert_exporter": "python",
   "pygments_lexer": "ipython3",
   "version": "3.11.5"
  }
 },
 "nbformat": 4,
 "nbformat_minor": 5
}
