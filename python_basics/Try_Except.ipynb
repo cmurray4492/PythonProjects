{
 "cells": [
  {
   "cell_type": "markdown",
   "id": "36b62555",
   "metadata": {},
   "source": [
    "# Try Except Blocks"
   ]
  },
  {
   "cell_type": "code",
   "execution_count": 1,
   "id": "b6a19f89",
   "metadata": {},
   "outputs": [
    {
     "name": "stdout",
     "output_type": "stream",
     "text": [
      "Enter an integer: 4\n",
      "The inverse of 4 is 0.25\n"
     ]
    }
   ],
   "source": [
    "try:\n",
    "    value = int(input('Enter an integer: '))\n",
    "    print('The inverse of', value, 'is', 1/value)\n",
    "except:\n",
    "    print('You did not provide a number, so I can not calculate the inverse!')\n"
   ]
  },
  {
   "cell_type": "code",
   "execution_count": 9,
   "id": "d4db7659",
   "metadata": {},
   "outputs": [
    {
     "name": "stdout",
     "output_type": "stream",
     "text": [
      "Enter an integer: .1\n",
      "The inverse of 0.1 is 10.0\n"
     ]
    }
   ],
   "source": [
    "value = float(input('Enter an integer: '))\n",
    "print('The inverse of', value, 'is', 1/value)"
   ]
  },
  {
   "cell_type": "code",
   "execution_count": 14,
   "id": "a77c0db6",
   "metadata": {},
   "outputs": [
    {
     "name": "stdout",
     "output_type": "stream",
     "text": [
      "Enter an integer: 8\n",
      "The inverse of 8 is 0.125\n"
     ]
    }
   ],
   "source": [
    "try:\n",
    "    value = int(input('Enter an integer: '))\n",
    "    print('The inverse of', value, 'is', 1/value)\n",
    "except ValueError:\n",
    "    print('You did not provide a number, so I can not calculate the inverse!')\n",
    "except ZeroDivisionError:\n",
    "    print('We can not divide by zero!')\n",
    "except:\n",
    "    print('Something strange has happen')"
   ]
  },
  {
   "cell_type": "code",
   "execution_count": null,
   "id": "5fc61373",
   "metadata": {},
   "outputs": [],
   "source": []
  }
 ],
 "metadata": {
  "kernelspec": {
   "display_name": "Python 3 (ipykernel)",
   "language": "python",
   "name": "python3"
  },
  "language_info": {
   "codemirror_mode": {
    "name": "ipython",
    "version": 3
   },
   "file_extension": ".py",
   "mimetype": "text/x-python",
   "name": "python",
   "nbconvert_exporter": "python",
   "pygments_lexer": "ipython3",
   "version": "3.11.5"
  }
 },
 "nbformat": 4,
 "nbformat_minor": 5
}
