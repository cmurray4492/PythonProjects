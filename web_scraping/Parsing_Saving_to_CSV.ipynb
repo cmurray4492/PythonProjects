{
 "cells": [
  {
   "cell_type": "code",
   "execution_count": 1,
   "id": "cf1d5561",
   "metadata": {},
   "outputs": [],
   "source": [
    "from bs4 import BeautifulSoup\n",
    "import csv"
   ]
  },
  {
   "cell_type": "code",
   "execution_count": 2,
   "id": "cc09b70d",
   "metadata": {},
   "outputs": [],
   "source": [
    "with open('csv.html', 'r') as file:\n",
    "    html_content = file.read()"
   ]
  },
  {
   "cell_type": "code",
   "execution_count": 3,
   "id": "51d72132",
   "metadata": {},
   "outputs": [],
   "source": [
    "soup = BeautifulSoup(html_content, 'html.parser')\n",
    "#print(soup.h1.string)"
   ]
  },
  {
   "cell_type": "code",
   "execution_count": 4,
   "id": "89a05626",
   "metadata": {},
   "outputs": [],
   "source": [
    "pillars = soup.find_all('li', class_='pillar')"
   ]
  },
  {
   "cell_type": "code",
   "execution_count": 5,
   "id": "8fcc719d",
   "metadata": {},
   "outputs": [
    {
     "name": "stdout",
     "output_type": "stream",
     "text": [
      "Data has been extracted and saved to pillarsofislam.csv.\n"
     ]
    }
   ],
   "source": [
    "data = []\n",
    "for pillar in pillars:\n",
    "    name = pillar.find('h2').text\n",
    "    description = pillar.find('p').text\n",
    "    data.append((name, description))\n",
    "    \n",
    "csv_filename = 'pillarsofislam.csv'\n",
    "\n",
    "with open(csv_filename, 'w', newline='', encoding='utf-8') as csv_file:\n",
    "    csv_writer = csv.writer(csv_file)\n",
    "    csv_writer.writerow(['Pillar Name', 'Description'])\n",
    "    csv_writer.writerows(data)\n",
    "\n",
    "print(f\"Data has been extracted and saved to {csv_filename}.\")"
   ]
  },
  {
   "cell_type": "code",
   "execution_count": null,
   "id": "e2cadb02",
   "metadata": {},
   "outputs": [],
   "source": []
  }
 ],
 "metadata": {
  "kernelspec": {
   "display_name": "Python 3 (ipykernel)",
   "language": "python",
   "name": "python3"
  },
  "language_info": {
   "codemirror_mode": {
    "name": "ipython",
    "version": 3
   },
   "file_extension": ".py",
   "mimetype": "text/x-python",
   "name": "python",
   "nbconvert_exporter": "python",
   "pygments_lexer": "ipython3",
   "version": "3.11.5"
  }
 },
 "nbformat": 4,
 "nbformat_minor": 5
}
