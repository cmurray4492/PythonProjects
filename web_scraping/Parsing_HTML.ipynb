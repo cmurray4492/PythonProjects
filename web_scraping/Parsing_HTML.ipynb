{
 "cells": [
  {
   "cell_type": "code",
   "execution_count": 1,
   "id": "78ba0f99",
   "metadata": {},
   "outputs": [],
   "source": [
    "from bs4 import BeautifulSoup"
   ]
  },
  {
   "cell_type": "markdown",
   "id": "f3089667",
   "metadata": {},
   "source": [
    "### Extracting Data From a Local HTML File\n",
    "1. Open the HTML File\n",
    "2. Parse the HTMl File\n",
    "3. Extract information from the HTML\n",
    "4. Process the extracted information"
   ]
  },
  {
   "cell_type": "code",
   "execution_count": 2,
   "id": "e456325f",
   "metadata": {},
   "outputs": [],
   "source": [
    "with open('Tunisia+Sightseeing.html', 'r') as file:\n",
    "    html_content = file.read()"
   ]
  },
  {
   "cell_type": "code",
   "execution_count": 3,
   "id": "59a66ef0",
   "metadata": {},
   "outputs": [
    {
     "name": "stdout",
     "output_type": "stream",
     "text": [
      "Explore the Wonders of Tunisia\n"
     ]
    }
   ],
   "source": [
    "soup = BeautifulSoup(html_content, 'html.parser')\n",
    "print(soup.h1.string) # You can use other HTML tags to check the first on the doc"
   ]
  },
  {
   "cell_type": "code",
   "execution_count": 4,
   "id": "d7c739de",
   "metadata": {},
   "outputs": [
    {
     "name": "stdout",
     "output_type": "stream",
     "text": [
      "Carthage is an ancient city located near the capital, Tunis. It was once a major power in the Mediterranean and is now a UNESCO World Heritage site. Visitors can explore the ruins of Carthage, including the impressive Roman amphitheater and the Punic ports.\n",
      "\n",
      "\n",
      "The Medina of Tunis is the historic center of the capital city. Its narrow streets are filled with vibrant markets, traditional houses, and stunning examples of Islamic architecture. Don't miss the Zitouna Mosque, one of the oldest mosques in North Africa.\n",
      "\n",
      "\n",
      "Douz is known as the \"Gateway to the Sahara.\" It's a great starting point for exploring the vast Sahara Desert. Experience camel rides, traditional Bedouin hospitality, and witness the mesmerizing landscapes of sand dunes stretching as far as the eye can see.\n",
      "\n",
      "\n",
      "Sidi Bou Said is a picturesque village perched on a hill overlooking the Mediterranean Sea. Its blue and white buildings, narrow streets, and stunning views make it a popular destination for both locals and tourists. Enjoy a cup of mint tea while taking in the beautiful surroundings.\n",
      "\n",
      "\n",
      "Djerba is an island off the coast of Tunisia, known for its beautiful beaches and rich cultural heritage. Explore the ancient Phoenician and Roman ruins, visit the famous El Ghriba Synagogue, and relax on the pristine beaches.\n",
      "\n",
      "\n",
      "Matmata is a unique and fascinating village famous for its underground dwellings. These traditional homes, known as troglodyte houses, are carved into the soft rock. Explore the houses, interact with the friendly locals, and learn about their way of life.\n",
      "\n",
      "\n",
      "The Bardo Museum, located in Tunis, is known for its extensive collection of ancient Roman mosaics and artifacts.\n",
      "\n",
      "\n",
      "The National Museum of Carthage showcases the history and archaeology of Carthage, including exhibits on the Punic and Roman periods.\n",
      "\n",
      "\n",
      "The Dar Bach Hamba Museum in Tunis offers a glimpse into Tunisian traditional arts and crafts, including ceramics, textiles, and jewelry.\n",
      "\n",
      "\n",
      "The Museum of Islamic Art in Tunis houses a remarkable collection of Islamic art and artifacts spanning various dynasties and regions.\n",
      "\n",
      "\n",
      "The Sisley Museum, located in Bizerte, showcases the works of renowned Tunisian painter HÃ©di Turki and hosts temporary exhibitions.\n",
      "\n",
      "\n"
     ]
    }
   ],
   "source": [
    "paragraphs = soup.find_all('p')\n",
    "for p in paragraphs:\n",
    "    print(p.getText())\n",
    "    print('\\n')"
   ]
  },
  {
   "cell_type": "code",
   "execution_count": 5,
   "id": "ffa9c817",
   "metadata": {},
   "outputs": [
    {
     "name": "stdout",
     "output_type": "stream",
     "text": [
      "https://en.wikipedia.org/wiki/Carthage\n",
      "hhttps://en.wikipedia.org/wiki/Medina_of_Tunis\n",
      "https://en.wikipedia.org/wiki/Douz \n",
      "https://en.wikipedia.org/wiki/Sidi_Bou_Said\n",
      "https://en.wikipedia.org/wiki/Djerba\n",
      "https://en.wikipedia.org/wiki/Matmata\n"
     ]
    }
   ],
   "source": [
    "links = soup.find_all('a')\n",
    "for link in links:\n",
    "    print(link.get('href'))"
   ]
  },
  {
   "cell_type": "code",
   "execution_count": 6,
   "id": "8cd14aef",
   "metadata": {},
   "outputs": [
    {
     "name": "stdout",
     "output_type": "stream",
     "text": [
      "\n",
      "Bardo Museum\n",
      "The Bardo Museum, located in Tunis, is known for its extensive collection of ancient Roman mosaics and artifacts.\n",
      "\n"
     ]
    }
   ],
   "source": [
    "elements = soup.find_all(id='bardo-museum')\n",
    "for element in elements:\n",
    "    print(element.getText())"
   ]
  },
  {
   "cell_type": "code",
   "execution_count": 7,
   "id": "3af3cecc",
   "metadata": {},
   "outputs": [
    {
     "name": "stdout",
     "output_type": "stream",
     "text": [
      "\n",
      "\n",
      "Bardo Museum\n",
      "The Bardo Museum, located in Tunis, is known for its extensive collection of ancient Roman mosaics and artifacts.\n",
      "\n",
      "\n",
      "National Museum of Carthage\n",
      "The National Museum of Carthage showcases the history and archaeology of Carthage, including exhibits on the Punic and Roman periods.\n",
      "\n",
      "\n",
      "Dar Bach Hamba Museum\n",
      "The Dar Bach Hamba Museum in Tunis offers a glimpse into Tunisian traditional arts and crafts, including ceramics, textiles, and jewelry.\n",
      "\n",
      "\n",
      "Museum of Islamic Art, Tunis\n",
      "The Museum of Islamic Art in Tunis houses a remarkable collection of Islamic art and artifacts spanning various dynasties and regions.\n",
      "\n",
      "\n",
      "Sisley Museum\n",
      "The Sisley Museum, located in Bizerte, showcases the works of renowned Tunisian painter HÃ©di Turki and hosts temporary exhibitions.\n",
      "\n",
      "\n"
     ]
    }
   ],
   "source": [
    "names = soup.find_all(class_ = 'museum-list')\n",
    "for name in names:\n",
    "    print(name.text)"
   ]
  },
  {
   "cell_type": "markdown",
   "id": "243b596c",
   "metadata": {},
   "source": [
    "### Extracting Siblings"
   ]
  },
  {
   "cell_type": "code",
   "execution_count": 8,
   "id": "2f9f3c11",
   "metadata": {},
   "outputs": [
    {
     "name": "stdout",
     "output_type": "stream",
     "text": [
      "\n",
      "Bardo Museum\n",
      "The Bardo Museum, located in Tunis, is known for its extensive collection of ancient Roman mosaics and artifacts.\n",
      "\n",
      "\n",
      "National Museum of Carthage\n",
      "The National Museum of Carthage showcases the history and archaeology of Carthage, including exhibits on the Punic and Roman periods.\n",
      "\n"
     ]
    }
   ],
   "source": [
    "item = soup.find('li')\n",
    "print(item.text)\n",
    "next_sibling = item.find_next_sibling('li')\n",
    "print(next_sibling.text)"
   ]
  },
  {
   "cell_type": "markdown",
   "id": "47e00204",
   "metadata": {},
   "source": [
    "### Extracting Parent"
   ]
  },
  {
   "cell_type": "code",
   "execution_count": 9,
   "id": "96d08a65",
   "metadata": {},
   "outputs": [
    {
     "name": "stdout",
     "output_type": "stream",
     "text": [
      "<li id=\"bardo-museum\">\n",
      "<h2>Bardo Museum</h2>\n",
      "<p>The Bardo Museum, located in Tunis, is known for its extensive collection of ancient Roman mosaics and artifacts.</p>\n",
      "</li>\n",
      "\n",
      "\n",
      "Bardo Museum\n",
      "The Bardo Museum, located in Tunis, is known for its extensive collection of ancient Roman mosaics and artifacts.\n",
      "\n",
      "\n",
      "National Museum of Carthage\n",
      "The National Museum of Carthage showcases the history and archaeology of Carthage, including exhibits on the Punic and Roman periods.\n",
      "\n",
      "\n",
      "Dar Bach Hamba Museum\n",
      "The Dar Bach Hamba Museum in Tunis offers a glimpse into Tunisian traditional arts and crafts, including ceramics, textiles, and jewelry.\n",
      "\n",
      "\n",
      "Museum of Islamic Art, Tunis\n",
      "The Museum of Islamic Art in Tunis houses a remarkable collection of Islamic art and artifacts spanning various dynasties and regions.\n",
      "\n",
      "\n",
      "Sisley Museum\n",
      "The Sisley Museum, located in Bizerte, showcases the works of renowned Tunisian painter HÃ©di Turki and hosts temporary exhibitions.\n",
      "\n",
      "\n"
     ]
    }
   ],
   "source": [
    "item1 = soup.find('li')\n",
    "print(item1)\n",
    "print(item1.parent.text)\n",
    "# print(item1.parent.parent.text)"
   ]
  },
  {
   "cell_type": "markdown",
   "id": "0350b8a0",
   "metadata": {},
   "source": [
    "### Extracting Children"
   ]
  },
  {
   "cell_type": "code",
   "execution_count": 10,
   "id": "80548262",
   "metadata": {},
   "outputs": [
    {
     "name": "stdout",
     "output_type": "stream",
     "text": [
      "\n",
      "\n",
      "Bardo Museum\n",
      "The Bardo Museum, located in Tunis, is known for its extensive collection of ancient Roman mosaics and artifacts.\n",
      "\n",
      "\n",
      "National Museum of Carthage\n",
      "The National Museum of Carthage showcases the history and archaeology of Carthage, including exhibits on the Punic and Roman periods.\n",
      "\n",
      "\n",
      "Dar Bach Hamba Museum\n",
      "The Dar Bach Hamba Museum in Tunis offers a glimpse into Tunisian traditional arts and crafts, including ceramics, textiles, and jewelry.\n",
      "\n",
      "\n",
      "Museum of Islamic Art, Tunis\n",
      "The Museum of Islamic Art in Tunis houses a remarkable collection of Islamic art and artifacts spanning various dynasties and regions.\n",
      "\n",
      "\n",
      "Sisley Museum\n",
      "The Sisley Museum, located in Bizerte, showcases the works of renowned Tunisian painter HÃ©di Turki and hosts temporary exhibitions.\n",
      "\n",
      "\n",
      "<list_iterator object at 0x00000199FAE3C100>\n"
     ]
    }
   ],
   "source": [
    "meuseums = soup.find('ul')\n",
    "print(meuseums.text)\n",
    "print(meuseums.children) # nothing showed up"
   ]
  },
  {
   "cell_type": "markdown",
   "id": "1d2187c5",
   "metadata": {},
   "source": [
    "### Selecting a Tagname"
   ]
  },
  {
   "cell_type": "code",
   "execution_count": 15,
   "id": "e204c6b2",
   "metadata": {},
   "outputs": [
    {
     "name": "stdout",
     "output_type": "stream",
     "text": [
      "The Bardo Museum, located in Tunis, is known for its extensive collection of ancient Roman mosaics and artifacts.\n"
     ]
    }
   ],
   "source": [
    "element = soup.select_one('ul li p')\n",
    "print(element.text)"
   ]
  },
  {
   "cell_type": "markdown",
   "id": "21ed19d0",
   "metadata": {},
   "source": [
    "### Selecting by Class Name"
   ]
  },
  {
   "cell_type": "code",
   "execution_count": 16,
   "id": "2c588d22",
   "metadata": {},
   "outputs": [
    {
     "name": "stdout",
     "output_type": "stream",
     "text": [
      "<ul class=\"museum-list\">\n",
      "<li id=\"bardo-museum\">\n",
      "<h2>Bardo Museum</h2>\n",
      "<p>The Bardo Museum, located in Tunis, is known for its extensive collection of ancient Roman mosaics and artifacts.</p>\n",
      "</li>\n",
      "<li id=\"national-museum-of-carthage\">\n",
      "<h2>National Museum of Carthage</h2>\n",
      "<p>The National Museum of Carthage showcases the history and archaeology of Carthage, including exhibits on the Punic and Roman periods.</p>\n",
      "</li>\n",
      "<li id=\"dar-bach-hamba-museum\">\n",
      "<h2>Dar Bach Hamba Museum</h2>\n",
      "<p>The Dar Bach Hamba Museum in Tunis offers a glimpse into Tunisian traditional arts and crafts, including ceramics, textiles, and jewelry.</p>\n",
      "</li>\n",
      "<li id=\"museum-of-islamic-art-tunis\">\n",
      "<h2>Museum of Islamic Art, Tunis</h2>\n",
      "<p>The Museum of Islamic Art in Tunis houses a remarkable collection of Islamic art and artifacts spanning various dynasties and regions.</p>\n",
      "</li>\n",
      "<li id=\"sisley-museum\">\n",
      "<h2>Sisley Museum</h2>\n",
      "<p>The Sisley Museum, located in Bizerte, showcases the works of renowned Tunisian painter HÃ©di Turki and hosts temporary exhibitions.</p>\n",
      "</li>\n",
      "</ul>\n"
     ]
    }
   ],
   "source": [
    "element1 = soup.select_one('.museum-list')\n",
    "print(element1)"
   ]
  },
  {
   "cell_type": "markdown",
   "id": "90ef28dc",
   "metadata": {},
   "source": [
    "### Selecting by CSS ID"
   ]
  },
  {
   "cell_type": "code",
   "execution_count": 20,
   "id": "ba6a76fa",
   "metadata": {},
   "outputs": [
    {
     "name": "stdout",
     "output_type": "stream",
     "text": [
      "[<li id=\"national-museum-of-carthage\">\n",
      "<h2>National Museum of Carthage</h2>\n",
      "<p>The National Museum of Carthage showcases the history and archaeology of Carthage, including exhibits on the Punic and Roman periods.</p>\n",
      "</li>]\n"
     ]
    }
   ],
   "source": [
    "element2 = soup.select(\"#national-museum-of-carthage\")\n",
    "print(element2)"
   ]
  },
  {
   "cell_type": "markdown",
   "id": "c284fdd7",
   "metadata": {},
   "source": [
    "### Selecting by CSS Attrbute"
   ]
  },
  {
   "cell_type": "code",
   "execution_count": 22,
   "id": "eac8f93b",
   "metadata": {},
   "outputs": [
    {
     "name": "stdout",
     "output_type": "stream",
     "text": [
      "[<a href=\"https://en.wikipedia.org/wiki/Carthage\">Carthage</a>, <a href=\"hhttps://en.wikipedia.org/wiki/Medina_of_Tunis\">The Medina of Tunis</a>, <a href=\"https://en.wikipedia.org/wiki/Douz \">Douz and the Sahara Desert</a>, <a href=\"https://en.wikipedia.org/wiki/Sidi_Bou_Said\">Sidi Bou Said</a>, <a href=\"https://en.wikipedia.org/wiki/Djerba\">Djerba</a>, <a href=\"https://en.wikipedia.org/wiki/Matmata\">Matmata</a>]\n"
     ]
    }
   ],
   "source": [
    "element3 = soup.select('[href]')\n",
    "print(element3)"
   ]
  },
  {
   "cell_type": "code",
   "execution_count": null,
   "id": "d2335f24",
   "metadata": {},
   "outputs": [],
   "source": []
  }
 ],
 "metadata": {
  "kernelspec": {
   "display_name": "Python 3 (ipykernel)",
   "language": "python",
   "name": "python3"
  },
  "language_info": {
   "codemirror_mode": {
    "name": "ipython",
    "version": 3
   },
   "file_extension": ".py",
   "mimetype": "text/x-python",
   "name": "python",
   "nbconvert_exporter": "python",
   "pygments_lexer": "ipython3",
   "version": "3.11.5"
  }
 },
 "nbformat": 4,
 "nbformat_minor": 5
}
