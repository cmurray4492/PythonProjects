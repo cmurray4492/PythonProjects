{
 "cells": [
  {
   "cell_type": "markdown",
   "id": "6c41c816",
   "metadata": {},
   "source": [
    "# PCEP Module 1"
   ]
  },
  {
   "cell_type": "code",
   "execution_count": 1,
   "id": "adae6b9a",
   "metadata": {},
   "outputs": [
    {
     "name": "stdout",
     "output_type": "stream",
     "text": [
      "Hello, World!\n"
     ]
    }
   ],
   "source": [
    "print('Hello, World!')"
   ]
  },
  {
   "cell_type": "code",
   "execution_count": 2,
   "id": "b70c8e7e",
   "metadata": {},
   "outputs": [],
   "source": [
    "# This is a single line commnet - ignored at runtime"
   ]
  },
  {
   "cell_type": "code",
   "execution_count": 3,
   "id": "3f3ca5a0",
   "metadata": {},
   "outputs": [
    {
     "data": {
      "text/plain": [
       "\"This is a multi line comment that is stored as a vartable\""
      ]
     },
     "execution_count": 3,
     "metadata": {},
     "output_type": "execute_result"
    }
   ],
   "source": [
    "\"\"\"This is a multi line comment that is stored as a vartable\"\"\""
   ]
  },
  {
   "cell_type": "code",
   "execution_count": null,
   "id": "7fd8e77b",
   "metadata": {},
   "outputs": [],
   "source": []
  }
 ],
 "metadata": {
  "kernelspec": {
   "display_name": "Julia 1.10.2",
   "language": "julia",
   "name": "julia-1.10"
  },
  "language_info": {
   "file_extension": ".jl",
   "mimetype": "application/julia",
   "name": "julia",
   "version": "1.10.2"
  }
 },
 "nbformat": 4,
 "nbformat_minor": 5
}
