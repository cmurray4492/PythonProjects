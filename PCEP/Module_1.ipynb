{
 "cells": [
  {
   "cell_type": "markdown",
   "id": "6c41c816",
   "metadata": {},
   "source": [
    "# PCEP Module 1"
   ]
  },
  {
   "cell_type": "code",
   "execution_count": 1,
   "id": "adae6b9a",
   "metadata": {},
   "outputs": [
    {
     "name": "stdout",
     "output_type": "stream",
     "text": [
      "Hello, World!\n"
     ]
    }
   ],
   "source": [
    "print('Hello, World!')"
   ]
  },
  {
   "cell_type": "code",
   "execution_count": 2,
   "id": "b70c8e7e",
   "metadata": {},
   "outputs": [],
   "source": [
    "# This is a single line commnet - ignored at runtime"
   ]
  },
  {
   "cell_type": "code",
   "execution_count": 3,
   "id": "3f3ca5a0",
   "metadata": {},
   "outputs": [
    {
     "data": {
      "text/plain": [
       "'This is a multi line comment that is stored \\nas a vartable'"
      ]
     },
     "execution_count": 3,
     "metadata": {},
     "output_type": "execute_result"
    }
   ],
   "source": [
    "\"\"\"This is a multi line comment that is stored \n",
    "as a vartable\"\"\""
   ]
  },
  {
   "cell_type": "code",
   "execution_count": null,
   "id": "7fd8e77b",
   "metadata": {},
   "outputs": [],
   "source": []
  }
 ],
 "metadata": {
  "kernelspec": {
   "display_name": "Python 3 (ipykernel)",
   "language": "python",
   "name": "python3"
  },
  "language_info": {
   "codemirror_mode": {
    "name": "ipython",
    "version": 3
   },
   "file_extension": ".py",
   "mimetype": "text/x-python",
   "name": "python",
   "nbconvert_exporter": "python",
   "pygments_lexer": "ipython3",
   "version": "3.11.5"
  }
 },
 "nbformat": 4,
 "nbformat_minor": 5
}
