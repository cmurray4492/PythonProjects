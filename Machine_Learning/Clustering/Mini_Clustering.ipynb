{
 "cells": [
  {
   "cell_type": "markdown",
   "id": "a03e3ab7-2c8d-4bba-a432-cb2d3fc46c93",
   "metadata": {},
   "source": [
    "# Mini Clustrering"
   ]
  },
  {
   "cell_type": "code",
   "execution_count": 5,
   "id": "86f14539-dbda-44f9-abcf-cdb771e2ab04",
   "metadata": {},
   "outputs": [],
   "source": [
    "import pandas as pd\n",
    "import matplotlib.pyplot as plt"
   ]
  },
  {
   "cell_type": "code",
   "execution_count": null,
   "id": "f20daf64-b647-4afc-afaa-15e8f8a4fb09",
   "metadata": {},
   "outputs": [],
   "source": []
  }
 ],
 "metadata": {
  "kernelspec": {
   "display_name": "Python [conda env:base] *",
   "language": "python",
   "name": "conda-base-py"
  },
  "language_info": {
   "codemirror_mode": {
    "name": "ipython",
    "version": 3
   },
   "file_extension": ".py",
   "mimetype": "text/x-python",
   "name": "python",
   "nbconvert_exporter": "python",
   "pygments_lexer": "ipython3",
   "version": "3.12.7"
  }
 },
 "nbformat": 4,
 "nbformat_minor": 5
}
