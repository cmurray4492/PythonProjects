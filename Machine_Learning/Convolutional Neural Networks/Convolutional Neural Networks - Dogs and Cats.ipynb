{
 "cells": [
  {
   "cell_type": "markdown",
   "id": "3ad8d174",
   "metadata": {},
   "source": [
    "# Convolutional Neural Networks - Dogs and Cats"
   ]
  },
  {
   "cell_type": "code",
   "execution_count": 1,
   "id": "d999dc9a",
   "metadata": {},
   "outputs": [
    {
     "name": "stdout",
     "output_type": "stream",
     "text": [
      "WARNING:tensorflow:From C:\\Users\\South\\AppData\\Roaming\\Python\\Python311\\site-packages\\keras\\src\\losses.py:2976: The name tf.losses.sparse_softmax_cross_entropy is deprecated. Please use tf.compat.v1.losses.sparse_softmax_cross_entropy instead.\n",
      "\n"
     ]
    }
   ],
   "source": [
    "import numpy as np\n",
    "import pandas as pd\n",
    "import matplotlib.pyplot as plt\n",
    "import seaborn as sns\n",
    "import tensorflow as tf\n"
   ]
  },
  {
   "cell_type": "code",
   "execution_count": 2,
   "id": "71989211",
   "metadata": {},
   "outputs": [
    {
     "data": {
      "text/plain": [
       "'2.15.0'"
      ]
     },
     "execution_count": 2,
     "metadata": {},
     "output_type": "execute_result"
    }
   ],
   "source": [
    "tf.__version__"
   ]
  },
  {
   "cell_type": "code",
   "execution_count": 3,
   "id": "a1214732",
   "metadata": {},
   "outputs": [],
   "source": [
    "from keras.preprocessing.image import ImageDataGenerator"
   ]
  },
  {
   "cell_type": "markdown",
   "id": "24be1144",
   "metadata": {},
   "source": [
    "## Part 1 - Data Preprocessing"
   ]
  },
  {
   "cell_type": "markdown",
   "id": "23333c6c",
   "metadata": {},
   "source": [
    "### Preprocessing the Training Set"
   ]
  },
  {
   "cell_type": "code",
   "execution_count": 4,
   "id": "ecec5a9a",
   "metadata": {},
   "outputs": [
    {
     "name": "stdout",
     "output_type": "stream",
     "text": [
      "Found 8000 images belonging to 2 classes.\n"
     ]
    }
   ],
   "source": [
    "train_datagen = ImageDataGenerator(rescale = 1./255,\n",
    "                                  shear_range = 0.2,\n",
    "                                  zoom_range = 0.2,\n",
    "                                  horizontal_flip = True)\n",
    "\n",
    "training_set = train_datagen.flow_from_directory('../Data/cnn/training_set',\n",
    "                                                target_size = (64, 64),\n",
    "                                                batch_size = 32, \n",
    "                                                 class_mode = 'binary')"
   ]
  },
  {
   "cell_type": "markdown",
   "id": "e9010299",
   "metadata": {},
   "source": [
    "### Preprocessing the Test Set"
   ]
  },
  {
   "cell_type": "code",
   "execution_count": 5,
   "id": "37f9c717",
   "metadata": {},
   "outputs": [
    {
     "name": "stdout",
     "output_type": "stream",
     "text": [
      "Found 2000 images belonging to 2 classes.\n"
     ]
    }
   ],
   "source": [
    "test_datagen = ImageDataGenerator(rescale=1./255)\n",
    "\n",
    "test_set = test_datagen.flow_from_directory('../Data/cnn/test_set',\n",
    "                                           target_size=(64, 64),\n",
    "                                           batch_size=32,\n",
    "                                           class_mode='binary')"
   ]
  },
  {
   "cell_type": "markdown",
   "id": "19c72794",
   "metadata": {},
   "source": [
    "## Part 2 - Buildign the CNN"
   ]
  },
  {
   "cell_type": "markdown",
   "id": "e3628084",
   "metadata": {},
   "source": [
    "### Initializing the CNN"
   ]
  },
  {
   "cell_type": "code",
   "execution_count": 6,
   "id": "11707643",
   "metadata": {},
   "outputs": [
    {
     "name": "stdout",
     "output_type": "stream",
     "text": [
      "WARNING:tensorflow:From C:\\Users\\South\\AppData\\Roaming\\Python\\Python311\\site-packages\\keras\\src\\backend.py:873: The name tf.get_default_graph is deprecated. Please use tf.compat.v1.get_default_graph instead.\n",
      "\n"
     ]
    }
   ],
   "source": [
    "cnn = tf.keras.models.Sequential()"
   ]
  },
  {
   "cell_type": "markdown",
   "id": "3aa2e7c6",
   "metadata": {},
   "source": [
    "### Step 1 - Convoilution"
   ]
  },
  {
   "cell_type": "code",
   "execution_count": 7,
   "id": "dcf5c8bc",
   "metadata": {},
   "outputs": [],
   "source": [
    "cnn.add(tf.keras.layers.Conv2D(filters=32, kernel_size=3, activation='relu', input_shape=[64,64,3]))"
   ]
  },
  {
   "cell_type": "markdown",
   "id": "04a599d0",
   "metadata": {},
   "source": [
    "### Step 2 - Pooling"
   ]
  },
  {
   "cell_type": "code",
   "execution_count": 8,
   "id": "95b7e201",
   "metadata": {},
   "outputs": [
    {
     "name": "stdout",
     "output_type": "stream",
     "text": [
      "WARNING:tensorflow:From C:\\Users\\South\\AppData\\Roaming\\Python\\Python311\\site-packages\\keras\\src\\layers\\pooling\\max_pooling2d.py:161: The name tf.nn.max_pool is deprecated. Please use tf.nn.max_pool2d instead.\n",
      "\n"
     ]
    }
   ],
   "source": [
    "cnn.add(tf.keras.layers.MaxPool2D(pool_size=2, strides=2))"
   ]
  },
  {
   "cell_type": "markdown",
   "id": "0997ec8e",
   "metadata": {},
   "source": [
    "### Adding a Second Convolutional Layer"
   ]
  },
  {
   "cell_type": "code",
   "execution_count": 9,
   "id": "c0d47f8b",
   "metadata": {},
   "outputs": [],
   "source": [
    "cnn.add(tf.keras.layers.Conv2D(filters=32, kernel_size=3, activation='relu'))\n",
    "cnn.add(tf.keras.layers.MaxPool2D(pool_size=2, strides=2))"
   ]
  },
  {
   "cell_type": "markdown",
   "id": "2e0b954e",
   "metadata": {},
   "source": [
    "### Step 3 - Flattening"
   ]
  },
  {
   "cell_type": "code",
   "execution_count": 10,
   "id": "bde5ed45",
   "metadata": {},
   "outputs": [],
   "source": [
    "cnn.add(tf.keras.layers.Flatten())"
   ]
  },
  {
   "cell_type": "markdown",
   "id": "7bba19ce",
   "metadata": {},
   "source": [
    "### Step 4 Full Connection"
   ]
  },
  {
   "cell_type": "code",
   "execution_count": 11,
   "id": "a154d7eb",
   "metadata": {},
   "outputs": [],
   "source": [
    "cnn.add(tf.keras.layers.Dense(units=128, activation='relu'))"
   ]
  },
  {
   "cell_type": "markdown",
   "id": "5d8d47ab",
   "metadata": {},
   "source": [
    "### Step 5 Output Layer"
   ]
  },
  {
   "cell_type": "code",
   "execution_count": 12,
   "id": "50f525b6",
   "metadata": {},
   "outputs": [],
   "source": [
    "cnn.add(tf.keras.layers.Dense(units=1, activation='sigmoid'))"
   ]
  },
  {
   "cell_type": "markdown",
   "id": "d89f56f9",
   "metadata": {},
   "source": [
    "## Part 3 - Training the CNN"
   ]
  },
  {
   "cell_type": "markdown",
   "id": "96d7e704",
   "metadata": {},
   "source": [
    "### Compling the CNN"
   ]
  },
  {
   "cell_type": "code",
   "execution_count": 13,
   "id": "acddeb10",
   "metadata": {},
   "outputs": [
    {
     "name": "stdout",
     "output_type": "stream",
     "text": [
      "WARNING:tensorflow:From C:\\Users\\South\\AppData\\Roaming\\Python\\Python311\\site-packages\\keras\\src\\optimizers\\__init__.py:309: The name tf.train.Optimizer is deprecated. Please use tf.compat.v1.train.Optimizer instead.\n",
      "\n"
     ]
    }
   ],
   "source": [
    "cnn.compile(optimizer='adam', loss='binary_crossentropy', metrics=['accuracy'] )"
   ]
  },
  {
   "cell_type": "markdown",
   "id": "d01e4e7d",
   "metadata": {},
   "source": [
    "### Training the CNN on the Training set and evaluating it on the Test set"
   ]
  },
  {
   "cell_type": "code",
   "execution_count": 14,
   "id": "f37c0f92",
   "metadata": {},
   "outputs": [
    {
     "name": "stdout",
     "output_type": "stream",
     "text": [
      "Epoch 1/25\n",
      "WARNING:tensorflow:From C:\\Users\\South\\AppData\\Roaming\\Python\\Python311\\site-packages\\keras\\src\\utils\\tf_utils.py:492: The name tf.ragged.RaggedTensorValue is deprecated. Please use tf.compat.v1.ragged.RaggedTensorValue instead.\n",
      "\n",
      "WARNING:tensorflow:From C:\\Users\\South\\AppData\\Roaming\\Python\\Python311\\site-packages\\keras\\src\\engine\\base_layer_utils.py:384: The name tf.executing_eagerly_outside_functions is deprecated. Please use tf.compat.v1.executing_eagerly_outside_functions instead.\n",
      "\n",
      "250/250 [==============================] - 30s 118ms/step - loss: 0.6774 - accuracy: 0.5815 - val_loss: 0.6145 - val_accuracy: 0.6700\n",
      "Epoch 2/25\n",
      "250/250 [==============================] - 29s 118ms/step - loss: 0.6089 - accuracy: 0.6719 - val_loss: 0.5740 - val_accuracy: 0.7190\n",
      "Epoch 3/25\n",
      "250/250 [==============================] - 29s 117ms/step - loss: 0.5648 - accuracy: 0.7101 - val_loss: 0.5513 - val_accuracy: 0.7245\n",
      "Epoch 4/25\n",
      "250/250 [==============================] - 29s 118ms/step - loss: 0.5381 - accuracy: 0.7330 - val_loss: 0.5010 - val_accuracy: 0.7560\n",
      "Epoch 5/25\n",
      "250/250 [==============================] - 30s 119ms/step - loss: 0.5111 - accuracy: 0.7500 - val_loss: 0.5033 - val_accuracy: 0.7685\n",
      "Epoch 6/25\n",
      "250/250 [==============================] - 29s 118ms/step - loss: 0.4931 - accuracy: 0.7552 - val_loss: 0.4820 - val_accuracy: 0.7770\n",
      "Epoch 7/25\n",
      "250/250 [==============================] - 29s 118ms/step - loss: 0.4779 - accuracy: 0.7725 - val_loss: 0.4691 - val_accuracy: 0.7775\n",
      "Epoch 8/25\n",
      "250/250 [==============================] - 29s 118ms/step - loss: 0.4680 - accuracy: 0.7753 - val_loss: 0.4564 - val_accuracy: 0.7865\n",
      "Epoch 9/25\n",
      "250/250 [==============================] - 29s 118ms/step - loss: 0.4473 - accuracy: 0.7850 - val_loss: 0.5032 - val_accuracy: 0.7600\n",
      "Epoch 10/25\n",
      "250/250 [==============================] - 29s 118ms/step - loss: 0.4343 - accuracy: 0.7997 - val_loss: 0.5307 - val_accuracy: 0.7405\n",
      "Epoch 11/25\n",
      "250/250 [==============================] - 29s 118ms/step - loss: 0.4236 - accuracy: 0.8015 - val_loss: 0.4681 - val_accuracy: 0.7790\n",
      "Epoch 12/25\n",
      "250/250 [==============================] - 29s 118ms/step - loss: 0.4154 - accuracy: 0.8027 - val_loss: 0.4705 - val_accuracy: 0.7800\n",
      "Epoch 13/25\n",
      "250/250 [==============================] - 29s 117ms/step - loss: 0.4085 - accuracy: 0.8100 - val_loss: 0.4409 - val_accuracy: 0.7980\n",
      "Epoch 14/25\n",
      "250/250 [==============================] - 35s 141ms/step - loss: 0.3987 - accuracy: 0.8124 - val_loss: 0.4891 - val_accuracy: 0.7740\n",
      "Epoch 15/25\n",
      "250/250 [==============================] - 30s 120ms/step - loss: 0.3917 - accuracy: 0.8200 - val_loss: 0.5198 - val_accuracy: 0.7535\n",
      "Epoch 16/25\n",
      "250/250 [==============================] - 29s 118ms/step - loss: 0.3757 - accuracy: 0.8303 - val_loss: 0.4388 - val_accuracy: 0.8005\n",
      "Epoch 17/25\n",
      "250/250 [==============================] - 29s 118ms/step - loss: 0.3720 - accuracy: 0.8275 - val_loss: 0.4723 - val_accuracy: 0.7855\n",
      "Epoch 18/25\n",
      "250/250 [==============================] - 30s 118ms/step - loss: 0.3564 - accuracy: 0.8389 - val_loss: 0.4898 - val_accuracy: 0.7765\n",
      "Epoch 19/25\n",
      "250/250 [==============================] - 30s 118ms/step - loss: 0.3504 - accuracy: 0.8435 - val_loss: 0.4785 - val_accuracy: 0.7915\n",
      "Epoch 20/25\n",
      "250/250 [==============================] - 30s 118ms/step - loss: 0.3389 - accuracy: 0.8521 - val_loss: 0.4473 - val_accuracy: 0.7965\n",
      "Epoch 21/25\n",
      "250/250 [==============================] - 29s 118ms/step - loss: 0.3355 - accuracy: 0.8476 - val_loss: 0.5328 - val_accuracy: 0.7840\n",
      "Epoch 22/25\n",
      "250/250 [==============================] - 30s 118ms/step - loss: 0.3257 - accuracy: 0.8549 - val_loss: 0.4758 - val_accuracy: 0.7960\n",
      "Epoch 23/25\n",
      "250/250 [==============================] - 29s 118ms/step - loss: 0.3204 - accuracy: 0.8627 - val_loss: 0.4490 - val_accuracy: 0.8085\n",
      "Epoch 24/25\n",
      "250/250 [==============================] - 30s 118ms/step - loss: 0.3047 - accuracy: 0.8666 - val_loss: 0.4506 - val_accuracy: 0.8000\n",
      "Epoch 25/25\n",
      "250/250 [==============================] - 30s 118ms/step - loss: 0.3055 - accuracy: 0.8643 - val_loss: 0.4576 - val_accuracy: 0.8055\n"
     ]
    },
    {
     "data": {
      "text/plain": [
       "<keras.src.callbacks.History at 0x2dd4b46ee90>"
      ]
     },
     "execution_count": 14,
     "metadata": {},
     "output_type": "execute_result"
    }
   ],
   "source": [
    "cnn.fit(x=training_set, validation_data=test_set, epochs=25 )"
   ]
  },
  {
   "cell_type": "markdown",
   "id": "4a4d236e",
   "metadata": {},
   "source": [
    "## Part 4 - Making a Single Prediction"
   ]
  },
  {
   "cell_type": "code",
   "execution_count": 15,
   "id": "7792d4a4",
   "metadata": {},
   "outputs": [],
   "source": [
    "import numpy as np\n",
    "from keras.preprocessing import image"
   ]
  },
  {
   "cell_type": "code",
   "execution_count": 65,
   "id": "a8cd2ee5",
   "metadata": {},
   "outputs": [],
   "source": [
    "test_image = image.load_img('../Data/cnn/single_prediction/cat_or_dog_8.jpg', target_size=(64, 64))\n",
    "test_image = image.img_to_array(test_image)\n",
    "test_image = np.expand_dims(test_image, axis=0)"
   ]
  },
  {
   "cell_type": "code",
   "execution_count": 66,
   "id": "c1acf225",
   "metadata": {},
   "outputs": [
    {
     "name": "stdout",
     "output_type": "stream",
     "text": [
      "1/1 [==============================] - 0s 19ms/step\n",
      "{'cats': 0, 'dogs': 1}\n"
     ]
    }
   ],
   "source": [
    "result = cnn.predict(test_image)\n",
    "training_set.class_indices\n",
    "print(training_set.class_indices)\n",
    "if result[0][0] == 1:\n",
    "    prediction = 'dog'\n",
    "else:\n",
    "    prediction = 'cat'"
   ]
  },
  {
   "cell_type": "code",
   "execution_count": 67,
   "id": "11b4ba52",
   "metadata": {},
   "outputs": [
    {
     "name": "stdout",
     "output_type": "stream",
     "text": [
      "cat\n"
     ]
    }
   ],
   "source": [
    "print(prediction)"
   ]
  },
  {
   "cell_type": "markdown",
   "id": "a86e32e7",
   "metadata": {},
   "source": [
    "Could I use a for loop and an if statement to loop through all of these? Make a lidt of names? "
   ]
  },
  {
   "cell_type": "code",
   "execution_count": null,
   "id": "928c0e92",
   "metadata": {},
   "outputs": [],
   "source": []
  }
 ],
 "metadata": {
  "kernelspec": {
   "display_name": "Python 3 (ipykernel)",
   "language": "python",
   "name": "python3"
  },
  "language_info": {
   "codemirror_mode": {
    "name": "ipython",
    "version": 3
   },
   "file_extension": ".py",
   "mimetype": "text/x-python",
   "name": "python",
   "nbconvert_exporter": "python",
   "pygments_lexer": "ipython3",
   "version": "3.11.5"
  }
 },
 "nbformat": 4,
 "nbformat_minor": 5
}
