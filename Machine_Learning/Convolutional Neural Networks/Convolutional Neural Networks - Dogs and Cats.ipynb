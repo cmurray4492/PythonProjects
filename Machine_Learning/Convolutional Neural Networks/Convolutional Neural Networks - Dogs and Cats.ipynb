{
 "cells": [
  {
   "cell_type": "markdown",
   "id": "3ad8d174",
   "metadata": {},
   "source": [
    "# Convolutional Neural Networks - Dogs and Cats"
   ]
  },
  {
   "cell_type": "code",
   "execution_count": 1,
   "id": "d999dc9a",
   "metadata": {},
   "outputs": [
    {
     "name": "stdout",
     "output_type": "stream",
     "text": [
      "WARNING:tensorflow:From C:\\Users\\South\\AppData\\Roaming\\Python\\Python311\\site-packages\\keras\\src\\losses.py:2976: The name tf.losses.sparse_softmax_cross_entropy is deprecated. Please use tf.compat.v1.losses.sparse_softmax_cross_entropy instead.\n",
      "\n"
     ]
    }
   ],
   "source": [
    "import numpy as np\n",
    "import pandas as pd\n",
    "import matplotlib.pyplot as plt\n",
    "import seaborn as sns\n",
    "import tensorflow as tf\n"
   ]
  },
  {
   "cell_type": "code",
   "execution_count": 2,
   "id": "71989211",
   "metadata": {},
   "outputs": [
    {
     "data": {
      "text/plain": [
       "'2.15.0'"
      ]
     },
     "execution_count": 2,
     "metadata": {},
     "output_type": "execute_result"
    }
   ],
   "source": [
    "tf.__version__"
   ]
  },
  {
   "cell_type": "code",
   "execution_count": 3,
   "id": "a1214732",
   "metadata": {},
   "outputs": [],
   "source": [
    "from keras.preprocessing.image import ImageDataGenerator"
   ]
  },
  {
   "cell_type": "markdown",
   "id": "24be1144",
   "metadata": {},
   "source": [
    "## Part 1 - Data Preprocessing"
   ]
  },
  {
   "cell_type": "markdown",
   "id": "23333c6c",
   "metadata": {},
   "source": [
    "### Preprocessing the Training Set"
   ]
  },
  {
   "cell_type": "code",
   "execution_count": 4,
   "id": "ecec5a9a",
   "metadata": {},
   "outputs": [
    {
     "name": "stdout",
     "output_type": "stream",
     "text": [
      "Found 8000 images belonging to 2 classes.\n"
     ]
    }
   ],
   "source": [
    "train_datagen = ImageDataGenerator(rescale = 1./255,\n",
    "                                  shear_range = 0.2,\n",
    "                                  zoom_range = 0.2,\n",
    "                                  horizontal_flip = True)\n",
    "\n",
    "training_set = train_datagen.flow_from_directory('../Data/cnn/training_set',\n",
    "                                                target_size = (64, 64),\n",
    "                                                batch_size = 32, \n",
    "                                                 class_mode = 'binary')"
   ]
  },
  {
   "cell_type": "markdown",
   "id": "e9010299",
   "metadata": {},
   "source": [
    "### Preprocessing the Test Set"
   ]
  },
  {
   "cell_type": "code",
   "execution_count": 5,
   "id": "37f9c717",
   "metadata": {},
   "outputs": [
    {
     "name": "stdout",
     "output_type": "stream",
     "text": [
      "Found 2000 images belonging to 2 classes.\n"
     ]
    }
   ],
   "source": [
    "test_datagen = ImageDataGenerator(rescale=1./255)\n",
    "\n",
    "test_set = test_datagen.flow_from_directory('../Data/cnn/test_set',\n",
    "                                           target_size=(64, 64),\n",
    "                                           batch_size=32,\n",
    "                                           class_mode='binary')"
   ]
  },
  {
   "cell_type": "markdown",
   "id": "19c72794",
   "metadata": {},
   "source": [
    "## Part 2 - Buildign the CNN"
   ]
  },
  {
   "cell_type": "markdown",
   "id": "e3628084",
   "metadata": {},
   "source": [
    "### Initializing the CNN"
   ]
  },
  {
   "cell_type": "code",
   "execution_count": 6,
   "id": "11707643",
   "metadata": {},
   "outputs": [
    {
     "name": "stdout",
     "output_type": "stream",
     "text": [
      "WARNING:tensorflow:From C:\\Users\\South\\AppData\\Roaming\\Python\\Python311\\site-packages\\keras\\src\\backend.py:873: The name tf.get_default_graph is deprecated. Please use tf.compat.v1.get_default_graph instead.\n",
      "\n"
     ]
    }
   ],
   "source": [
    "cnn = tf.keras.models.Sequential()"
   ]
  },
  {
   "cell_type": "markdown",
   "id": "3aa2e7c6",
   "metadata": {},
   "source": [
    "### Step 1 - Convoilution"
   ]
  },
  {
   "cell_type": "code",
   "execution_count": 7,
   "id": "dcf5c8bc",
   "metadata": {},
   "outputs": [],
   "source": [
    "cnn.add(tf.keras.layers.Conv2D(filters=32, kernel_size=3, activation='relu', input_shape=[64,64,3]))"
   ]
  },
  {
   "cell_type": "markdown",
   "id": "04a599d0",
   "metadata": {},
   "source": [
    "### Step 2 - Pooling"
   ]
  },
  {
   "cell_type": "code",
   "execution_count": 8,
   "id": "95b7e201",
   "metadata": {},
   "outputs": [
    {
     "name": "stdout",
     "output_type": "stream",
     "text": [
      "WARNING:tensorflow:From C:\\Users\\South\\AppData\\Roaming\\Python\\Python311\\site-packages\\keras\\src\\layers\\pooling\\max_pooling2d.py:161: The name tf.nn.max_pool is deprecated. Please use tf.nn.max_pool2d instead.\n",
      "\n"
     ]
    }
   ],
   "source": [
    "cnn.add(tf.keras.layers.MaxPool2D(pool_size=2, strides=2))"
   ]
  },
  {
   "cell_type": "markdown",
   "id": "0997ec8e",
   "metadata": {},
   "source": [
    "### Adding a Second Convolutional Layer"
   ]
  },
  {
   "cell_type": "code",
   "execution_count": 9,
   "id": "c0d47f8b",
   "metadata": {},
   "outputs": [],
   "source": [
    "cnn.add(tf.keras.layers.Conv2D(filters=32, kernel_size=3, activation='relu'))\n",
    "cnn.add(tf.keras.layers.MaxPool2D(pool_size=2, strides=2))"
   ]
  },
  {
   "cell_type": "markdown",
   "id": "2e0b954e",
   "metadata": {},
   "source": [
    "### Step 3 - Flattening"
   ]
  },
  {
   "cell_type": "code",
   "execution_count": 10,
   "id": "bde5ed45",
   "metadata": {},
   "outputs": [],
   "source": [
    "cnn.add(tf.keras.layers.Flatten())"
   ]
  },
  {
   "cell_type": "markdown",
   "id": "7bba19ce",
   "metadata": {},
   "source": [
    "### Step 4 Full Connection"
   ]
  },
  {
   "cell_type": "code",
   "execution_count": 11,
   "id": "a154d7eb",
   "metadata": {},
   "outputs": [],
   "source": [
    "cnn.add(tf.keras.layers.Dense(units=128, activation='relu'))"
   ]
  },
  {
   "cell_type": "markdown",
   "id": "5d8d47ab",
   "metadata": {},
   "source": [
    "### Step 5 Output Layer"
   ]
  },
  {
   "cell_type": "code",
   "execution_count": 12,
   "id": "50f525b6",
   "metadata": {},
   "outputs": [],
   "source": [
    "cnn.add(tf.keras.layers.Dense(units=1, activation='sigmoid'))"
   ]
  },
  {
   "cell_type": "markdown",
   "id": "d89f56f9",
   "metadata": {},
   "source": [
    "## Part 3 - Training the CNN"
   ]
  },
  {
   "cell_type": "markdown",
   "id": "96d7e704",
   "metadata": {},
   "source": [
    "### Compling the CNN"
   ]
  },
  {
   "cell_type": "code",
   "execution_count": 13,
   "id": "acddeb10",
   "metadata": {},
   "outputs": [
    {
     "name": "stdout",
     "output_type": "stream",
     "text": [
      "WARNING:tensorflow:From C:\\Users\\South\\AppData\\Roaming\\Python\\Python311\\site-packages\\keras\\src\\optimizers\\__init__.py:309: The name tf.train.Optimizer is deprecated. Please use tf.compat.v1.train.Optimizer instead.\n",
      "\n"
     ]
    }
   ],
   "source": [
    "cnn.compile(optimizer='adam', loss='binary_crossentropy', metrics=['accuracy'] )"
   ]
  },
  {
   "cell_type": "markdown",
   "id": "d01e4e7d",
   "metadata": {},
   "source": [
    "### Training the CNN on the Training set and evaluating it on the Test set"
   ]
  },
  {
   "cell_type": "code",
   "execution_count": 14,
   "id": "f37c0f92",
   "metadata": {},
   "outputs": [
    {
     "name": "stdout",
     "output_type": "stream",
     "text": [
      "Epoch 1/25\n",
      "WARNING:tensorflow:From C:\\Users\\South\\AppData\\Roaming\\Python\\Python311\\site-packages\\keras\\src\\utils\\tf_utils.py:492: The name tf.ragged.RaggedTensorValue is deprecated. Please use tf.compat.v1.ragged.RaggedTensorValue instead.\n",
      "\n",
      "WARNING:tensorflow:From C:\\Users\\South\\AppData\\Roaming\\Python\\Python311\\site-packages\\keras\\src\\engine\\base_layer_utils.py:384: The name tf.executing_eagerly_outside_functions is deprecated. Please use tf.compat.v1.executing_eagerly_outside_functions instead.\n",
      "\n",
      "250/250 [==============================] - 31s 122ms/step - loss: 0.6827 - accuracy: 0.5636 - val_loss: 0.6662 - val_accuracy: 0.5750\n",
      "Epoch 2/25\n",
      "250/250 [==============================] - 30s 120ms/step - loss: 0.6414 - accuracy: 0.6381 - val_loss: 0.6207 - val_accuracy: 0.6795\n",
      "Epoch 3/25\n",
      "250/250 [==============================] - 30s 121ms/step - loss: 0.5960 - accuracy: 0.6811 - val_loss: 0.5581 - val_accuracy: 0.7300\n",
      "Epoch 4/25\n",
      "250/250 [==============================] - 30s 121ms/step - loss: 0.5708 - accuracy: 0.7021 - val_loss: 0.5380 - val_accuracy: 0.7340\n",
      "Epoch 5/25\n",
      "250/250 [==============================] - 30s 120ms/step - loss: 0.5336 - accuracy: 0.7278 - val_loss: 0.5879 - val_accuracy: 0.6795\n",
      "Epoch 6/25\n",
      "250/250 [==============================] - 30s 120ms/step - loss: 0.5125 - accuracy: 0.7454 - val_loss: 0.5224 - val_accuracy: 0.7570\n",
      "Epoch 7/25\n",
      "250/250 [==============================] - 30s 120ms/step - loss: 0.4862 - accuracy: 0.7674 - val_loss: 0.5020 - val_accuracy: 0.7645\n",
      "Epoch 8/25\n",
      "250/250 [==============================] - 31s 125ms/step - loss: 0.4640 - accuracy: 0.7768 - val_loss: 0.4839 - val_accuracy: 0.7750\n",
      "Epoch 9/25\n",
      "250/250 [==============================] - 30s 122ms/step - loss: 0.4453 - accuracy: 0.7874 - val_loss: 0.5335 - val_accuracy: 0.7510\n",
      "Epoch 10/25\n",
      "250/250 [==============================] - 30s 121ms/step - loss: 0.4323 - accuracy: 0.8026 - val_loss: 0.4799 - val_accuracy: 0.7825\n",
      "Epoch 11/25\n",
      "250/250 [==============================] - 31s 122ms/step - loss: 0.4159 - accuracy: 0.8094 - val_loss: 0.4918 - val_accuracy: 0.7755\n",
      "Epoch 12/25\n",
      "250/250 [==============================] - 30s 122ms/step - loss: 0.3940 - accuracy: 0.8220 - val_loss: 0.5057 - val_accuracy: 0.7585\n",
      "Epoch 13/25\n",
      "250/250 [==============================] - 30s 121ms/step - loss: 0.3765 - accuracy: 0.8292 - val_loss: 0.4694 - val_accuracy: 0.7940\n",
      "Epoch 14/25\n",
      "250/250 [==============================] - 30s 121ms/step - loss: 0.3553 - accuracy: 0.8436 - val_loss: 0.4985 - val_accuracy: 0.7695\n",
      "Epoch 15/25\n",
      "250/250 [==============================] - 31s 124ms/step - loss: 0.3473 - accuracy: 0.8472 - val_loss: 0.5129 - val_accuracy: 0.7725\n",
      "Epoch 16/25\n",
      "250/250 [==============================] - 30s 122ms/step - loss: 0.3230 - accuracy: 0.8560 - val_loss: 0.5027 - val_accuracy: 0.7835\n",
      "Epoch 17/25\n",
      "250/250 [==============================] - 30s 121ms/step - loss: 0.3116 - accuracy: 0.8652 - val_loss: 0.5055 - val_accuracy: 0.7825\n",
      "Epoch 18/25\n",
      "250/250 [==============================] - 30s 121ms/step - loss: 0.2890 - accuracy: 0.8755 - val_loss: 0.5690 - val_accuracy: 0.7685\n",
      "Epoch 19/25\n",
      "250/250 [==============================] - 30s 121ms/step - loss: 0.2580 - accuracy: 0.8865 - val_loss: 0.5569 - val_accuracy: 0.7810\n",
      "Epoch 20/25\n",
      "250/250 [==============================] - 30s 122ms/step - loss: 0.2584 - accuracy: 0.8961 - val_loss: 0.5627 - val_accuracy: 0.7795\n",
      "Epoch 21/25\n",
      "250/250 [==============================] - 31s 124ms/step - loss: 0.2455 - accuracy: 0.8985 - val_loss: 0.6118 - val_accuracy: 0.7825\n",
      "Epoch 22/25\n",
      "250/250 [==============================] - 31s 123ms/step - loss: 0.2156 - accuracy: 0.9110 - val_loss: 0.6227 - val_accuracy: 0.7725\n",
      "Epoch 23/25\n",
      "250/250 [==============================] - 30s 121ms/step - loss: 0.2057 - accuracy: 0.9187 - val_loss: 0.5847 - val_accuracy: 0.7890\n",
      "Epoch 24/25\n",
      "250/250 [==============================] - 30s 121ms/step - loss: 0.1990 - accuracy: 0.9194 - val_loss: 0.5990 - val_accuracy: 0.7960\n",
      "Epoch 25/25\n",
      "250/250 [==============================] - 30s 121ms/step - loss: 0.1821 - accuracy: 0.9294 - val_loss: 0.6417 - val_accuracy: 0.7760\n"
     ]
    },
    {
     "data": {
      "text/plain": [
       "<keras.src.callbacks.History at 0x1ae8d509f10>"
      ]
     },
     "execution_count": 14,
     "metadata": {},
     "output_type": "execute_result"
    }
   ],
   "source": [
    "cnn.fit(x=training_set, validation_data=test_set, epochs=25 )"
   ]
  },
  {
   "cell_type": "markdown",
   "id": "4a4d236e",
   "metadata": {},
   "source": [
    "## Part 4 - Making a Single Prediction"
   ]
  },
  {
   "cell_type": "code",
   "execution_count": null,
   "id": "7792d4a4",
   "metadata": {},
   "outputs": [],
   "source": []
  }
 ],
 "metadata": {
  "kernelspec": {
   "display_name": "Python 3 (ipykernel)",
   "language": "python",
   "name": "python3"
  },
  "language_info": {
   "codemirror_mode": {
    "name": "ipython",
    "version": 3
   },
   "file_extension": ".py",
   "mimetype": "text/x-python",
   "name": "python",
   "nbconvert_exporter": "python",
   "pygments_lexer": "ipython3",
   "version": "3.11.5"
  }
 },
 "nbformat": 4,
 "nbformat_minor": 5
}
