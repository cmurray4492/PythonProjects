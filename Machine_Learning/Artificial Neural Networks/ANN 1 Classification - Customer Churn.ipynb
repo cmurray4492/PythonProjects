{
 "cells": [
  {
   "cell_type": "markdown",
   "id": "74b3a040",
   "metadata": {},
   "source": [
    "# ANN 1 Classification - Customer Churn"
   ]
  },
  {
   "cell_type": "code",
   "execution_count": 1,
   "id": "41f35e28",
   "metadata": {},
   "outputs": [
    {
     "name": "stdout",
     "output_type": "stream",
     "text": [
      "WARNING:tensorflow:From C:\\Users\\South\\AppData\\Roaming\\Python\\Python311\\site-packages\\keras\\src\\losses.py:2976: The name tf.losses.sparse_softmax_cross_entropy is deprecated. Please use tf.compat.v1.losses.sparse_softmax_cross_entropy instead.\n",
      "\n"
     ]
    }
   ],
   "source": [
    "import numpy as np\n",
    "import pandas as pd\n",
    "import tensorflow as tf"
   ]
  },
  {
   "cell_type": "code",
   "execution_count": 2,
   "id": "274fcd36",
   "metadata": {},
   "outputs": [
    {
     "data": {
      "text/plain": [
       "'2.15.0'"
      ]
     },
     "execution_count": 2,
     "metadata": {},
     "output_type": "execute_result"
    }
   ],
   "source": [
    "tf.__version__"
   ]
  },
  {
   "cell_type": "markdown",
   "id": "d3aeaf10",
   "metadata": {},
   "source": [
    "## Part 1 - Data Preprocessing"
   ]
  },
  {
   "cell_type": "markdown",
   "id": "1b3c7d5c",
   "metadata": {},
   "source": [
    "### Importing the dataset"
   ]
  },
  {
   "cell_type": "code",
   "execution_count": 3,
   "id": "ed2e6489",
   "metadata": {},
   "outputs": [
    {
     "data": {
      "text/html": [
       "<div>\n",
       "<style scoped>\n",
       "    .dataframe tbody tr th:only-of-type {\n",
       "        vertical-align: middle;\n",
       "    }\n",
       "\n",
       "    .dataframe tbody tr th {\n",
       "        vertical-align: top;\n",
       "    }\n",
       "\n",
       "    .dataframe thead th {\n",
       "        text-align: right;\n",
       "    }\n",
       "</style>\n",
       "<table border=\"1\" class=\"dataframe\">\n",
       "  <thead>\n",
       "    <tr style=\"text-align: right;\">\n",
       "      <th></th>\n",
       "      <th>RowNumber</th>\n",
       "      <th>CustomerId</th>\n",
       "      <th>Surname</th>\n",
       "      <th>CreditScore</th>\n",
       "      <th>Geography</th>\n",
       "      <th>Gender</th>\n",
       "      <th>Age</th>\n",
       "      <th>Tenure</th>\n",
       "      <th>Balance</th>\n",
       "      <th>NumOfProducts</th>\n",
       "      <th>HasCrCard</th>\n",
       "      <th>IsActiveMember</th>\n",
       "      <th>EstimatedSalary</th>\n",
       "      <th>Exited</th>\n",
       "    </tr>\n",
       "  </thead>\n",
       "  <tbody>\n",
       "    <tr>\n",
       "      <th>0</th>\n",
       "      <td>1</td>\n",
       "      <td>15634602</td>\n",
       "      <td>Hargrave</td>\n",
       "      <td>619</td>\n",
       "      <td>France</td>\n",
       "      <td>Female</td>\n",
       "      <td>42</td>\n",
       "      <td>2</td>\n",
       "      <td>0.00</td>\n",
       "      <td>1</td>\n",
       "      <td>1</td>\n",
       "      <td>1</td>\n",
       "      <td>101348.88</td>\n",
       "      <td>1</td>\n",
       "    </tr>\n",
       "    <tr>\n",
       "      <th>1</th>\n",
       "      <td>2</td>\n",
       "      <td>15647311</td>\n",
       "      <td>Hill</td>\n",
       "      <td>608</td>\n",
       "      <td>Spain</td>\n",
       "      <td>Female</td>\n",
       "      <td>41</td>\n",
       "      <td>1</td>\n",
       "      <td>83807.86</td>\n",
       "      <td>1</td>\n",
       "      <td>0</td>\n",
       "      <td>1</td>\n",
       "      <td>112542.58</td>\n",
       "      <td>0</td>\n",
       "    </tr>\n",
       "    <tr>\n",
       "      <th>2</th>\n",
       "      <td>3</td>\n",
       "      <td>15619304</td>\n",
       "      <td>Onio</td>\n",
       "      <td>502</td>\n",
       "      <td>France</td>\n",
       "      <td>Female</td>\n",
       "      <td>42</td>\n",
       "      <td>8</td>\n",
       "      <td>159660.80</td>\n",
       "      <td>3</td>\n",
       "      <td>1</td>\n",
       "      <td>0</td>\n",
       "      <td>113931.57</td>\n",
       "      <td>1</td>\n",
       "    </tr>\n",
       "    <tr>\n",
       "      <th>3</th>\n",
       "      <td>4</td>\n",
       "      <td>15701354</td>\n",
       "      <td>Boni</td>\n",
       "      <td>699</td>\n",
       "      <td>France</td>\n",
       "      <td>Female</td>\n",
       "      <td>39</td>\n",
       "      <td>1</td>\n",
       "      <td>0.00</td>\n",
       "      <td>2</td>\n",
       "      <td>0</td>\n",
       "      <td>0</td>\n",
       "      <td>93826.63</td>\n",
       "      <td>0</td>\n",
       "    </tr>\n",
       "    <tr>\n",
       "      <th>4</th>\n",
       "      <td>5</td>\n",
       "      <td>15737888</td>\n",
       "      <td>Mitchell</td>\n",
       "      <td>850</td>\n",
       "      <td>Spain</td>\n",
       "      <td>Female</td>\n",
       "      <td>43</td>\n",
       "      <td>2</td>\n",
       "      <td>125510.82</td>\n",
       "      <td>1</td>\n",
       "      <td>1</td>\n",
       "      <td>1</td>\n",
       "      <td>79084.10</td>\n",
       "      <td>0</td>\n",
       "    </tr>\n",
       "  </tbody>\n",
       "</table>\n",
       "</div>"
      ],
      "text/plain": [
       "   RowNumber  CustomerId   Surname  CreditScore Geography  Gender  Age  \\\n",
       "0          1    15634602  Hargrave          619    France  Female   42   \n",
       "1          2    15647311      Hill          608     Spain  Female   41   \n",
       "2          3    15619304      Onio          502    France  Female   42   \n",
       "3          4    15701354      Boni          699    France  Female   39   \n",
       "4          5    15737888  Mitchell          850     Spain  Female   43   \n",
       "\n",
       "   Tenure    Balance  NumOfProducts  HasCrCard  IsActiveMember  \\\n",
       "0       2       0.00              1          1               1   \n",
       "1       1   83807.86              1          0               1   \n",
       "2       8  159660.80              3          1               0   \n",
       "3       1       0.00              2          0               0   \n",
       "4       2  125510.82              1          1               1   \n",
       "\n",
       "   EstimatedSalary  Exited  \n",
       "0        101348.88       1  \n",
       "1        112542.58       0  \n",
       "2        113931.57       1  \n",
       "3         93826.63       0  \n",
       "4         79084.10       0  "
      ]
     },
     "execution_count": 3,
     "metadata": {},
     "output_type": "execute_result"
    }
   ],
   "source": [
    "dataset = pd.read_csv('../Data/Churn_Modelling.csv')\n",
    "dataset.head()"
   ]
  },
  {
   "cell_type": "code",
   "execution_count": 4,
   "id": "8ecddf00",
   "metadata": {},
   "outputs": [],
   "source": [
    "X = dataset.iloc[:, 3:-1].values\n",
    "y = dataset.iloc[:, -1].values"
   ]
  },
  {
   "cell_type": "code",
   "execution_count": 5,
   "id": "eb455adf",
   "metadata": {},
   "outputs": [
    {
     "name": "stdout",
     "output_type": "stream",
     "text": [
      "[[619 'France' 'Female' ... 1 1 101348.88]\n",
      " [608 'Spain' 'Female' ... 0 1 112542.58]\n",
      " [502 'France' 'Female' ... 1 0 113931.57]\n",
      " ...\n",
      " [709 'France' 'Female' ... 0 1 42085.58]\n",
      " [772 'Germany' 'Male' ... 1 0 92888.52]\n",
      " [792 'France' 'Female' ... 1 0 38190.78]]\n"
     ]
    }
   ],
   "source": [
    "print(X)"
   ]
  },
  {
   "cell_type": "code",
   "execution_count": 6,
   "id": "e9401204",
   "metadata": {},
   "outputs": [
    {
     "name": "stdout",
     "output_type": "stream",
     "text": [
      "[1 0 1 ... 1 1 0]\n"
     ]
    }
   ],
   "source": [
    "print(y)"
   ]
  },
  {
   "cell_type": "markdown",
   "id": "1b52dc10",
   "metadata": {},
   "source": [
    "## Encoding Castegorical Data"
   ]
  },
  {
   "cell_type": "markdown",
   "id": "4c225d41",
   "metadata": {},
   "source": [
    "### Label Encoding the \"Gender\" Column"
   ]
  },
  {
   "cell_type": "code",
   "execution_count": 7,
   "id": "17217b50",
   "metadata": {},
   "outputs": [],
   "source": [
    "from sklearn.preprocessing import LabelEncoder\n",
    "le = LabelEncoder()\n",
    "X[:, 2] = le.fit_transform(X[:, 2])"
   ]
  },
  {
   "cell_type": "code",
   "execution_count": 8,
   "id": "e05044eb",
   "metadata": {},
   "outputs": [
    {
     "name": "stdout",
     "output_type": "stream",
     "text": [
      "[[619 'France' 0 ... 1 1 101348.88]\n",
      " [608 'Spain' 0 ... 0 1 112542.58]\n",
      " [502 'France' 0 ... 1 0 113931.57]\n",
      " ...\n",
      " [709 'France' 0 ... 0 1 42085.58]\n",
      " [772 'Germany' 1 ... 1 0 92888.52]\n",
      " [792 'France' 0 ... 1 0 38190.78]]\n"
     ]
    }
   ],
   "source": [
    "print(X)"
   ]
  },
  {
   "cell_type": "markdown",
   "id": "4f03bb91",
   "metadata": {},
   "source": [
    "### One Hot Encoding the \"Geography\" Column"
   ]
  },
  {
   "cell_type": "code",
   "execution_count": 9,
   "id": "57767f60",
   "metadata": {},
   "outputs": [],
   "source": [
    "from sklearn.compose import ColumnTransformer\n",
    "from sklearn.preprocessing import OneHotEncoder\n",
    "ct = ColumnTransformer(transformers=[('encoder', OneHotEncoder(), [1])], remainder='passthrough')\n",
    "X = np.array(ct.fit_transform(X))"
   ]
  },
  {
   "cell_type": "code",
   "execution_count": 10,
   "id": "b6d75c1a",
   "metadata": {},
   "outputs": [
    {
     "name": "stdout",
     "output_type": "stream",
     "text": [
      "[[1.0 0.0 0.0 ... 1 1 101348.88]\n",
      " [0.0 0.0 1.0 ... 0 1 112542.58]\n",
      " [1.0 0.0 0.0 ... 1 0 113931.57]\n",
      " ...\n",
      " [1.0 0.0 0.0 ... 0 1 42085.58]\n",
      " [0.0 1.0 0.0 ... 1 0 92888.52]\n",
      " [1.0 0.0 0.0 ... 1 0 38190.78]]\n"
     ]
    }
   ],
   "source": [
    "print(X)"
   ]
  },
  {
   "cell_type": "markdown",
   "id": "3bdace3d",
   "metadata": {},
   "source": [
    "### Training Test Split"
   ]
  },
  {
   "cell_type": "code",
   "execution_count": 11,
   "id": "4b2e526e",
   "metadata": {},
   "outputs": [],
   "source": [
    "from sklearn.model_selection import train_test_split\n",
    "X_train, X_test, y_train, y_test = train_test_split(X, y, test_size = 0.2, random_state = 0)"
   ]
  },
  {
   "cell_type": "markdown",
   "id": "29f97004",
   "metadata": {},
   "source": [
    "### Feature Scaling"
   ]
  },
  {
   "cell_type": "code",
   "execution_count": 12,
   "id": "ec820d7e",
   "metadata": {},
   "outputs": [],
   "source": [
    "from sklearn.preprocessing import StandardScaler\n",
    "sc = StandardScaler()\n",
    "X_train = sc.fit_transform(X_train)\n",
    "X_test = sc.transform(X_test)"
   ]
  },
  {
   "cell_type": "markdown",
   "id": "5a26d90a",
   "metadata": {},
   "source": [
    "## Part 2 - Building the ANN"
   ]
  },
  {
   "cell_type": "markdown",
   "id": "12038cf6",
   "metadata": {},
   "source": [
    "### Initializing the ANN"
   ]
  },
  {
   "cell_type": "code",
   "execution_count": 13,
   "id": "63e8df7d",
   "metadata": {},
   "outputs": [
    {
     "name": "stdout",
     "output_type": "stream",
     "text": [
      "WARNING:tensorflow:From C:\\Users\\South\\AppData\\Roaming\\Python\\Python311\\site-packages\\keras\\src\\backend.py:873: The name tf.get_default_graph is deprecated. Please use tf.compat.v1.get_default_graph instead.\n",
      "\n"
     ]
    }
   ],
   "source": [
    "ann = tf.keras.models.Sequential()"
   ]
  },
  {
   "cell_type": "markdown",
   "id": "c15edce6",
   "metadata": {},
   "source": [
    "### Adding the input layer and the first hidden layer"
   ]
  },
  {
   "cell_type": "code",
   "execution_count": 14,
   "id": "94fe97e3",
   "metadata": {},
   "outputs": [],
   "source": [
    "ann.add(tf.keras.layers.Dense(units=8, activation='relu'))"
   ]
  },
  {
   "cell_type": "markdown",
   "id": "bf22d850",
   "metadata": {},
   "source": [
    "### Adding the second hidden layer"
   ]
  },
  {
   "cell_type": "code",
   "execution_count": 15,
   "id": "637e9390",
   "metadata": {},
   "outputs": [],
   "source": [
    "ann.add(tf.keras.layers.Dense(units=8, activation='relu'))"
   ]
  },
  {
   "cell_type": "markdown",
   "id": "59a65944",
   "metadata": {},
   "source": [
    "### Adding the Output Layer"
   ]
  },
  {
   "cell_type": "code",
   "execution_count": 16,
   "id": "2e8c4126",
   "metadata": {},
   "outputs": [],
   "source": [
    "ann.add(tf.keras.layers.Dense(units=1, activation='sigmoid'))"
   ]
  },
  {
   "cell_type": "markdown",
   "id": "cc71f2ea",
   "metadata": {},
   "source": [
    "## Part 3 - Training the ANN"
   ]
  },
  {
   "cell_type": "markdown",
   "id": "2717de43",
   "metadata": {},
   "source": [
    "### Compling the ANN"
   ]
  },
  {
   "cell_type": "code",
   "execution_count": 17,
   "id": "735faac0",
   "metadata": {},
   "outputs": [
    {
     "name": "stdout",
     "output_type": "stream",
     "text": [
      "WARNING:tensorflow:From C:\\Users\\South\\AppData\\Roaming\\Python\\Python311\\site-packages\\keras\\src\\optimizers\\__init__.py:309: The name tf.train.Optimizer is deprecated. Please use tf.compat.v1.train.Optimizer instead.\n",
      "\n"
     ]
    }
   ],
   "source": [
    "ann.compile(optimizer = 'adam', loss = 'binary_crossentropy', metrics = ['accuracy'])"
   ]
  },
  {
   "cell_type": "markdown",
   "id": "8aa480d6",
   "metadata": {},
   "source": [
    "### Training the ANN on the Training Set"
   ]
  },
  {
   "cell_type": "code",
   "execution_count": 18,
   "id": "da165a2c",
   "metadata": {},
   "outputs": [
    {
     "name": "stdout",
     "output_type": "stream",
     "text": [
      "Epoch 1/100\n",
      "WARNING:tensorflow:From C:\\Users\\South\\AppData\\Roaming\\Python\\Python311\\site-packages\\keras\\src\\utils\\tf_utils.py:492: The name tf.ragged.RaggedTensorValue is deprecated. Please use tf.compat.v1.ragged.RaggedTensorValue instead.\n",
      "\n",
      "WARNING:tensorflow:From C:\\Users\\South\\AppData\\Roaming\\Python\\Python311\\site-packages\\keras\\src\\engine\\base_layer_utils.py:384: The name tf.executing_eagerly_outside_functions is deprecated. Please use tf.compat.v1.executing_eagerly_outside_functions instead.\n",
      "\n",
      "250/250 [==============================] - 1s 1ms/step - loss: 0.5837 - accuracy: 0.6867\n",
      "Epoch 2/100\n",
      "250/250 [==============================] - 0s 990us/step - loss: 0.4674 - accuracy: 0.7975\n",
      "Epoch 3/100\n",
      "250/250 [==============================] - 0s 997us/step - loss: 0.4432 - accuracy: 0.8052\n",
      "Epoch 4/100\n",
      "250/250 [==============================] - 0s 1ms/step - loss: 0.4315 - accuracy: 0.8092\n",
      "Epoch 5/100\n",
      "250/250 [==============================] - 0s 1ms/step - loss: 0.4238 - accuracy: 0.8164\n",
      "Epoch 6/100\n",
      "250/250 [==============================] - 0s 995us/step - loss: 0.4183 - accuracy: 0.8217\n",
      "Epoch 7/100\n",
      "250/250 [==============================] - 0s 997us/step - loss: 0.4133 - accuracy: 0.8227\n",
      "Epoch 8/100\n",
      "250/250 [==============================] - 0s 983us/step - loss: 0.4086 - accuracy: 0.8269\n",
      "Epoch 9/100\n",
      "250/250 [==============================] - 0s 966us/step - loss: 0.4034 - accuracy: 0.8280\n",
      "Epoch 10/100\n",
      "250/250 [==============================] - 0s 972us/step - loss: 0.3981 - accuracy: 0.8294\n",
      "Epoch 11/100\n",
      "250/250 [==============================] - 0s 996us/step - loss: 0.3909 - accuracy: 0.8329\n",
      "Epoch 12/100\n",
      "250/250 [==============================] - 0s 971us/step - loss: 0.3818 - accuracy: 0.8406\n",
      "Epoch 13/100\n",
      "250/250 [==============================] - 0s 973us/step - loss: 0.3722 - accuracy: 0.8481\n",
      "Epoch 14/100\n",
      "250/250 [==============================] - 0s 965us/step - loss: 0.3657 - accuracy: 0.8526\n",
      "Epoch 15/100\n",
      "250/250 [==============================] - 0s 968us/step - loss: 0.3607 - accuracy: 0.8555\n",
      "Epoch 16/100\n",
      "250/250 [==============================] - 0s 968us/step - loss: 0.3568 - accuracy: 0.8561\n",
      "Epoch 17/100\n",
      "250/250 [==============================] - 0s 966us/step - loss: 0.3545 - accuracy: 0.8568\n",
      "Epoch 18/100\n",
      "250/250 [==============================] - 0s 980us/step - loss: 0.3523 - accuracy: 0.8589\n",
      "Epoch 19/100\n",
      "250/250 [==============================] - 0s 982us/step - loss: 0.3502 - accuracy: 0.8576\n",
      "Epoch 20/100\n",
      "250/250 [==============================] - 0s 1ms/step - loss: 0.3487 - accuracy: 0.8596\n",
      "Epoch 21/100\n",
      "250/250 [==============================] - 0s 974us/step - loss: 0.3471 - accuracy: 0.8589\n",
      "Epoch 22/100\n",
      "250/250 [==============================] - 0s 964us/step - loss: 0.3467 - accuracy: 0.8602\n",
      "Epoch 23/100\n",
      "250/250 [==============================] - 0s 969us/step - loss: 0.3456 - accuracy: 0.8605\n",
      "Epoch 24/100\n",
      "250/250 [==============================] - 0s 964us/step - loss: 0.3448 - accuracy: 0.8615\n",
      "Epoch 25/100\n",
      "250/250 [==============================] - 0s 986us/step - loss: 0.3441 - accuracy: 0.8618\n",
      "Epoch 26/100\n",
      "250/250 [==============================] - 0s 999us/step - loss: 0.3436 - accuracy: 0.8624\n",
      "Epoch 27/100\n",
      "250/250 [==============================] - 0s 985us/step - loss: 0.3431 - accuracy: 0.8627\n",
      "Epoch 28/100\n",
      "250/250 [==============================] - 0s 998us/step - loss: 0.3432 - accuracy: 0.8619\n",
      "Epoch 29/100\n",
      "250/250 [==============================] - 0s 1ms/step - loss: 0.3426 - accuracy: 0.8612\n",
      "Epoch 30/100\n",
      "250/250 [==============================] - 0s 974us/step - loss: 0.3425 - accuracy: 0.8627\n",
      "Epoch 31/100\n",
      "250/250 [==============================] - 0s 981us/step - loss: 0.3422 - accuracy: 0.8616\n",
      "Epoch 32/100\n",
      "250/250 [==============================] - 0s 977us/step - loss: 0.3422 - accuracy: 0.8610\n",
      "Epoch 33/100\n",
      "250/250 [==============================] - 0s 971us/step - loss: 0.3419 - accuracy: 0.8604\n",
      "Epoch 34/100\n",
      "250/250 [==============================] - 0s 971us/step - loss: 0.3412 - accuracy: 0.8622\n",
      "Epoch 35/100\n",
      "250/250 [==============================] - 0s 976us/step - loss: 0.3415 - accuracy: 0.8618\n",
      "Epoch 36/100\n",
      "250/250 [==============================] - 0s 976us/step - loss: 0.3409 - accuracy: 0.8606\n",
      "Epoch 37/100\n",
      "250/250 [==============================] - 0s 973us/step - loss: 0.3402 - accuracy: 0.8622\n",
      "Epoch 38/100\n",
      "250/250 [==============================] - 0s 979us/step - loss: 0.3408 - accuracy: 0.8640\n",
      "Epoch 39/100\n",
      "250/250 [==============================] - 0s 970us/step - loss: 0.3402 - accuracy: 0.8624\n",
      "Epoch 40/100\n",
      "250/250 [==============================] - 0s 975us/step - loss: 0.3402 - accuracy: 0.8634\n",
      "Epoch 41/100\n",
      "250/250 [==============================] - 0s 986us/step - loss: 0.3398 - accuracy: 0.8619\n",
      "Epoch 42/100\n",
      "250/250 [==============================] - 0s 952us/step - loss: 0.3400 - accuracy: 0.8612\n",
      "Epoch 43/100\n",
      "250/250 [==============================] - 0s 972us/step - loss: 0.3391 - accuracy: 0.8629\n",
      "Epoch 44/100\n",
      "250/250 [==============================] - 0s 968us/step - loss: 0.3390 - accuracy: 0.8624\n",
      "Epoch 45/100\n",
      "250/250 [==============================] - 0s 963us/step - loss: 0.3392 - accuracy: 0.8619\n",
      "Epoch 46/100\n",
      "250/250 [==============================] - 0s 965us/step - loss: 0.3387 - accuracy: 0.8626\n",
      "Epoch 47/100\n",
      "250/250 [==============================] - 0s 962us/step - loss: 0.3391 - accuracy: 0.8627\n",
      "Epoch 48/100\n",
      "250/250 [==============================] - 0s 985us/step - loss: 0.3387 - accuracy: 0.8624\n",
      "Epoch 49/100\n",
      "250/250 [==============================] - 0s 1ms/step - loss: 0.3381 - accuracy: 0.8626\n",
      "Epoch 50/100\n",
      "250/250 [==============================] - 0s 961us/step - loss: 0.3386 - accuracy: 0.8630\n",
      "Epoch 51/100\n",
      "250/250 [==============================] - 0s 964us/step - loss: 0.3383 - accuracy: 0.8627\n",
      "Epoch 52/100\n",
      "250/250 [==============================] - 0s 968us/step - loss: 0.3381 - accuracy: 0.8621\n",
      "Epoch 53/100\n",
      "250/250 [==============================] - 0s 1ms/step - loss: 0.3377 - accuracy: 0.8616\n",
      "Epoch 54/100\n",
      "250/250 [==============================] - 0s 966us/step - loss: 0.3379 - accuracy: 0.8622\n",
      "Epoch 55/100\n",
      "250/250 [==============================] - 0s 964us/step - loss: 0.3374 - accuracy: 0.8629\n",
      "Epoch 56/100\n",
      "250/250 [==============================] - 0s 979us/step - loss: 0.3378 - accuracy: 0.8629\n",
      "Epoch 57/100\n",
      "250/250 [==============================] - 0s 967us/step - loss: 0.3370 - accuracy: 0.8646\n",
      "Epoch 58/100\n",
      "250/250 [==============================] - 0s 961us/step - loss: 0.3371 - accuracy: 0.8626\n",
      "Epoch 59/100\n",
      "250/250 [==============================] - 0s 968us/step - loss: 0.3376 - accuracy: 0.8626\n",
      "Epoch 60/100\n",
      "250/250 [==============================] - 0s 983us/step - loss: 0.3372 - accuracy: 0.8627\n",
      "Epoch 61/100\n",
      "250/250 [==============================] - 0s 1ms/step - loss: 0.3370 - accuracy: 0.8614\n",
      "Epoch 62/100\n",
      "250/250 [==============================] - 0s 969us/step - loss: 0.3369 - accuracy: 0.8637\n",
      "Epoch 63/100\n",
      "250/250 [==============================] - 0s 985us/step - loss: 0.3371 - accuracy: 0.8625\n",
      "Epoch 64/100\n",
      "250/250 [==============================] - 0s 980us/step - loss: 0.3364 - accuracy: 0.8649\n",
      "Epoch 65/100\n",
      "250/250 [==============================] - 0s 962us/step - loss: 0.3361 - accuracy: 0.8627\n",
      "Epoch 66/100\n",
      "250/250 [==============================] - 0s 967us/step - loss: 0.3364 - accuracy: 0.8627\n",
      "Epoch 67/100\n",
      "250/250 [==============================] - 0s 968us/step - loss: 0.3366 - accuracy: 0.8614\n",
      "Epoch 68/100\n",
      "250/250 [==============================] - 0s 958us/step - loss: 0.3363 - accuracy: 0.8624\n",
      "Epoch 69/100\n",
      "250/250 [==============================] - 0s 962us/step - loss: 0.3359 - accuracy: 0.8633\n",
      "Epoch 70/100\n",
      "250/250 [==============================] - 0s 968us/step - loss: 0.3364 - accuracy: 0.8627\n",
      "Epoch 71/100\n",
      "250/250 [==============================] - 0s 997us/step - loss: 0.3359 - accuracy: 0.8631\n",
      "Epoch 72/100\n",
      "250/250 [==============================] - 0s 964us/step - loss: 0.3359 - accuracy: 0.8616\n",
      "Epoch 73/100\n",
      "250/250 [==============================] - 0s 967us/step - loss: 0.3359 - accuracy: 0.8625\n",
      "Epoch 74/100\n",
      "250/250 [==============================] - 0s 976us/step - loss: 0.3358 - accuracy: 0.8630\n",
      "Epoch 75/100\n"
     ]
    },
    {
     "name": "stdout",
     "output_type": "stream",
     "text": [
      "250/250 [==============================] - 0s 968us/step - loss: 0.3359 - accuracy: 0.8635\n",
      "Epoch 76/100\n",
      "250/250 [==============================] - 0s 966us/step - loss: 0.3358 - accuracy: 0.8634\n",
      "Epoch 77/100\n",
      "250/250 [==============================] - 0s 966us/step - loss: 0.3359 - accuracy: 0.8637\n",
      "Epoch 78/100\n",
      "250/250 [==============================] - 0s 971us/step - loss: 0.3357 - accuracy: 0.8636\n",
      "Epoch 79/100\n",
      "250/250 [==============================] - 0s 966us/step - loss: 0.3356 - accuracy: 0.8630\n",
      "Epoch 80/100\n",
      "250/250 [==============================] - 0s 1ms/step - loss: 0.3354 - accuracy: 0.8616\n",
      "Epoch 81/100\n",
      "250/250 [==============================] - 0s 967us/step - loss: 0.3358 - accuracy: 0.8629\n",
      "Epoch 82/100\n",
      "250/250 [==============================] - 0s 967us/step - loss: 0.3355 - accuracy: 0.8631\n",
      "Epoch 83/100\n",
      "250/250 [==============================] - 0s 963us/step - loss: 0.3345 - accuracy: 0.8629\n",
      "Epoch 84/100\n",
      "250/250 [==============================] - 0s 959us/step - loss: 0.3356 - accuracy: 0.8620\n",
      "Epoch 85/100\n",
      "250/250 [==============================] - 0s 959us/step - loss: 0.3350 - accuracy: 0.8615\n",
      "Epoch 86/100\n",
      "250/250 [==============================] - 0s 972us/step - loss: 0.3348 - accuracy: 0.8645\n",
      "Epoch 87/100\n",
      "250/250 [==============================] - 0s 969us/step - loss: 0.3350 - accuracy: 0.8637\n",
      "Epoch 88/100\n",
      "250/250 [==============================] - 0s 966us/step - loss: 0.3348 - accuracy: 0.8634\n",
      "Epoch 89/100\n",
      "250/250 [==============================] - 0s 974us/step - loss: 0.3341 - accuracy: 0.8641\n",
      "Epoch 90/100\n",
      "250/250 [==============================] - 0s 967us/step - loss: 0.3350 - accuracy: 0.8631\n",
      "Epoch 91/100\n",
      "250/250 [==============================] - 0s 969us/step - loss: 0.3344 - accuracy: 0.8643\n",
      "Epoch 92/100\n",
      "250/250 [==============================] - 0s 999us/step - loss: 0.3342 - accuracy: 0.8634\n",
      "Epoch 93/100\n",
      "250/250 [==============================] - 0s 962us/step - loss: 0.3344 - accuracy: 0.8662\n",
      "Epoch 94/100\n",
      "250/250 [==============================] - 0s 965us/step - loss: 0.3339 - accuracy: 0.8636\n",
      "Epoch 95/100\n",
      "250/250 [==============================] - 0s 964us/step - loss: 0.3346 - accuracy: 0.8641\n",
      "Epoch 96/100\n",
      "250/250 [==============================] - 0s 960us/step - loss: 0.3344 - accuracy: 0.8633\n",
      "Epoch 97/100\n",
      "250/250 [==============================] - 0s 968us/step - loss: 0.3335 - accuracy: 0.8651\n",
      "Epoch 98/100\n",
      "250/250 [==============================] - 0s 950us/step - loss: 0.3338 - accuracy: 0.8633\n",
      "Epoch 99/100\n",
      "250/250 [==============================] - 0s 960us/step - loss: 0.3338 - accuracy: 0.8644\n",
      "Epoch 100/100\n",
      "250/250 [==============================] - 0s 968us/step - loss: 0.3336 - accuracy: 0.8641\n"
     ]
    },
    {
     "data": {
      "text/plain": [
       "<keras.src.callbacks.History at 0x2a15b4acc10>"
      ]
     },
     "execution_count": 18,
     "metadata": {},
     "output_type": "execute_result"
    }
   ],
   "source": [
    "ann.fit(X_train, y_train, batch_size = 32, epochs = 100)"
   ]
  },
  {
   "cell_type": "markdown",
   "id": "fa49c405",
   "metadata": {},
   "source": [
    "## Part 4 Making Predictions and Evaluating the Model"
   ]
  },
  {
   "cell_type": "markdown",
   "id": "72654287",
   "metadata": {},
   "source": [
    "### Predicting the result of a single observation\n",
    "\n",
    "**Homework**\n",
    "\n",
    "Use our ANN model to predict if the customer with the following informations will leave the bank:\n",
    "\n",
    "Geography: France\n",
    "\n",
    "Credit Score: 600\n",
    "\n",
    "Gender: Male\n",
    "\n",
    "Age: 40 years old\n",
    "\n",
    "Tenure: 3 years\n",
    "\n",
    "Balance: \\$ 60000\n",
    "\n",
    "Number of Products: 2\n",
    "\n",
    "Does this customer have a credit card? Yes\n",
    "\n",
    "Is this customer an Active Member: Yes\n",
    "\n",
    "Estimated Salary: \\$ 50000\n",
    "\n",
    "So, should we say goodbye to that customer?\n"
   ]
  },
  {
   "cell_type": "markdown",
   "id": "3541db55",
   "metadata": {},
   "source": [
    "**Solution**"
   ]
  },
  {
   "cell_type": "code",
   "execution_count": 19,
   "id": "c7b28100",
   "metadata": {},
   "outputs": [
    {
     "name": "stdout",
     "output_type": "stream",
     "text": [
      "1/1 [==============================] - 0s 87ms/step\n",
      "[[False]]\n"
     ]
    }
   ],
   "source": [
    "print(ann.predict(sc.transform([[1, 0, 0, 600, 1, 40, 3, 60000, 2, 1, 1, 50000]])) > 0.5)"
   ]
  },
  {
   "cell_type": "markdown",
   "id": "01a2b5fc",
   "metadata": {},
   "source": [
    "### Predicting Test Set Results"
   ]
  },
  {
   "cell_type": "code",
   "execution_count": 20,
   "id": "c0fc6905",
   "metadata": {},
   "outputs": [
    {
     "name": "stdout",
     "output_type": "stream",
     "text": [
      "63/63 [==============================] - 0s 815us/step\n",
      "[[0 0]\n",
      " [0 1]\n",
      " [0 0]\n",
      " ...\n",
      " [0 0]\n",
      " [0 0]\n",
      " [0 0]]\n"
     ]
    }
   ],
   "source": [
    "y_pred = ann.predict(X_test)\n",
    "y_pred = (y_pred > 0.5)\n",
    "print(np.concatenate((y_pred.reshape(len(y_pred),1), y_test.reshape(len(y_test),1)),1))"
   ]
  },
  {
   "cell_type": "markdown",
   "id": "70bd4218",
   "metadata": {},
   "source": [
    "### Making the Confusion Matrix"
   ]
  },
  {
   "cell_type": "code",
   "execution_count": 21,
   "id": "b4fdaa3d",
   "metadata": {},
   "outputs": [
    {
     "name": "stdout",
     "output_type": "stream",
     "text": [
      "[[1517   78]\n",
      " [ 200  205]]\n"
     ]
    },
    {
     "data": {
      "text/plain": [
       "0.861"
      ]
     },
     "execution_count": 21,
     "metadata": {},
     "output_type": "execute_result"
    }
   ],
   "source": [
    "from sklearn.metrics import confusion_matrix, accuracy_score\n",
    "cm = confusion_matrix(y_test, y_pred)\n",
    "print(cm)\n",
    "accuracy_score(y_test, y_pred)"
   ]
  },
  {
   "cell_type": "code",
   "execution_count": null,
   "id": "893b8f79",
   "metadata": {},
   "outputs": [],
   "source": []
  }
 ],
 "metadata": {
  "kernelspec": {
   "display_name": "Python [conda env:base] *",
   "language": "python",
   "name": "conda-base-py"
  },
  "language_info": {
   "codemirror_mode": {
    "name": "ipython",
    "version": 3
   },
   "file_extension": ".py",
   "mimetype": "text/x-python",
   "name": "python",
   "nbconvert_exporter": "python",
   "pygments_lexer": "ipython3",
   "version": "3.12.7"
  }
 },
 "nbformat": 4,
 "nbformat_minor": 5
}
