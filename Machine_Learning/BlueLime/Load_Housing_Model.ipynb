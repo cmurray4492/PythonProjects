{
 "cells": [
  {
   "cell_type": "markdown",
   "id": "4c83db38-c217-40da-9fd9-0ccaca66b8c3",
   "metadata": {},
   "source": [
    "# Load Housing Model"
   ]
  },
  {
   "cell_type": "code",
   "execution_count": 2,
   "id": "93e22845-9e1f-4426-ae69-f4b6e65defc5",
   "metadata": {},
   "outputs": [],
   "source": [
    "import joblib\n",
    "loaded_model = joblib.load('california_house_prices_model.pkl')\n",
    "loaded_scaler = joblib.load('california_house_prices_scaler.pk')"
   ]
  },
  {
   "cell_type": "code",
   "execution_count": 7,
   "id": "4e85e574-870e-4cf9-9749-f1ecca8ef9af",
   "metadata": {},
   "outputs": [],
   "source": [
    "loaded_model_scaler = joblib.load('model_scaler.pkl')\n",
    "\n",
    "loaded_model = loaded_model_scaler['model']\n",
    "loaded_scaler = loaded_model_scaler['scaler']"
   ]
  },
  {
   "cell_type": "code",
   "execution_count": null,
   "id": "6f644f44-16c5-49a1-aeae-116474d28648",
   "metadata": {},
   "outputs": [],
   "source": []
  }
 ],
 "metadata": {
  "kernelspec": {
   "display_name": "Python [conda env:base] *",
   "language": "python",
   "name": "conda-base-py"
  },
  "language_info": {
   "codemirror_mode": {
    "name": "ipython",
    "version": 3
   },
   "file_extension": ".py",
   "mimetype": "text/x-python",
   "name": "python",
   "nbconvert_exporter": "python",
   "pygments_lexer": "ipython3",
   "version": "3.12.7"
  }
 },
 "nbformat": 4,
 "nbformat_minor": 5
}
