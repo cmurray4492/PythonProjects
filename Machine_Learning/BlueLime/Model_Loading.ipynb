{
 "cells": [
  {
   "cell_type": "markdown",
   "id": "5cf25895-16d8-4a5a-8972-b4dc33e57693",
   "metadata": {},
   "source": [
    "# Loading a Model From PKL File"
   ]
  },
  {
   "cell_type": "code",
   "execution_count": 2,
   "id": "8f8e8b54-cc83-4107-a5e8-71dca50f105a",
   "metadata": {},
   "outputs": [],
   "source": [
    "import joblib\n",
    "import pandas as pd"
   ]
  },
  {
   "cell_type": "code",
   "execution_count": 4,
   "id": "4e033de5-3c4d-4b50-ab75-22056c6960bf",
   "metadata": {},
   "outputs": [],
   "source": [
    "scaler = joblib.load('scaler.pkl')\n",
    "model = joblib.load('titanic_model.pkl')"
   ]
  },
  {
   "cell_type": "markdown",
   "id": "a1f7201e-6b5d-45a1-878b-695de4a6e0e4",
   "metadata": {},
   "source": [
    "## New Data"
   ]
  },
  {
   "cell_type": "code",
   "execution_count": 6,
   "id": "4fdc7cec-4a85-4c80-8c97-2fcb3e0e49cb",
   "metadata": {},
   "outputs": [],
   "source": [
    "X_new = pd.DataFrame({\n",
    "    'Pclass': [3],\n",
    "    'Age': [25],\n",
    "    'SibSp': [0],\n",
    "    'Parch': [0],\n",
    "    'Fare': [7.25],\n",
    "    'Sex_male': [1],\n",
    "    'Embarked_Q': [0],\n",
    "    'Embarked_S': [1],\n",
    "    'FamilySize': [1],\n",
    "    'IsAlone': [1]\n",
    "})"
   ]
  },
  {
   "cell_type": "markdown",
   "id": "40492509-385e-47b6-98ac-6f5cc11d9871",
   "metadata": {},
   "source": [
    "## Make a new prediction"
   ]
  },
  {
   "cell_type": "code",
   "execution_count": 10,
   "id": "a0dc8928-0acc-42b3-937b-860204f07e50",
   "metadata": {},
   "outputs": [],
   "source": [
    "X_new_Scaled = scaler.transform(X_new)"
   ]
  },
  {
   "cell_type": "code",
   "execution_count": 14,
   "id": "7f8f2b84-f7d2-4768-89ae-5f1a0fcc720e",
   "metadata": {},
   "outputs": [
    {
     "name": "stdout",
     "output_type": "stream",
     "text": [
      "[0]\n"
     ]
    }
   ],
   "source": [
    "prediction = model.predict(X_new_Scaled)\n",
    "print(prediction)"
   ]
  },
  {
   "cell_type": "markdown",
   "id": "691b9b42-ed05-4352-b9de-525631fe5831",
   "metadata": {},
   "source": [
    "### Understanding the Prediction"
   ]
  },
  {
   "cell_type": "code",
   "execution_count": 27,
   "id": "4196b721-5525-4ce9-8fac-22c6517b690e",
   "metadata": {},
   "outputs": [
    {
     "name": "stdout",
     "output_type": "stream",
     "text": [
      "      Feature  Importance\n",
      "5    Sex_male    1.248054\n",
      "0      Pclass    0.744899\n",
      "1         Age    0.386481\n",
      "2       SibSp    0.352031\n",
      "9     IsAlone    0.337162\n",
      "8  FamilySize    0.284322\n",
      "7  Embarked_S    0.158548\n",
      "4        Fare    0.111098\n",
      "3       Parch    0.081156\n",
      "6  Embarked_Q    0.024459\n"
     ]
    }
   ],
   "source": [
    "import numpy as np\n",
    "feature_importance = np.abs(model.coef_).flatten()\n",
    "feature_names = X_new.columns\n",
    "feature_importance_df = pd.DataFrame({'Feature': feature_names, 'Importance': feature_importance})\n",
    "feature_importance_df = feature_importance_df.sort_values(by='Importance', ascending=False)\n",
    "print(feature_importance_df)"
   ]
  },
  {
   "cell_type": "code",
   "execution_count": 33,
   "id": "39c5eaa0-d0d6-44ce-bec2-5f23f8b802f7",
   "metadata": {},
   "outputs": [
    {
     "name": "stdout",
     "output_type": "stream",
     "text": [
      "[[0.89344463 0.10655537]]\n"
     ]
    }
   ],
   "source": [
    "pred_prob = model.predict_proba(X_new_Scaled)\n",
    "print(pred_prob)"
   ]
  },
  {
   "cell_type": "code",
   "execution_count": null,
   "id": "9369957f-c4bc-4523-8bca-824de715f653",
   "metadata": {},
   "outputs": [],
   "source": []
  }
 ],
 "metadata": {
  "kernelspec": {
   "display_name": "Python [conda env:base] *",
   "language": "python",
   "name": "conda-base-py"
  },
  "language_info": {
   "codemirror_mode": {
    "name": "ipython",
    "version": 3
   },
   "file_extension": ".py",
   "mimetype": "text/x-python",
   "name": "python",
   "nbconvert_exporter": "python",
   "pygments_lexer": "ipython3",
   "version": "3.12.7"
  }
 },
 "nbformat": 4,
 "nbformat_minor": 5
}
