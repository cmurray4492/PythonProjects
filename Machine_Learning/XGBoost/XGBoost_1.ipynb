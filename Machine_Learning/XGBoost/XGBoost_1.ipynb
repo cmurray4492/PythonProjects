{
 "cells": [
  {
   "cell_type": "markdown",
   "id": "02179642-cd59-40eb-977a-5f5569220aab",
   "metadata": {},
   "source": [
    "# First XGBoost File"
   ]
  },
  {
   "cell_type": "code",
   "execution_count": null,
   "id": "8b4fad2e-a8ee-4fde-b76f-51c8b86a8dcf",
   "metadata": {},
   "outputs": [],
   "source": []
  }
 ],
 "metadata": {
  "kernelspec": {
   "display_name": "Python [conda env:base] *",
   "language": "python",
   "name": "conda-base-py"
  },
  "language_info": {
   "codemirror_mode": {
    "name": "ipython",
    "version": 3
   },
   "file_extension": ".py",
   "mimetype": "text/x-python",
   "name": "python",
   "nbconvert_exporter": "python",
   "pygments_lexer": "ipython3",
   "version": "3.12.7"
  }
 },
 "nbformat": 4,
 "nbformat_minor": 5
}
