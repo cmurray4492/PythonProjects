{
 "cells": [
  {
   "cell_type": "markdown",
   "id": "d045e0f7-598c-4f1a-9ff8-c496610c2c05",
   "metadata": {},
   "source": [
    "# Flight Price Dataset - Short Course"
   ]
  },
  {
   "cell_type": "markdown",
   "id": "d561bf5f-5408-483b-aeec-3bf833f51a17",
   "metadata": {},
   "source": [
    "## Project Setup"
   ]
  },
  {
   "cell_type": "code",
   "execution_count": 17,
   "id": "e2dba881-c5ac-4f67-a031-4176cef0cf25",
   "metadata": {},
   "outputs": [],
   "source": [
    "import numpy as np\n",
    "import pandas as pd\n",
    "import matplotlib.pyplot as plt\n",
    "import seaborn as sns\n",
    "import random"
   ]
  },
  {
   "cell_type": "code",
   "execution_count": 8,
   "id": "cf077bb0-bfba-4d88-96ca-764a39fcfd3c",
   "metadata": {},
   "outputs": [
    {
     "data": {
      "text/html": [
       "<div>\n",
       "<style scoped>\n",
       "    .dataframe tbody tr th:only-of-type {\n",
       "        vertical-align: middle;\n",
       "    }\n",
       "\n",
       "    .dataframe tbody tr th {\n",
       "        vertical-align: top;\n",
       "    }\n",
       "\n",
       "    .dataframe thead th {\n",
       "        text-align: right;\n",
       "    }\n",
       "</style>\n",
       "<table border=\"1\" class=\"dataframe\">\n",
       "  <thead>\n",
       "    <tr style=\"text-align: right;\">\n",
       "      <th></th>\n",
       "      <th>Airline</th>\n",
       "      <th>Source</th>\n",
       "      <th>Destination</th>\n",
       "      <th>Total_Stops</th>\n",
       "      <th>Price</th>\n",
       "      <th>Date</th>\n",
       "      <th>Month</th>\n",
       "      <th>Year</th>\n",
       "      <th>Dep_hours</th>\n",
       "      <th>Dep_min</th>\n",
       "      <th>Arrival_hours</th>\n",
       "      <th>Arrival_min</th>\n",
       "      <th>Duration_hours</th>\n",
       "      <th>Duration_min</th>\n",
       "    </tr>\n",
       "  </thead>\n",
       "  <tbody>\n",
       "    <tr>\n",
       "      <th>0</th>\n",
       "      <td>IndiGo</td>\n",
       "      <td>Banglore</td>\n",
       "      <td>New Delhi</td>\n",
       "      <td>0</td>\n",
       "      <td>3897</td>\n",
       "      <td>24</td>\n",
       "      <td>3</td>\n",
       "      <td>2019</td>\n",
       "      <td>22</td>\n",
       "      <td>20</td>\n",
       "      <td>1</td>\n",
       "      <td>10</td>\n",
       "      <td>2</td>\n",
       "      <td>50</td>\n",
       "    </tr>\n",
       "    <tr>\n",
       "      <th>1</th>\n",
       "      <td>Air India</td>\n",
       "      <td>Kolkata</td>\n",
       "      <td>Banglore</td>\n",
       "      <td>2</td>\n",
       "      <td>7662</td>\n",
       "      <td>1</td>\n",
       "      <td>5</td>\n",
       "      <td>2019</td>\n",
       "      <td>5</td>\n",
       "      <td>50</td>\n",
       "      <td>13</td>\n",
       "      <td>15</td>\n",
       "      <td>7</td>\n",
       "      <td>25</td>\n",
       "    </tr>\n",
       "    <tr>\n",
       "      <th>2</th>\n",
       "      <td>Jet Airways</td>\n",
       "      <td>Delhi</td>\n",
       "      <td>Cochin</td>\n",
       "      <td>2</td>\n",
       "      <td>13882</td>\n",
       "      <td>9</td>\n",
       "      <td>6</td>\n",
       "      <td>2019</td>\n",
       "      <td>9</td>\n",
       "      <td>25</td>\n",
       "      <td>4</td>\n",
       "      <td>25</td>\n",
       "      <td>19</td>\n",
       "      <td>0</td>\n",
       "    </tr>\n",
       "    <tr>\n",
       "      <th>3</th>\n",
       "      <td>IndiGo</td>\n",
       "      <td>Kolkata</td>\n",
       "      <td>Banglore</td>\n",
       "      <td>1</td>\n",
       "      <td>6218</td>\n",
       "      <td>12</td>\n",
       "      <td>5</td>\n",
       "      <td>2019</td>\n",
       "      <td>18</td>\n",
       "      <td>5</td>\n",
       "      <td>23</td>\n",
       "      <td>30</td>\n",
       "      <td>5</td>\n",
       "      <td>25</td>\n",
       "    </tr>\n",
       "    <tr>\n",
       "      <th>4</th>\n",
       "      <td>IndiGo</td>\n",
       "      <td>Banglore</td>\n",
       "      <td>New Delhi</td>\n",
       "      <td>1</td>\n",
       "      <td>13302</td>\n",
       "      <td>1</td>\n",
       "      <td>3</td>\n",
       "      <td>2019</td>\n",
       "      <td>16</td>\n",
       "      <td>50</td>\n",
       "      <td>21</td>\n",
       "      <td>35</td>\n",
       "      <td>4</td>\n",
       "      <td>45</td>\n",
       "    </tr>\n",
       "  </tbody>\n",
       "</table>\n",
       "</div>"
      ],
      "text/plain": [
       "       Airline    Source Destination  Total_Stops  Price  Date  Month  Year  \\\n",
       "0       IndiGo  Banglore   New Delhi            0   3897    24      3  2019   \n",
       "1    Air India   Kolkata    Banglore            2   7662     1      5  2019   \n",
       "2  Jet Airways     Delhi      Cochin            2  13882     9      6  2019   \n",
       "3       IndiGo   Kolkata    Banglore            1   6218    12      5  2019   \n",
       "4       IndiGo  Banglore   New Delhi            1  13302     1      3  2019   \n",
       "\n",
       "   Dep_hours  Dep_min  Arrival_hours  Arrival_min  Duration_hours  \\\n",
       "0         22       20              1           10               2   \n",
       "1          5       50             13           15               7   \n",
       "2          9       25              4           25              19   \n",
       "3         18        5             23           30               5   \n",
       "4         16       50             21           35               4   \n",
       "\n",
       "   Duration_min  \n",
       "0            50  \n",
       "1            25  \n",
       "2             0  \n",
       "3            25  \n",
       "4            45  "
      ]
     },
     "execution_count": 8,
     "metadata": {},
     "output_type": "execute_result"
    }
   ],
   "source": [
    "df_raw = pd.read_csv('../Data/flight_dataset.csv')\n",
    "df_raw.head()"
   ]
  },
  {
   "cell_type": "code",
   "execution_count": 10,
   "id": "bae7125f-2414-474b-9337-a73403fa51c2",
   "metadata": {},
   "outputs": [
    {
     "data": {
      "text/plain": [
       "(10683, 14)"
      ]
     },
     "execution_count": 10,
     "metadata": {},
     "output_type": "execute_result"
    }
   ],
   "source": [
    "df_raw.shape"
   ]
  },
  {
   "cell_type": "code",
   "execution_count": 12,
   "id": "40447aff-6479-4852-9e0b-71ec641b7dc5",
   "metadata": {},
   "outputs": [
    {
     "name": "stdout",
     "output_type": "stream",
     "text": [
      "<class 'pandas.core.frame.DataFrame'>\n",
      "RangeIndex: 10683 entries, 0 to 10682\n",
      "Data columns (total 14 columns):\n",
      " #   Column          Non-Null Count  Dtype \n",
      "---  ------          --------------  ----- \n",
      " 0   Airline         10683 non-null  object\n",
      " 1   Source          10683 non-null  object\n",
      " 2   Destination     10683 non-null  object\n",
      " 3   Total_Stops     10683 non-null  int64 \n",
      " 4   Price           10683 non-null  int64 \n",
      " 5   Date            10683 non-null  int64 \n",
      " 6   Month           10683 non-null  int64 \n",
      " 7   Year            10683 non-null  int64 \n",
      " 8   Dep_hours       10683 non-null  int64 \n",
      " 9   Dep_min         10683 non-null  int64 \n",
      " 10  Arrival_hours   10683 non-null  int64 \n",
      " 11  Arrival_min     10683 non-null  int64 \n",
      " 12  Duration_hours  10683 non-null  int64 \n",
      " 13  Duration_min    10683 non-null  int64 \n",
      "dtypes: int64(11), object(3)\n",
      "memory usage: 1.1+ MB\n"
     ]
    }
   ],
   "source": [
    "df_raw.info()"
   ]
  },
  {
   "cell_type": "markdown",
   "id": "418ff5cf-a40a-4f44-87d2-bfa78000ac63",
   "metadata": {},
   "source": [
    "There are no missing values and there are 14 columns and 10,683 rows."
   ]
  },
  {
   "cell_type": "code",
   "execution_count": 15,
   "id": "59603a32-084c-44d0-96f6-c7a3345f3d34",
   "metadata": {},
   "outputs": [
    {
     "data": {
      "text/html": [
       "<div>\n",
       "<style scoped>\n",
       "    .dataframe tbody tr th:only-of-type {\n",
       "        vertical-align: middle;\n",
       "    }\n",
       "\n",
       "    .dataframe tbody tr th {\n",
       "        vertical-align: top;\n",
       "    }\n",
       "\n",
       "    .dataframe thead th {\n",
       "        text-align: right;\n",
       "    }\n",
       "</style>\n",
       "<table border=\"1\" class=\"dataframe\">\n",
       "  <thead>\n",
       "    <tr style=\"text-align: right;\">\n",
       "      <th></th>\n",
       "      <th>count</th>\n",
       "      <th>mean</th>\n",
       "      <th>std</th>\n",
       "      <th>min</th>\n",
       "      <th>25%</th>\n",
       "      <th>50%</th>\n",
       "      <th>75%</th>\n",
       "      <th>max</th>\n",
       "    </tr>\n",
       "  </thead>\n",
       "  <tbody>\n",
       "    <tr>\n",
       "      <th>Total_Stops</th>\n",
       "      <td>10683.0</td>\n",
       "      <td>0.824207</td>\n",
       "      <td>0.675199</td>\n",
       "      <td>0.0</td>\n",
       "      <td>0.0</td>\n",
       "      <td>1.0</td>\n",
       "      <td>1.0</td>\n",
       "      <td>4.0</td>\n",
       "    </tr>\n",
       "    <tr>\n",
       "      <th>Price</th>\n",
       "      <td>10683.0</td>\n",
       "      <td>9087.064121</td>\n",
       "      <td>4611.359167</td>\n",
       "      <td>1759.0</td>\n",
       "      <td>5277.0</td>\n",
       "      <td>8372.0</td>\n",
       "      <td>12373.0</td>\n",
       "      <td>79512.0</td>\n",
       "    </tr>\n",
       "    <tr>\n",
       "      <th>Date</th>\n",
       "      <td>10683.0</td>\n",
       "      <td>13.508378</td>\n",
       "      <td>8.479277</td>\n",
       "      <td>1.0</td>\n",
       "      <td>6.0</td>\n",
       "      <td>12.0</td>\n",
       "      <td>21.0</td>\n",
       "      <td>27.0</td>\n",
       "    </tr>\n",
       "    <tr>\n",
       "      <th>Month</th>\n",
       "      <td>10683.0</td>\n",
       "      <td>4.708602</td>\n",
       "      <td>1.164357</td>\n",
       "      <td>3.0</td>\n",
       "      <td>3.0</td>\n",
       "      <td>5.0</td>\n",
       "      <td>6.0</td>\n",
       "      <td>6.0</td>\n",
       "    </tr>\n",
       "    <tr>\n",
       "      <th>Year</th>\n",
       "      <td>10683.0</td>\n",
       "      <td>2019.000000</td>\n",
       "      <td>0.000000</td>\n",
       "      <td>2019.0</td>\n",
       "      <td>2019.0</td>\n",
       "      <td>2019.0</td>\n",
       "      <td>2019.0</td>\n",
       "      <td>2019.0</td>\n",
       "    </tr>\n",
       "    <tr>\n",
       "      <th>Dep_hours</th>\n",
       "      <td>10683.0</td>\n",
       "      <td>12.490686</td>\n",
       "      <td>5.748650</td>\n",
       "      <td>0.0</td>\n",
       "      <td>8.0</td>\n",
       "      <td>11.0</td>\n",
       "      <td>18.0</td>\n",
       "      <td>23.0</td>\n",
       "    </tr>\n",
       "    <tr>\n",
       "      <th>Dep_min</th>\n",
       "      <td>10683.0</td>\n",
       "      <td>24.411214</td>\n",
       "      <td>18.767980</td>\n",
       "      <td>0.0</td>\n",
       "      <td>5.0</td>\n",
       "      <td>25.0</td>\n",
       "      <td>40.0</td>\n",
       "      <td>55.0</td>\n",
       "    </tr>\n",
       "    <tr>\n",
       "      <th>Arrival_hours</th>\n",
       "      <td>10683.0</td>\n",
       "      <td>13.348778</td>\n",
       "      <td>6.859125</td>\n",
       "      <td>0.0</td>\n",
       "      <td>8.0</td>\n",
       "      <td>14.0</td>\n",
       "      <td>19.0</td>\n",
       "      <td>23.0</td>\n",
       "    </tr>\n",
       "    <tr>\n",
       "      <th>Arrival_min</th>\n",
       "      <td>10683.0</td>\n",
       "      <td>24.690630</td>\n",
       "      <td>16.506036</td>\n",
       "      <td>0.0</td>\n",
       "      <td>10.0</td>\n",
       "      <td>25.0</td>\n",
       "      <td>35.0</td>\n",
       "      <td>55.0</td>\n",
       "    </tr>\n",
       "    <tr>\n",
       "      <th>Duration_hours</th>\n",
       "      <td>10683.0</td>\n",
       "      <td>10.246560</td>\n",
       "      <td>8.494988</td>\n",
       "      <td>1.0</td>\n",
       "      <td>2.0</td>\n",
       "      <td>8.0</td>\n",
       "      <td>15.0</td>\n",
       "      <td>47.0</td>\n",
       "    </tr>\n",
       "    <tr>\n",
       "      <th>Duration_min</th>\n",
       "      <td>10683.0</td>\n",
       "      <td>28.327249</td>\n",
       "      <td>16.946113</td>\n",
       "      <td>0.0</td>\n",
       "      <td>15.0</td>\n",
       "      <td>30.0</td>\n",
       "      <td>45.0</td>\n",
       "      <td>55.0</td>\n",
       "    </tr>\n",
       "  </tbody>\n",
       "</table>\n",
       "</div>"
      ],
      "text/plain": [
       "                  count         mean          std     min     25%     50%  \\\n",
       "Total_Stops     10683.0     0.824207     0.675199     0.0     0.0     1.0   \n",
       "Price           10683.0  9087.064121  4611.359167  1759.0  5277.0  8372.0   \n",
       "Date            10683.0    13.508378     8.479277     1.0     6.0    12.0   \n",
       "Month           10683.0     4.708602     1.164357     3.0     3.0     5.0   \n",
       "Year            10683.0  2019.000000     0.000000  2019.0  2019.0  2019.0   \n",
       "Dep_hours       10683.0    12.490686     5.748650     0.0     8.0    11.0   \n",
       "Dep_min         10683.0    24.411214    18.767980     0.0     5.0    25.0   \n",
       "Arrival_hours   10683.0    13.348778     6.859125     0.0     8.0    14.0   \n",
       "Arrival_min     10683.0    24.690630    16.506036     0.0    10.0    25.0   \n",
       "Duration_hours  10683.0    10.246560     8.494988     1.0     2.0     8.0   \n",
       "Duration_min    10683.0    28.327249    16.946113     0.0    15.0    30.0   \n",
       "\n",
       "                    75%      max  \n",
       "Total_Stops         1.0      4.0  \n",
       "Price           12373.0  79512.0  \n",
       "Date               21.0     27.0  \n",
       "Month               6.0      6.0  \n",
       "Year             2019.0   2019.0  \n",
       "Dep_hours          18.0     23.0  \n",
       "Dep_min            40.0     55.0  \n",
       "Arrival_hours      19.0     23.0  \n",
       "Arrival_min        35.0     55.0  \n",
       "Duration_hours     15.0     47.0  \n",
       "Duration_min       45.0     55.0  "
      ]
     },
     "execution_count": 15,
     "metadata": {},
     "output_type": "execute_result"
    }
   ],
   "source": [
    "df_raw.describe().T"
   ]
  },
  {
   "cell_type": "code",
   "execution_count": 21,
   "id": "1f279801-aa53-4d01-ba01-a51a76b3a3ed",
   "metadata": {},
   "outputs": [],
   "source": [
    "random.seed(42)"
   ]
  },
  {
   "cell_type": "code",
   "execution_count": 43,
   "id": "330dd25d-b2ef-41c0-9c68-891489e7b206",
   "metadata": {},
   "outputs": [
    {
     "data": {
      "text/plain": [
       "Airline           Jet Airways\n",
       "Source                 Mumbai\n",
       "Destination         Hyderabad\n",
       "Total_Stops                 2\n",
       "Price                   24115\n",
       "Date                        6\n",
       "Month                       3\n",
       "Year                     2019\n",
       "Dep_hours                  14\n",
       "Dep_min                    20\n",
       "Arrival_hours              16\n",
       "Arrival_min                50\n",
       "Duration_hours             26\n",
       "Duration_min               30\n",
       "Name: 1424, dtype: object"
      ]
     },
     "execution_count": 43,
     "metadata": {},
     "output_type": "execute_result"
    }
   ],
   "source": [
    "random_index = random.randint(0, len(df_raw) - 1)\n",
    "df_raw.iloc[random_index]"
   ]
  },
  {
   "cell_type": "code",
   "execution_count": 47,
   "id": "1176d7e8-7243-48b7-89d7-a9b2acf7a15f",
   "metadata": {},
   "outputs": [
    {
     "data": {
      "image/png": "[encoded data removed]",
      "text/plain": [
       "<Figure size 640x480 with 1 Axes>"
      ]
     },
     "metadata": {},
     "output_type": "display_data"
    }
   ],
   "source": [
    "df_raw['Year'].hist();"
   ]
  },
  {
   "cell_type": "markdown",
   "id": "712a7621-425c-4e80-8064-c6e1baed6e77",
   "metadata": {},
   "source": [
    "The year field has a single value, 2019, will need to drop this from the model."
   ]
  },
  {
   "cell_type": "code",
   "execution_count": null,
   "id": "741de454-956e-4754-8d9c-4a41f95f2db1",
   "metadata": {},
   "outputs": [],
   "source": []
  },
  {
   "cell_type": "code",
   "execution_count": null,
   "id": "99efcdf2-deae-4569-bd82-8f727b8440bb",
   "metadata": {},
   "outputs": [],
   "source": []
  },
  {
   "cell_type": "code",
   "execution_count": null,
   "id": "3cd58bf7-ee60-4fe3-a1eb-2e890289ad02",
   "metadata": {},
   "outputs": [],
   "source": []
  },
  {
   "cell_type": "code",
   "execution_count": null,
   "id": "7880117d-9b90-4e14-a74b-3092bc91d313",
   "metadata": {},
   "outputs": [],
   "source": []
  },
  {
   "cell_type": "code",
   "execution_count": null,
   "id": "4ad79389-fb8c-40be-bb61-0bb121068ac1",
   "metadata": {},
   "outputs": [],
   "source": []
  }
 ],
 "metadata": {
  "kernelspec": {
   "display_name": "Python [conda env:base] *",
   "language": "python",
   "name": "conda-base-py"
  },
  "language_info": {
   "codemirror_mode": {
    "name": "ipython",
    "version": 3
   },
   "file_extension": ".py",
   "mimetype": "text/x-python",
   "name": "python",
   "nbconvert_exporter": "python",
   "pygments_lexer": "ipython3",
   "version": "3.12.7"
  }
 },
 "nbformat": 4,
 "nbformat_minor": 5
}
