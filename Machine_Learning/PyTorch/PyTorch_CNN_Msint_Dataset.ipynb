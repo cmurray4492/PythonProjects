{
 "cells": [
  {
   "cell_type": "markdown",
   "id": "c76e8620-bf01-4e69-a472-272ada70ea29",
   "metadata": {},
   "source": [
    "# PyTorch CNN Msint Dataset"
   ]
  },
  {
   "cell_type": "code",
   "execution_count": 1,
   "id": "1aec4812-1d3c-4e3a-a77f-8b3d75a80129",
   "metadata": {},
   "outputs": [],
   "source": [
    "import torch\n",
    "import torch.nn as nn\n",
    "import torch.nn.functional as F\n",
    "import numpy as np\n",
    "import pandas as pd\n",
    "import matplotlib.pyplot as plt\n",
    "import seaborn as sns\n",
    "\n",
    "from torch.utils.data import DataLoader\n",
    "from torchvision import datasets, transforms\n",
    "from torchvision.utils import make_grid\n",
    "from sklearn.metrics import confusion_matrix "
   ]
  },
  {
   "cell_type": "code",
   "execution_count": 21,
   "id": "8c8fd012-f32b-4ee3-90ce-c0b8bacd94de",
   "metadata": {},
   "outputs": [],
   "source": [
    "transform = transforms.ToTensor()"
   ]
  },
  {
   "cell_type": "code",
   "execution_count": 23,
   "id": "eca123f4-5cba-4cce-b895-74fb73e2fc60",
   "metadata": {},
   "outputs": [],
   "source": [
    "train_data = datasets.MNIST(root='../Data/1',train=True,download=True,transform=transform)"
   ]
  },
  {
   "cell_type": "code",
   "execution_count": 4,
   "id": "8ebd1661-766b-4e0c-adb0-14a846673ff4",
   "metadata": {},
   "outputs": [],
   "source": [
    "test_data = datasets.MNIST(root='../Data/1',train=False,download=True,transform=transform)"
   ]
  },
  {
   "cell_type": "code",
   "execution_count": 5,
   "id": "d0978f4c-5d77-463e-86aa-c386549866b3",
   "metadata": {},
   "outputs": [
    {
     "data": {
      "text/plain": [
       "Dataset MNIST\n",
       "    Number of datapoints: 60000\n",
       "    Root location: ../Data/1\n",
       "    Split: Train\n",
       "    StandardTransform\n",
       "Transform: ToTensor()"
      ]
     },
     "execution_count": 5,
     "metadata": {},
     "output_type": "execute_result"
    }
   ],
   "source": [
    "train_data"
   ]
  },
  {
   "cell_type": "code",
   "execution_count": 6,
   "id": "908ba9eb-ef55-4e5d-849f-e890bb99ef30",
   "metadata": {},
   "outputs": [
    {
     "data": {
      "text/plain": [
       "Dataset MNIST\n",
       "    Number of datapoints: 10000\n",
       "    Root location: ../Data/1\n",
       "    Split: Test\n",
       "    StandardTransform\n",
       "Transform: ToTensor()"
      ]
     },
     "execution_count": 6,
     "metadata": {},
     "output_type": "execute_result"
    }
   ],
   "source": [
    "test_data"
   ]
  },
  {
   "cell_type": "code",
   "execution_count": 25,
   "id": "1411086d-f29e-4fa5-9286-c5eb799cb3f0",
   "metadata": {},
   "outputs": [],
   "source": [
    "torch.manual_seed(101)\n",
    "train_loader = DataLoader(train_data,batch_size=10, shuffle=True)\n",
    "test_loader = DataLoader(test_data, batch_size=10, shuffle=False)"
   ]
  },
  {
   "cell_type": "code",
   "execution_count": 8,
   "id": "9dbe2d75-35f9-41be-b193-66197a95edaf",
   "metadata": {},
   "outputs": [],
   "source": [
    "# 1 - 1 color channel, 6 filters (output channels), 3-by-3, stride = 1\n",
    "conv1 = nn.Conv2d(1,6,3,1)\n",
    "# 2 - 6 input filters (layer 1 output) , 16 filters, 3-by-3, stride = 1 \n",
    "conv2 = nn.Conv2d(6,16,3,1)"
   ]
  },
  {
   "cell_type": "code",
   "execution_count": 9,
   "id": "e6d9f28c-66e4-45f3-84a1-cefe7afbd3ae",
   "metadata": {},
   "outputs": [],
   "source": [
    "for i, (X_train, y_train) in enumerate(train_data):\n",
    "    break"
   ]
  },
  {
   "cell_type": "code",
   "execution_count": 26,
   "id": "7efeffdf-4f74-4da9-a436-9c651281ca50",
   "metadata": {},
   "outputs": [],
   "source": [
    "x = X_train.view(1,1,28,28).cuda()"
   ]
  },
  {
   "cell_type": "code",
   "execution_count": 11,
   "id": "f0d24416-7e69-4b30-a6fb-60d9f78ec4dc",
   "metadata": {},
   "outputs": [],
   "source": [
    "x = F.relu(conv1(x))"
   ]
  },
  {
   "cell_type": "code",
   "execution_count": 12,
   "id": "dafb3556-1a2b-433e-953b-4a81521ddac5",
   "metadata": {},
   "outputs": [
    {
     "data": {
      "text/plain": [
       "torch.Size([1, 6, 26, 26])"
      ]
     },
     "execution_count": 12,
     "metadata": {},
     "output_type": "execute_result"
    }
   ],
   "source": [
    "x.shape"
   ]
  },
  {
   "cell_type": "code",
   "execution_count": 13,
   "id": "57ae0c27-002f-4f2b-99bc-08e12b56eb75",
   "metadata": {},
   "outputs": [],
   "source": [
    "x = F.max_pool2d(x,2,2)"
   ]
  },
  {
   "cell_type": "code",
   "execution_count": 14,
   "id": "18e10103-183d-4337-b326-8f70a10584f1",
   "metadata": {},
   "outputs": [
    {
     "data": {
      "text/plain": [
       "torch.Size([1, 6, 13, 13])"
      ]
     },
     "execution_count": 14,
     "metadata": {},
     "output_type": "execute_result"
    }
   ],
   "source": [
    "x.shape"
   ]
  },
  {
   "cell_type": "code",
   "execution_count": 15,
   "id": "2371c662-cc80-4308-8f3e-6655c7432ab0",
   "metadata": {},
   "outputs": [],
   "source": [
    "x = F.relu(conv2(x))"
   ]
  },
  {
   "cell_type": "code",
   "execution_count": 16,
   "id": "3b419f91-5d97-4dae-a83c-28c00113cd6b",
   "metadata": {},
   "outputs": [
    {
     "data": {
      "text/plain": [
       "torch.Size([1, 16, 11, 11])"
      ]
     },
     "execution_count": 16,
     "metadata": {},
     "output_type": "execute_result"
    }
   ],
   "source": [
    "x.shape"
   ]
  },
  {
   "cell_type": "code",
   "execution_count": 17,
   "id": "a28a9517-2e4d-47fe-b2b5-9e4a48b19026",
   "metadata": {},
   "outputs": [],
   "source": [
    "x = F.max_pool2d(x,2,2)"
   ]
  },
  {
   "cell_type": "code",
   "execution_count": 18,
   "id": "5f7a060f-fdaa-4ddf-9d7a-e27b57950901",
   "metadata": {},
   "outputs": [
    {
     "data": {
      "text/plain": [
       "torch.Size([1, 16, 5, 5])"
      ]
     },
     "execution_count": 18,
     "metadata": {},
     "output_type": "execute_result"
    }
   ],
   "source": [
    "x.shape"
   ]
  },
  {
   "cell_type": "code",
<<<<<<< HEAD
   "execution_count": 19,
=======
   "execution_count": 20,
>>>>>>> d437364d15e1404174699cfe841057e90dde902a
   "id": "99bd5c18-7959-4a81-94ba-88a07b392ba1",
   "metadata": {},
   "outputs": [
    {
     "data": {
      "text/plain": [
       "torch.Size([1, 400])"
      ]
     },
<<<<<<< HEAD
     "execution_count": 19,
=======
     "execution_count": 20,
>>>>>>> d437364d15e1404174699cfe841057e90dde902a
     "metadata": {},
     "output_type": "execute_result"
    }
   ],
   "source": [
    "x.view(-1,16*5*5).shape"
   ]
  },
  {
   "cell_type": "markdown",
   "id": "f962f426-ff16-487a-b12e-6563c1758fd6",
   "metadata": {},
   "source": [
    "## Making the CNN"
   ]
  },
  {
   "cell_type": "code",
   "execution_count": 22,
   "id": "3d9db537-bc56-4be8-a66a-fb3dc1df7636",
   "metadata": {},
   "outputs": [],
   "source": [
    "class ConvolutionalNetwork(nn.Module):\n",
    "    def __init__(self):\n",
    "        super().__init__()\n",
    "        self.conv1 = nn.Conv2d(1,6,3,1)\n",
    "        self.conv2 = nn.Conv2d(6,16,3,1)\n",
    "        self.fc1 = nn.Linear(5*5*16,120)\n",
    "        self.fc2 = nn.Linear(120,84)\n",
    "        self.fc3 = nn.Linear(84,10)\n",
    "\n",
    "\n",
    "    def forward(self, X):\n",
    "        X = F.relu(self.conv1(X))\n",
    "        X = F.max_pool2d(X,2,2)\n",
    "        X = F.relu(self.conv2(X))\n",
    "        X = F.max_pool2d(X,2,2)\n",
    "        X = X.view(-1,16*5*5)\n",
    "        X = F.relu(self.fc1(X))\n",
    "        X = F.relu(self.fc2(X))\n",
    "        X = self.fc3(X)\n",
    "        return F.log_softmax(X,dim=1)"
   ]
  },
  {
   "cell_type": "code",
   "execution_count": 23,
   "id": "e57abffc-30f8-46be-bf50-dc91ecbfdc4c",
   "metadata": {},
   "outputs": [
    {
     "data": {
      "text/plain": [
       "ConvolutionalNetwork(\n",
       "  (conv1): Conv2d(1, 6, kernel_size=(3, 3), stride=(1, 1))\n",
       "  (conv2): Conv2d(6, 16, kernel_size=(3, 3), stride=(1, 1))\n",
       "  (fc1): Linear(in_features=400, out_features=120, bias=True)\n",
       "  (fc2): Linear(in_features=120, out_features=84, bias=True)\n",
       "  (fc3): Linear(in_features=84, out_features=10, bias=True)\n",
       ")"
      ]
     },
     "execution_count": 23,
     "metadata": {},
     "output_type": "execute_result"
    }
   ],
   "source": [
    "torch.manual_seed(42)\n",
    "model = ConvolutionalNetwork()\n",
    "model"
   ]
  },
  {
   "cell_type": "code",
   "execution_count": 24,
   "id": "dc2d93ea-5ee6-4b24-90fb-5687a64796d5",
   "metadata": {},
   "outputs": [
    {
     "name": "stdout",
     "output_type": "stream",
     "text": [
      "54\n",
      "6\n",
      "864\n",
      "16\n",
      "48000\n",
      "120\n",
      "10080\n",
      "84\n",
      "840\n",
      "10\n"
     ]
    }
   ],
   "source": [
    "for param in model.parameters():\n",
    "    print(param.numel())"
   ]
  },
  {
   "cell_type": "code",
   "execution_count": 25,
   "id": "11aff852-f195-4635-8b60-cee0853ffd0a",
   "metadata": {},
   "outputs": [],
   "source": [
    "criterion = nn.CrossEntropyLoss()\n",
    "optimizer = torch.optim.Adam(model.parameters(), lr=0.001)"
   ]
  },
  {
   "cell_type": "markdown",
   "id": "6b70e38f-aa1d-4d95-831c-fdb0e7f2328d",
   "metadata": {},
   "source": [
    "## CNN Training"
   ]
  },
  {
   "cell_type": "code",
   "execution_count": 27,
   "id": "b3385bf1-95d1-4194-8628-3a5836f9e3eb",
   "metadata": {},
   "outputs": [
    {
     "name": "stdout",
     "output_type": "stream",
     "text": [
      "Epoch: 0 Bacth: 1000   Loss: 0.8558667302131653  \n",
      "Epoch: 0 Bacth: 2000   Loss: 0.2531912922859192  \n",
      "Epoch: 0 Bacth: 3000   Loss: 0.008465142920613289  \n",
      "Epoch: 0 Bacth: 4000   Loss: 0.0012379521504044533  \n",
      "Epoch: 0 Bacth: 5000   Loss: 0.022685647010803223  \n",
      "Epoch: 0 Bacth: 6000   Loss: 0.05195695161819458  \n",
      "Epoch: 1 Bacth: 1000   Loss: 0.0003018679562956095  \n",
      "Epoch: 1 Bacth: 2000   Loss: 0.004469913896173239  \n",
      "Epoch: 1 Bacth: 3000   Loss: 0.34829965233802795  \n",
      "Epoch: 1 Bacth: 4000   Loss: 0.029482603073120117  \n",
      "Epoch: 1 Bacth: 5000   Loss: 0.020757295191287994  \n",
      "Epoch: 1 Bacth: 6000   Loss: 0.08481797575950623  \n",
      "Epoch: 2 Bacth: 1000   Loss: 0.0776270255446434  \n",
      "Epoch: 2 Bacth: 2000   Loss: 0.005347207188606262  \n",
      "Epoch: 2 Bacth: 3000   Loss: 0.3176160454750061  \n",
      "Epoch: 2 Bacth: 4000   Loss: 0.008296791464090347  \n",
      "Epoch: 2 Bacth: 5000   Loss: 0.13474607467651367  \n",
      "Epoch: 2 Bacth: 6000   Loss: 8.103846630547196e-05  \n",
      "Epoch: 3 Bacth: 1000   Loss: 0.004465232137590647  \n",
      "Epoch: 3 Bacth: 2000   Loss: 0.002390277571976185  \n",
      "Epoch: 3 Bacth: 3000   Loss: 0.07334335893392563  \n",
      "Epoch: 3 Bacth: 4000   Loss: 0.0006119860336184502  \n",
      "Epoch: 3 Bacth: 5000   Loss: 0.00039728256524540484  \n",
      "Epoch: 3 Bacth: 6000   Loss: 0.0011888747103512287  \n",
      "Epoch: 4 Bacth: 1000   Loss: 0.0026871769223362207  \n",
      "Epoch: 4 Bacth: 2000   Loss: 3.773679054575041e-05  \n",
      "Epoch: 4 Bacth: 3000   Loss: 0.011366995982825756  \n",
      "Epoch: 4 Bacth: 4000   Loss: 1.2313988008827437e-05  \n",
      "Epoch: 4 Bacth: 5000   Loss: 0.04771574214100838  \n",
      "Epoch: 4 Bacth: 6000   Loss: 0.0044286223128438  \n",
      "Training took 1.783108115196228 minutes.\n"
     ]
    }
   ],
   "source": [
    "import time \n",
    "start_time = time.time()\n",
    "\n",
    "# Variables\n",
    "epochs = 5\n",
    "train_losses = []\n",
    "test_losses = []\n",
    "train_correct = []\n",
    "test_correct = []\n",
    "\n",
    "# Epcoh for loop\n",
    "for i in range(epochs):\n",
    "    trn_corr = 0\n",
    "    tst_corr = 0\n",
    "\n",
    "    # Training\n",
    "    for b,(X_train,y_train) in enumerate(train_loader):\n",
    "        b += 1\n",
    "        y_pred = model(X_train)\n",
    "        loss = criterion(y_pred, y_train)\n",
    "        predicted = torch.max(y_pred.data,1)[1]\n",
    "        batch_corr = (predicted == y_train).sum()\n",
    "        trn_corr += batch_corr\n",
    "\n",
    "        optimizer.zero_grad()\n",
    "        loss.backward()\n",
    "        optimizer.step()\n",
    "\n",
    "        if b%1000 == 0:\n",
    "            print(f\"Epoch: {i} Bacth: {b}   Loss: {loss.item()}  \")\n",
    "\n",
    "    train_losses.append(loss)\n",
    "    train_correct.append(trn_corr)\n",
    "\n",
    "    # Test\n",
    "    with torch.no_grad():\n",
    "        for b,(X_test,y_test) in enumerate(test_loader):\n",
    "            y_val = model(X_test)\n",
    "            predicted = torch.max(y_val.data,1)[1]\n",
    "            tst_corr += (predicted == y_test ).sum()\n",
    "\n",
    "    loss = criterion(y_val, y_test)\n",
    "    test_losses.append(loss)\n",
    "    test_correct.append(tst_corr)\n",
    "    \n",
    "\n",
    "current_time = time.time()\n",
    "total_time = current_time - start_time\n",
    "print(f'Training took {total_time/60} minutes.')"
   ]
  },
  {
   "cell_type": "markdown",
   "id": "2b95533d-7764-4576-914f-1c68abb47efc",
   "metadata": {},
   "source": [
    "## Model Evaluation"
   ]
  },
  {
   "cell_type": "code",
   "execution_count": 29,
   "id": "57803be9-94ea-4395-8ef4-fff9722ab80b",
   "metadata": {},
   "outputs": [
    {
     "data": {
      "image/png": "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",
      "text/plain": [
       "<Figure size 640x480 with 1 Axes>"
      ]
     },
     "metadata": {},
     "output_type": "display_data"
    }
   ],
   "source": [
    "with torch.no_grad():\n",
    "    plt.plot(train_losses,label='train loss')\n",
    "    plt.plot(test_losses, label='validation loss')\n",
    "    plt.title('Loss at Epoch')\n",
    "    plt.legend()"
   ]
  },
  {
   "cell_type": "code",
   "execution_count": 57,
   "id": "3be2f5d6-c02c-4a36-ab46-e3026e0bb816",
   "metadata": {},
   "outputs": [
    {
     "data": {
      "image/png": "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",
      "text/plain": [
       "<Figure size 640x480 with 1 Axes>"
      ]
     },
     "metadata": {},
     "output_type": "display_data"
    }
   ],
   "source": [
    "plt.plot([t/600 for t in train_correct], label='training accuracy')\n",
    "plt.plot([t/100 for t in test_correct], label='validation accuracy')\n",
    "plt.title('Accuracy at the end of each epoch')\n",
    "plt.legend();"
   ]
  },
  {
   "cell_type": "markdown",
   "id": "4b3af60a-c13f-4b94-b522-ae62c4ebd10d",
   "metadata": {},
   "source": [
    "### Evaluate All Test Data"
   ]
  },
  {
   "cell_type": "code",
   "execution_count": 60,
   "id": "0d5a4823-e183-4b28-ac51-61bd89b8648d",
   "metadata": {},
   "outputs": [],
   "source": [
    "# Extract the data all at once, not in batches\n",
    "test_load_all = DataLoader(test_data, batch_size=10000, shuffle=False)"
   ]
  },
  {
   "cell_type": "code",
   "execution_count": 62,
   "id": "04a8979c-4047-4ab8-8e57-e5358db433df",
   "metadata": {},
   "outputs": [
    {
     "name": "stdout",
     "output_type": "stream",
     "text": [
      "Test accuracy: 9880/10000 =  98.800%\n"
     ]
    }
   ],
   "source": [
    "with torch.no_grad():\n",
    "    correct = 0\n",
    "    for X_test, y_test in test_load_all:\n",
    "        y_val = model(X_test)  # we don't flatten the data this time\n",
    "        predicted = torch.max(y_val,1)[1]\n",
    "        correct += (predicted == y_test).sum()\n",
    "print(f'Test accuracy: {correct.item()}/{len(test_data)} = {correct.item()*100/(len(test_data)):7.3f}%')"
   ]
  },
  {
   "cell_type": "markdown",
   "id": "f5507f1d-ea08-400f-8cbc-df1b772bc891",
   "metadata": {},
   "source": [
    "Recall that our [784,120,84,10] ANN returned an accuracy of 97.25% after 10 epochs. And it used 105,214 parameters to our current 60,074."
   ]
  },
  {
   "cell_type": "markdown",
   "id": "d8976733-caaa-4ffd-989d-de5c6ea0546e",
   "metadata": {},
   "source": [
    "### Review the Confusion Matrix"
   ]
  },
  {
   "cell_type": "code",
   "execution_count": 65,
   "id": "5a549752-c5b7-40bc-b67c-403cf85f3ade",
   "metadata": {},
   "outputs": [
    {
     "name": "stdout",
     "output_type": "stream",
     "text": [
      "[[   0    1    2    3    4    5    6    7    8    9]]\n",
      "\n",
      "[[ 976    0    2    0    0    2    3    1    4    0]\n",
      " [   0 1133    0    0    0    0    1    6    0    1]\n",
      " [   1    0 1024    0    0    0    0    5    1    0]\n",
      " [   0    0    2 1003    0   19    0    0    1    0]\n",
      " [   0    0    1    0  977    0    2    2    2   13]\n",
      " [   0    0    0    1    0  862    1    1    0    5]\n",
      " [   2    1    0    0    1    3  950    0    1    0]\n",
      " [   1    0    3    1    0    1    0 1009    0    3]\n",
      " [   0    0    0    5    0    1    1    1  963    4]\n",
      " [   0    1    0    0    4    4    0    3    2  983]]\n"
     ]
    }
   ],
   "source": [
    "# print a row of values for reference\n",
    "np.set_printoptions(formatter=dict(int=lambda x: f'{x:4}'))\n",
    "print(np.arange(10).reshape(1,10))\n",
    "print()\n",
    "\n",
    "# print the confusion matrix\n",
    "print(confusion_matrix(predicted.view(-1), y_test.view(-1)))"
   ]
  },
  {
   "cell_type": "markdown",
   "id": "06e804e1-fd99-4f9d-ab9a-adaf6509563f",
   "metadata": {},
   "source": [
    "## Examine the misses\n",
    "We can track the index positions of \"missed\" predictions, and extract the corresponding image and label. We'll do this in batches to save screen space."
   ]
  },
  {
   "cell_type": "code",
   "execution_count": 68,
   "id": "17d80d69-7d72-4bf2-a3cf-0f6185708aad",
   "metadata": {},
   "outputs": [
    {
     "data": {
      "text/plain": [
       "120"
      ]
     },
     "execution_count": 68,
     "metadata": {},
     "output_type": "execute_result"
    }
   ],
   "source": [
    "misses = np.array([])\n",
    "for i in range(len(predicted.view(-1))):\n",
    "    if predicted[i] != y_test[i]:\n",
    "        misses = np.append(misses,i).astype('int64')\n",
    "        \n",
    "# Display the number of misses\n",
    "len(misses)"
   ]
  },
  {
   "cell_type": "code",
   "execution_count": 70,
   "id": "034c90ec-367d-4dd9-99eb-b1f181dda320",
   "metadata": {},
   "outputs": [
    {
     "data": {
      "text/plain": [
       "array([  18,  320,  321,  340,  359,  445,  582,  674,  691,  726],\n",
       "      dtype=int64)"
      ]
     },
     "execution_count": 70,
     "metadata": {},
     "output_type": "execute_result"
    }
   ],
   "source": [
    "# Display the first 10 index positions\n",
    "misses[:10]"
   ]
  },
  {
   "cell_type": "code",
   "execution_count": 81,
   "id": "c9fa1d12-e8ff-4827-8085-a914d0f1c4c8",
   "metadata": {},
   "outputs": [],
   "source": [
    "# Set up an iterator to feed batched rows\n",
    "r = 12   # row size\n",
    "row = iter(np.array_split(misses,len(misses)//r+1))"
   ]
  },
  {
   "cell_type": "markdown",
   "id": "a45b9ab6-cade-4bce-9e7e-30be72d514bc",
   "metadata": {},
   "source": [
    "Now that everything is set up, run and re-run the cell below to view all of the missed predictions.<br>\n",
    "Use <kbd>Ctrl+Enter</kbd> to remain on the cell between runs. You'll see a <tt>StopIteration</tt> once all the misses have been seen."
   ]
  },
  {
   "cell_type": "markdown",
   "id": "1ff30fa5-3558-458c-8dbc-34ce8e2eaf2a",
   "metadata": {},
   "source": []
  },
  {
   "cell_type": "code",
   "execution_count": 85,
   "id": "0668f8d8-b2cf-4bc6-8177-e82ae5c54906",
   "metadata": {},
   "outputs": [
    {
     "name": "stdout",
     "output_type": "stream",
     "text": [
      "Index: [  18  320  321  340  359  445  582  674  691  726  947]\n",
      "Label: [   3    9    2    5    9    6    8    5    8    7    8]\n",
      "Guess: [   8    8    7    3    4    0    2    3    4    5    9]\n"
     ]
    },
    {
     "data": {
      "image/png": "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",
      "text/plain": [
       "<Figure size 1000x400 with 1 Axes>"
      ]
     },
     "metadata": {},
     "output_type": "display_data"
    }
   ],
   "source": [
    "nextrow = next(row)\n",
    "print(\"Index:\", nextrow)\n",
    "print(\"Label:\", y_test.index_select(0,torch.tensor(nextrow)).numpy())\n",
    "print(\"Guess:\", predicted.index_select(0,torch.tensor(nextrow)).numpy())\n",
    "\n",
    "images = X_test.index_select(0,torch.tensor(nextrow))\n",
    "im = make_grid(images, nrow=r)\n",
    "plt.figure(figsize=(10,4))\n",
    "plt.imshow(np.transpose(im.numpy(), (1, 2, 0)));"
   ]
  },
  {
   "cell_type": "markdown",
   "id": "4e2f9a0a-8d8f-4824-a747-bc63c00d56f1",
   "metadata": {},
   "source": [
    "## Run a new image through the model\n",
    "We can also pass a single image through the model to obtain a prediction. Pick a number from 0 to 9999, assign it to \"x\", and we'll use that value to select a number from the MNIST test set."
   ]
  },
  {
   "cell_type": "code",
   "execution_count": 145,
   "id": "4a8a0386-b615-48dc-acc2-b4958c24a969",
   "metadata": {},
   "outputs": [
    {
     "data": {
      "image/png": "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",
      "text/plain": [
       "<Figure size 100x100 with 1 Axes>"
      ]
     },
     "metadata": {},
     "output_type": "display_data"
    }
   ],
   "source": [
    "x = 947\n",
    "plt.figure(figsize=(1,1))\n",
    "plt.imshow(test_data[x][0].reshape((28,28)), cmap=\"gist_yarg\");"
   ]
  },
  {
   "cell_type": "code",
   "execution_count": 147,
   "id": "14999687-9163-48f8-bff3-a9181254767d",
   "metadata": {},
   "outputs": [
    {
     "name": "stdout",
     "output_type": "stream",
     "text": [
      "Predicted value: 9\n"
     ]
    }
   ],
   "source": [
    "model.eval()\n",
    "with torch.no_grad():\n",
    "    new_pred = model(test_data[x][0].view(1,1,28,28)).argmax()\n",
    "print(\"Predicted value:\",new_pred.item())"
   ]
  },
  {
   "cell_type": "code",
   "execution_count": 157,
   "id": "7ab589c1-f16e-4222-b793-e153e62c319c",
   "metadata": {},
   "outputs": [
    {
     "data": {
      "text/plain": [
       "8"
      ]
     },
     "execution_count": 157,
     "metadata": {},
     "output_type": "execute_result"
    }
   ],
   "source": [
    "# Check images actual value\n",
    "test_data[947][1]"
   ]
  },
  {
   "cell_type": "code",
   "execution_count": null,
   "id": "496c3030-f5a5-4df8-9ec8-b6b6d6212500",
   "metadata": {},
   "outputs": [],
   "source": []
  }
 ],
 "metadata": {
  "kernelspec": {
   "display_name": "Python 3 (ipykernel)",
   "language": "python",
   "name": "python3"
  },
  "language_info": {
   "codemirror_mode": {
    "name": "ipython",
    "version": 3
   },
   "file_extension": ".py",
   "mimetype": "text/x-python",
   "name": "python",
   "nbconvert_exporter": "python",
   "pygments_lexer": "ipython3",
   "version": "3.12.11"
  }
 },
 "nbformat": 4,
 "nbformat_minor": 5
}
