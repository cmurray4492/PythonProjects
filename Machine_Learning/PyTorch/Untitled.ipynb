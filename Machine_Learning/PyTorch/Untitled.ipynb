{
 "cells": [
  {
   "cell_type": "code",
   "execution_count": 1,
<<<<<<< HEAD
   "id": "2b5a122d-af11-406d-b2e3-151917a8e157",
=======
   "id": "ccacf032-84ab-4e0a-8cdb-5ad01c245e7e",
   "metadata": {},
   "outputs": [],
   "source": [
    "import torch\n",
    "import torch.nn as nn\n",
    "import torch.nn.functional as F\n",
    "from torch.utils.data import Dataset, DataLoader\n",
    "from sklearn.model_selection import train_test_split\n",
    "\n",
    "import pandas as pd\n",
    "import matplotlib.pyplot as plt"
   ]
  },
  {
   "cell_type": "code",
   "execution_count": 2,
   "id": "7457096e-774c-4281-b316-605ddfc98985",
   "metadata": {},
   "outputs": [
    {
     "data": {
      "text/plain": [
       "True"
      ]
     },
     "execution_count": 2,
     "metadata": {},
     "output_type": "execute_result"
    }
   ],
   "source": [
    "torch.cuda.is_available()"
   ]
  },
  {
   "cell_type": "code",
   "execution_count": 3,
   "id": "a30ab77a-646f-44fe-bebd-441a523c6aa7",
   "metadata": {},
   "outputs": [],
   "source": [
    "df = pd.read_csv('../Data/iris.csv')"
   ]
  },
  {
   "cell_type": "code",
   "execution_count": 4,
   "id": "d3e5974f-f074-40b5-8a4c-cbf9cbb3f123",
   "metadata": {},
   "outputs": [
    {
     "data": {
      "text/html": [
       "<div>\n",
       "<style scoped>\n",
       "    .dataframe tbody tr th:only-of-type {\n",
       "        vertical-align: middle;\n",
       "    }\n",
       "\n",
       "    .dataframe tbody tr th {\n",
       "        vertical-align: top;\n",
       "    }\n",
       "\n",
       "    .dataframe thead th {\n",
       "        text-align: right;\n",
       "    }\n",
       "</style>\n",
       "<table border=\"1\" class=\"dataframe\">\n",
       "  <thead>\n",
       "    <tr style=\"text-align: right;\">\n",
       "      <th></th>\n",
       "      <th>sepal length (cm)</th>\n",
       "      <th>sepal width (cm)</th>\n",
       "      <th>petal length (cm)</th>\n",
       "      <th>petal width (cm)</th>\n",
       "      <th>target</th>\n",
       "    </tr>\n",
       "  </thead>\n",
       "  <tbody>\n",
       "    <tr>\n",
       "      <th>0</th>\n",
       "      <td>5.1</td>\n",
       "      <td>3.5</td>\n",
       "      <td>1.4</td>\n",
       "      <td>0.2</td>\n",
       "      <td>0.0</td>\n",
       "    </tr>\n",
       "    <tr>\n",
       "      <th>1</th>\n",
       "      <td>4.9</td>\n",
       "      <td>3.0</td>\n",
       "      <td>1.4</td>\n",
       "      <td>0.2</td>\n",
       "      <td>0.0</td>\n",
       "    </tr>\n",
       "    <tr>\n",
       "      <th>2</th>\n",
       "      <td>4.7</td>\n",
       "      <td>3.2</td>\n",
       "      <td>1.3</td>\n",
       "      <td>0.2</td>\n",
       "      <td>0.0</td>\n",
       "    </tr>\n",
       "    <tr>\n",
       "      <th>3</th>\n",
       "      <td>4.6</td>\n",
       "      <td>3.1</td>\n",
       "      <td>1.5</td>\n",
       "      <td>0.2</td>\n",
       "      <td>0.0</td>\n",
       "    </tr>\n",
       "    <tr>\n",
       "      <th>4</th>\n",
       "      <td>5.0</td>\n",
       "      <td>3.6</td>\n",
       "      <td>1.4</td>\n",
       "      <td>0.2</td>\n",
       "      <td>0.0</td>\n",
       "    </tr>\n",
       "  </tbody>\n",
       "</table>\n",
       "</div>"
      ],
      "text/plain": [
       "   sepal length (cm)  sepal width (cm)  petal length (cm)  petal width (cm)  \\\n",
       "0                5.1               3.5                1.4               0.2   \n",
       "1                4.9               3.0                1.4               0.2   \n",
       "2                4.7               3.2                1.3               0.2   \n",
       "3                4.6               3.1                1.5               0.2   \n",
       "4                5.0               3.6                1.4               0.2   \n",
       "\n",
       "   target  \n",
       "0     0.0  \n",
       "1     0.0  \n",
       "2     0.0  \n",
       "3     0.0  \n",
       "4     0.0  "
      ]
     },
     "execution_count": 4,
     "metadata": {},
     "output_type": "execute_result"
    }
   ],
   "source": [
    "df.head()"
   ]
  },
  {
   "cell_type": "code",
   "execution_count": 5,
   "id": "81265cfb-5e39-4002-a490-4afdf4da3dac",
   "metadata": {},
   "outputs": [],
   "source": [
    "X = df.drop('target', axis=1).values"
   ]
  },
  {
   "cell_type": "code",
   "execution_count": 6,
   "id": "15d0c10d-fad5-41fa-bed7-f4c1852d4433",
   "metadata": {},
   "outputs": [],
   "source": [
    "y = df['target'].values"
   ]
  },
  {
   "cell_type": "code",
   "execution_count": 7,
   "id": "0d626463-819e-4d6a-b429-f9a97cc0b8cd",
   "metadata": {},
   "outputs": [],
   "source": [
    "X_train, X_test, y_train, y_test = train_test_split(X,y,test_size=0.2,random_state=33)"
   ]
  },
  {
   "cell_type": "code",
   "execution_count": 8,
   "id": "c4d6a340-2a6c-4f1c-a891-93c0d0c9a6ee",
   "metadata": {},
   "outputs": [],
   "source": [
    "X_train = torch.FloatTensor(X_train).cuda()\n",
    "X_test = torch.FloatTensor(X_test).cuda()\n",
    "y_train = torch.LongTensor(y_train).cuda()\n",
    "y_test = torch.LongTensor(y_test).cuda()"
   ]
  },
  {
   "cell_type": "code",
   "execution_count": 9,
   "id": "2bf0a27c-9707-4b57-bde1-6879dc29ccae",
   "metadata": {},
   "outputs": [],
   "source": [
    "class Model(nn.Module):\n",
    "    def __init__(self, in_features=4, h1=8, h2=9, out_features=3):\n",
    "        super().__init__()\n",
    "        self.fc1 = nn.Linear(in_features,h1)    # input layer\n",
    "        self.fc2 = nn.Linear(h1, h2)            # hidden layer\n",
    "        self.out = nn.Linear(h2, out_features)  # output layer\n",
    "        \n",
    "    def forward(self, x):\n",
    "        x = F.relu(self.fc1(x))\n",
    "        x = F.relu(self.fc2(x))\n",
    "        x = self.out(x)\n",
    "        return x"
   ]
  },
  {
   "cell_type": "code",
   "execution_count": 10,
   "id": "869d2847-fc60-4f4a-922a-2b9bf6e7f7a6",
   "metadata": {},
   "outputs": [],
   "source": [
    "torch.manual_seed(32)\n",
    "model = Model()"
   ]
  },
  {
   "cell_type": "code",
   "execution_count": 11,
   "id": "c552cab4-c86b-4ed0-8a1f-36e875177dbb",
   "metadata": {},
   "outputs": [],
   "source": [
    "model1 = model.cuda()"
   ]
  },
  {
   "cell_type": "code",
   "execution_count": 12,
   "id": "1a39a69e-d12c-4b97-877d-66f54c763cd2",
   "metadata": {},
   "outputs": [],
   "source": [
    "criterion = nn.CrossEntropyLoss()\n",
    "optimizer = torch.optim.Adam(model1.parameters(), lr=0.01)"
   ]
  },
  {
   "cell_type": "code",
   "execution_count": null,
   "id": "3a777622-d3fe-413b-a9fc-cf3abb4b7c9f",
>>>>>>> 961b760f1e8076a2f4926a0799e750707c841e6d
   "metadata": {},
   "outputs": [
    {
     "name": "stdout",
     "output_type": "stream",
     "text": [
<<<<<<< HEAD
      "2.7.1+cpu\n",
      "False\n"
=======
      "epoch:  1  loss: 1.15071130\n",
      "epoch: 101  loss: 0.06713332\n",
      "epoch: 201  loss: 0.05053141\n",
      "epoch: 301  loss: 0.04541456\n",
      "epoch: 401  loss: 0.04291357\n",
      "epoch: 501  loss: 0.04188078\n",
      "epoch: 601  loss: 0.04150496\n",
      "epoch: 701  loss: 0.04136433\n",
      "epoch: 801  loss: 0.04138128\n",
      "epoch: 901  loss: 0.04129652\n",
      "epoch: 1001  loss: 0.04131561\n",
      "epoch: 1101  loss: 0.04127803\n",
      "epoch: 1201  loss: 0.04127228\n",
      "epoch: 1301  loss: 0.04126962\n",
      "epoch: 1401  loss: 0.04185860\n",
      "epoch: 1501  loss: 0.04126286\n",
      "epoch: 1601  loss: 0.04126549\n",
      "epoch: 1701  loss: 0.04125911\n",
      "epoch: 1801  loss: 0.04125898\n",
      "epoch: 1901  loss: 0.04259804\n",
      "epoch: 2001  loss: 0.04125550\n",
      "epoch: 2101  loss: 0.04126381\n",
      "epoch: 2201  loss: 0.04125367\n",
      "epoch: 2301  loss: 0.04125466\n",
      "epoch: 2401  loss: 0.04125239\n",
      "epoch: 2501  loss: 0.04125730\n",
      "epoch: 2601  loss: 0.04125135\n",
      "epoch: 2701  loss: 0.04125137\n",
      "epoch: 2801  loss: 0.04125059\n",
      "epoch: 2901  loss: 0.04125002\n",
      "epoch: 3001  loss: 0.04125114\n",
      "epoch: 3101  loss: 0.04124944\n",
      "epoch: 3201  loss: 0.04125103\n",
      "epoch: 3301  loss: 0.04124900\n",
      "epoch: 3401  loss: 0.04124895\n",
      "epoch: 3501  loss: 0.04124910\n",
      "epoch: 3601  loss: 0.04124830\n",
      "epoch: 3701  loss: 0.04127533\n",
      "epoch: 3801  loss: 0.04124807\n",
      "epoch: 3901  loss: 0.04124764\n",
      "epoch: 4001  loss: 0.04124932\n",
      "epoch: 4101  loss: 0.04124736\n",
      "epoch: 4201  loss: 0.04393133\n",
      "epoch: 4301  loss: 0.04124730\n",
      "epoch: 4401  loss: 0.04124690\n",
      "epoch: 4501  loss: 0.04126752\n",
      "epoch: 4601  loss: 0.04124686\n",
      "epoch: 4701  loss: 0.04124655\n",
      "epoch: 4801  loss: 0.04125221\n",
      "epoch: 4901  loss: 0.04124650\n",
      "epoch: 5001  loss: 0.04124625\n",
      "epoch: 5101  loss: 0.04124666\n",
      "epoch: 5201  loss: 0.04124620\n",
      "epoch: 5301  loss: 0.04124733\n",
      "epoch: 5401  loss: 0.04124645\n",
      "epoch: 5501  loss: 0.04124594\n",
      "epoch: 5601  loss: 0.04148753\n",
      "epoch: 5701  loss: 0.04124596\n",
      "epoch: 5801  loss: 0.04124570\n",
      "epoch: 5901  loss: 0.04124645\n",
      "epoch: 6001  loss: 0.04124571\n",
      "epoch: 6101  loss: 0.04124550\n",
      "epoch: 6201  loss: 0.04125307\n",
      "epoch: 6301  loss: 0.04124552\n",
      "epoch: 6401  loss: 0.04124540\n",
      "epoch: 6501  loss: 0.04125331\n",
      "epoch: 6601  loss: 0.04124538\n",
      "epoch: 6701  loss: 0.04124520\n",
      "epoch: 6801  loss: 0.04124572\n",
      "epoch: 6901  loss: 0.04124526\n",
      "epoch: 7001  loss: 0.04124510\n",
      "epoch: 7101  loss: 0.04126357\n",
      "epoch: 7201  loss: 0.04124527\n",
      "epoch: 7301  loss: 0.04124505\n",
      "epoch: 7401  loss: 0.04124504\n",
      "epoch: 7501  loss: 0.04124568\n",
      "epoch: 7601  loss: 0.04124492\n",
      "epoch: 7701  loss: 0.04124551\n"
>>>>>>> 961b760f1e8076a2f4926a0799e750707c841e6d
     ]
    }
   ],
   "source": [
<<<<<<< HEAD
    "import torch\n",
    "print(torch.__version__)\n",
    "print(torch.cuda.is_available())"
=======
    "import time\n",
    "start = time.time()\n",
    "\n",
    "epochs = 10000\n",
    "losses = []\n",
    "\n",
    "for i in range(epochs):\n",
    "    i+=1\n",
    "    y_pred = model1.forward(X_train)\n",
    "    loss = criterion(y_pred, y_train)\n",
    "    losses.append(loss)\n",
    "    \n",
    "    # a neat trick to save screen space:\n",
    "    if i%100 == 1:\n",
    "        print(f'epoch: {i:2}  loss: {loss.item():10.8f}')\n",
    "\n",
    "    # back propagation\n",
    "    optimizer.zero_grad()\n",
    "    loss.backward()\n",
    "    optimizer.step()\n",
    "\n",
    "\n",
    "end = time.time() - start\n",
    "print(f'Total time {end}')"
>>>>>>> 961b760f1e8076a2f4926a0799e750707c841e6d
   ]
  },
  {
   "cell_type": "code",
   "execution_count": null,
<<<<<<< HEAD
   "id": "9b055eb0-f369-46a8-9eb5-9d00d55f3bfa",
=======
   "id": "7dfb3208-a5c8-41fe-8453-ced11ba5b4a2",
   "metadata": {},
   "outputs": [],
   "source": [
    "next(model1.parameters()).is_cuda"
   ]
  },
  {
   "cell_type": "code",
   "execution_count": null,
   "id": "4a555e8f-289f-4a86-8ccb-df6768757807",
   "metadata": {},
   "outputs": [],
   "source": [
    "correct = 0\n",
    "\n",
    "with torch.no_grad():\n",
    "    for i,data in enumerate(X_test):\n",
    "        y_val = model1.forward(data)\n",
    "        # remove .argmax().item() to get results tensor\n",
    "        print(f'{i+1}.) {str(y_val.argmax().item())} {y_test[i]} ')\n",
    "        \n",
    "        if y_val.argmax().item() == y_test[i]:\n",
    "            correct +=1\n",
    "\n",
    "print(f'We got {correct} correct. ')"
   ]
  },
  {
   "cell_type": "code",
   "execution_count": null,
   "id": "17b9062f-d7c6-40b5-b06c-a654424e68f0",
>>>>>>> 961b760f1e8076a2f4926a0799e750707c841e6d
   "metadata": {},
   "outputs": [],
   "source": []
  }
 ],
 "metadata": {
  "kernelspec": {
   "display_name": "Python 3 (ipykernel)",
   "language": "python",
   "name": "python3"
  },
  "language_info": {
   "codemirror_mode": {
    "name": "ipython",
    "version": 3
   },
   "file_extension": ".py",
   "mimetype": "text/x-python",
   "name": "python",
   "nbconvert_exporter": "python",
   "pygments_lexer": "ipython3",
   "version": "3.12.11"
  }
 },
 "nbformat": 4,
 "nbformat_minor": 5
}
