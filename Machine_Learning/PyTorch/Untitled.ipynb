{
 "cells": [
  {
   "cell_type": "code",
   "execution_count": null,
   "id": "6ff288f8-84bc-459f-9f5e-40e7c27b3004",
   "metadata": {},
   "outputs": [],
   "source": []
  }
 ],
 "metadata": {
  "kernelspec": {
   "display_name": "",
   "name": ""
  },
  "language_info": {
   "name": ""
  }
 },
 "nbformat": 4,
 "nbformat_minor": 5
}
