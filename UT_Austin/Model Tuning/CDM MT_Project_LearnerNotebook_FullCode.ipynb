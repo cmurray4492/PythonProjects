{
 "cells": [
  {
   "cell_type": "markdown",
   "metadata": {
    "id": "9EaJ8AGwpM-2"
   },
   "source": [
    "## Problem Statement"
   ]
  },
  {
   "cell_type": "markdown",
   "metadata": {
    "id": "x3-QehJxbp0t",
    "jp-MarkdownHeadingCollapsed": true
   },
   "source": [
    "### Business Context\n",
    "\n",
    "Renewable energy sources play an increasingly important role in the global energy mix, as the effort to reduce the environmental impact of energy production increases.\n",
    "\n",
    "Out of all the renewable energy alternatives, wind energy is one of the most developed technologies worldwide. The U.S Department of Energy has put together a guide to achieving operational efficiency using predictive maintenance practices.\n",
    "\n",
    "Predictive maintenance uses sensor information and analysis methods to measure and predict degradation and future component capability. The idea behind predictive maintenance is that failure patterns are predictable and if component failure can be predicted accurately and the component is replaced before it fails, the costs of operation and maintenance will be much lower.\n",
    "\n",
    "The sensors fitted across different machines involved in the process of energy generation collect data related to various environmental factors (temperature, humidity, wind speed, etc.) and additional features related to various parts of the wind turbine (gearbox, tower, blades, break, etc.).\n",
    "\n",
    "\n",
    "\n",
    "## Objective\n",
    "“ReneWind” is a company working on improving the machinery/processes involved in the production of wind energy using machine learning and has collected data of generator failure of wind turbines using sensors. They have shared a ciphered version of the data, as the data collected through sensors is confidential (the type of data collected varies with companies). Data has 40 predictors, 20000 observations in the training set and 5000 in the test set.\n",
    "\n",
    "The objective is to build various classification models, tune them, and find the best one that will help identify failures so that the generators could be repaired before failing/breaking to reduce the overall maintenance cost.\n",
    "The nature of predictions made by the classification model will translate as follows:\n",
    "\n",
    "- True positives (TP) are failures correctly predicted by the model. These will result in repairing costs.\n",
    "- False negatives (FN) are real failures where there is no detection by the model. These will result in replacement costs.\n",
    "- False positives (FP) are detections where there is no failure. These will result in inspection costs.\n",
    "\n",
    "It is given that the cost of repairing a generator is much less than the cost of replacing it, and the cost of inspection is less than the cost of repair.\n",
    "\n",
    "“1” in the target variables should be considered as “failure” and “0” represents “No failure”.\n",
    "\n",
    "## Data Description\n",
    "- The data provided is a transformed version of original data which was collected using sensors.\n",
    "- Train.csv - To be used for training and tuning of models.\n",
    "- Test.csv - To be used only for testing the performance of the final best model.\n",
    "- Both the datasets consist of 40 predictor variables and 1 target variable"
   ]
  },
  {
   "cell_type": "markdown",
   "metadata": {
    "id": "v_-uuGqH-qTt"
   },
   "source": [
    "## Importing necessary libraries"
   ]
  },
  {
   "cell_type": "code",
   "execution_count": 3,
   "metadata": {
    "id": "NxVW1EeJ5OI3"
   },
   "outputs": [],
   "source": [
    "# Installing the libraries with the specified version.\n",
    "# !pip install pandas==1.5.3 numpy==1.25.2 matplotlib==3.7.1 seaborn==0.13.1 scikit-learn==1.2.2 imbalanced-learn==0.10.1 xgboost==2.0.3 threadpoolctl==3.3.0 -q --user"
   ]
  },
  {
   "cell_type": "markdown",
   "metadata": {
    "id": "B9XTaUAA5Q0M"
   },
   "source": [
    "**Note:** After running the above cell, kindly restart the notebook kernel and run all cells sequentially from the start again."
   ]
  },
  {
   "cell_type": "code",
   "execution_count": 8,
   "metadata": {
    "id": "83D17_Wl4jal"
   },
   "outputs": [],
   "source": [
    "import numpy as np\n",
    "import pandas as pd\n",
    "import matplotlib.pyplot as plt \n",
    "import seaborn as sns\n",
    "import xgboost\n",
    "# import imbalanced-learn\n",
    "import threadpoolctl"
   ]
  },
  {
   "cell_type": "markdown",
   "metadata": {
    "id": "xxhpZv9y-qTw"
   },
   "source": [
    "## Loading the dataset"
   ]
  },
  {
   "cell_type": "code",
   "execution_count": 10,
   "metadata": {
    "id": "oJnKoHy14jam"
   },
   "outputs": [],
   "source": [
    "base_train = pd.read_csv('Train.csv')\n",
    "base_test = pd.read_csv('Test.csv')"
   ]
  },
  {
   "cell_type": "code",
   "execution_count": 12,
   "metadata": {},
   "outputs": [
    {
     "data": {
      "text/html": [
       "<div>\n",
       "<style scoped>\n",
       "    .dataframe tbody tr th:only-of-type {\n",
       "        vertical-align: middle;\n",
       "    }\n",
       "\n",
       "    .dataframe tbody tr th {\n",
       "        vertical-align: top;\n",
       "    }\n",
       "\n",
       "    .dataframe thead th {\n",
       "        text-align: right;\n",
       "    }\n",
       "</style>\n",
       "<table border=\"1\" class=\"dataframe\">\n",
       "  <thead>\n",
       "    <tr style=\"text-align: right;\">\n",
       "      <th></th>\n",
       "      <th>V1</th>\n",
       "      <th>V2</th>\n",
       "      <th>V3</th>\n",
       "      <th>V4</th>\n",
       "      <th>V5</th>\n",
       "      <th>V6</th>\n",
       "      <th>V7</th>\n",
       "      <th>V8</th>\n",
       "      <th>V9</th>\n",
       "      <th>V10</th>\n",
       "      <th>...</th>\n",
       "      <th>V32</th>\n",
       "      <th>V33</th>\n",
       "      <th>V34</th>\n",
       "      <th>V35</th>\n",
       "      <th>V36</th>\n",
       "      <th>V37</th>\n",
       "      <th>V38</th>\n",
       "      <th>V39</th>\n",
       "      <th>V40</th>\n",
       "      <th>Target</th>\n",
       "    </tr>\n",
       "  </thead>\n",
       "  <tbody>\n",
       "    <tr>\n",
       "      <th>0</th>\n",
       "      <td>-4.464606</td>\n",
       "      <td>-4.679129</td>\n",
       "      <td>3.101546</td>\n",
       "      <td>0.506130</td>\n",
       "      <td>-0.221083</td>\n",
       "      <td>-2.032511</td>\n",
       "      <td>-2.910870</td>\n",
       "      <td>0.050714</td>\n",
       "      <td>-1.522351</td>\n",
       "      <td>3.761892</td>\n",
       "      <td>...</td>\n",
       "      <td>3.059700</td>\n",
       "      <td>-1.690440</td>\n",
       "      <td>2.846296</td>\n",
       "      <td>2.235198</td>\n",
       "      <td>6.667486</td>\n",
       "      <td>0.443809</td>\n",
       "      <td>-2.369169</td>\n",
       "      <td>2.950578</td>\n",
       "      <td>-3.480324</td>\n",
       "      <td>0</td>\n",
       "    </tr>\n",
       "    <tr>\n",
       "      <th>1</th>\n",
       "      <td>3.365912</td>\n",
       "      <td>3.653381</td>\n",
       "      <td>0.909671</td>\n",
       "      <td>-1.367528</td>\n",
       "      <td>0.332016</td>\n",
       "      <td>2.358938</td>\n",
       "      <td>0.732600</td>\n",
       "      <td>-4.332135</td>\n",
       "      <td>0.565695</td>\n",
       "      <td>-0.101080</td>\n",
       "      <td>...</td>\n",
       "      <td>-1.795474</td>\n",
       "      <td>3.032780</td>\n",
       "      <td>-2.467514</td>\n",
       "      <td>1.894599</td>\n",
       "      <td>-2.297780</td>\n",
       "      <td>-1.731048</td>\n",
       "      <td>5.908837</td>\n",
       "      <td>-0.386345</td>\n",
       "      <td>0.616242</td>\n",
       "      <td>0</td>\n",
       "    </tr>\n",
       "    <tr>\n",
       "      <th>2</th>\n",
       "      <td>-3.831843</td>\n",
       "      <td>-5.824444</td>\n",
       "      <td>0.634031</td>\n",
       "      <td>-2.418815</td>\n",
       "      <td>-1.773827</td>\n",
       "      <td>1.016824</td>\n",
       "      <td>-2.098941</td>\n",
       "      <td>-3.173204</td>\n",
       "      <td>-2.081860</td>\n",
       "      <td>5.392621</td>\n",
       "      <td>...</td>\n",
       "      <td>-0.257101</td>\n",
       "      <td>0.803550</td>\n",
       "      <td>4.086219</td>\n",
       "      <td>2.292138</td>\n",
       "      <td>5.360850</td>\n",
       "      <td>0.351993</td>\n",
       "      <td>2.940021</td>\n",
       "      <td>3.839160</td>\n",
       "      <td>-4.309402</td>\n",
       "      <td>0</td>\n",
       "    </tr>\n",
       "    <tr>\n",
       "      <th>3</th>\n",
       "      <td>1.618098</td>\n",
       "      <td>1.888342</td>\n",
       "      <td>7.046143</td>\n",
       "      <td>-1.147285</td>\n",
       "      <td>0.083080</td>\n",
       "      <td>-1.529780</td>\n",
       "      <td>0.207309</td>\n",
       "      <td>-2.493629</td>\n",
       "      <td>0.344926</td>\n",
       "      <td>2.118578</td>\n",
       "      <td>...</td>\n",
       "      <td>-3.584425</td>\n",
       "      <td>-2.577474</td>\n",
       "      <td>1.363769</td>\n",
       "      <td>0.622714</td>\n",
       "      <td>5.550100</td>\n",
       "      <td>-1.526796</td>\n",
       "      <td>0.138853</td>\n",
       "      <td>3.101430</td>\n",
       "      <td>-1.277378</td>\n",
       "      <td>0</td>\n",
       "    </tr>\n",
       "    <tr>\n",
       "      <th>4</th>\n",
       "      <td>-0.111440</td>\n",
       "      <td>3.872488</td>\n",
       "      <td>-3.758361</td>\n",
       "      <td>-2.982897</td>\n",
       "      <td>3.792714</td>\n",
       "      <td>0.544960</td>\n",
       "      <td>0.205433</td>\n",
       "      <td>4.848994</td>\n",
       "      <td>-1.854920</td>\n",
       "      <td>-6.220023</td>\n",
       "      <td>...</td>\n",
       "      <td>8.265896</td>\n",
       "      <td>6.629213</td>\n",
       "      <td>-10.068689</td>\n",
       "      <td>1.222987</td>\n",
       "      <td>-3.229763</td>\n",
       "      <td>1.686909</td>\n",
       "      <td>-2.163896</td>\n",
       "      <td>-3.644622</td>\n",
       "      <td>6.510338</td>\n",
       "      <td>0</td>\n",
       "    </tr>\n",
       "  </tbody>\n",
       "</table>\n",
       "<p>5 rows × 41 columns</p>\n",
       "</div>"
      ],
      "text/plain": [
       "         V1        V2        V3        V4        V5        V6        V7  \\\n",
       "0 -4.464606 -4.679129  3.101546  0.506130 -0.221083 -2.032511 -2.910870   \n",
       "1  3.365912  3.653381  0.909671 -1.367528  0.332016  2.358938  0.732600   \n",
       "2 -3.831843 -5.824444  0.634031 -2.418815 -1.773827  1.016824 -2.098941   \n",
       "3  1.618098  1.888342  7.046143 -1.147285  0.083080 -1.529780  0.207309   \n",
       "4 -0.111440  3.872488 -3.758361 -2.982897  3.792714  0.544960  0.205433   \n",
       "\n",
       "         V8        V9       V10  ...       V32       V33        V34       V35  \\\n",
       "0  0.050714 -1.522351  3.761892  ...  3.059700 -1.690440   2.846296  2.235198   \n",
       "1 -4.332135  0.565695 -0.101080  ... -1.795474  3.032780  -2.467514  1.894599   \n",
       "2 -3.173204 -2.081860  5.392621  ... -0.257101  0.803550   4.086219  2.292138   \n",
       "3 -2.493629  0.344926  2.118578  ... -3.584425 -2.577474   1.363769  0.622714   \n",
       "4  4.848994 -1.854920 -6.220023  ...  8.265896  6.629213 -10.068689  1.222987   \n",
       "\n",
       "        V36       V37       V38       V39       V40  Target  \n",
       "0  6.667486  0.443809 -2.369169  2.950578 -3.480324       0  \n",
       "1 -2.297780 -1.731048  5.908837 -0.386345  0.616242       0  \n",
       "2  5.360850  0.351993  2.940021  3.839160 -4.309402       0  \n",
       "3  5.550100 -1.526796  0.138853  3.101430 -1.277378       0  \n",
       "4 -3.229763  1.686909 -2.163896 -3.644622  6.510338       0  \n",
       "\n",
       "[5 rows x 41 columns]"
      ]
     },
     "execution_count": 12,
     "metadata": {},
     "output_type": "execute_result"
    }
   ],
   "source": [
    "base_train.head()"
   ]
  },
  {
   "cell_type": "code",
   "execution_count": 14,
   "metadata": {},
   "outputs": [
    {
     "data": {
      "text/html": [
       "<div>\n",
       "<style scoped>\n",
       "    .dataframe tbody tr th:only-of-type {\n",
       "        vertical-align: middle;\n",
       "    }\n",
       "\n",
       "    .dataframe tbody tr th {\n",
       "        vertical-align: top;\n",
       "    }\n",
       "\n",
       "    .dataframe thead th {\n",
       "        text-align: right;\n",
       "    }\n",
       "</style>\n",
       "<table border=\"1\" class=\"dataframe\">\n",
       "  <thead>\n",
       "    <tr style=\"text-align: right;\">\n",
       "      <th></th>\n",
       "      <th>V1</th>\n",
       "      <th>V2</th>\n",
       "      <th>V3</th>\n",
       "      <th>V4</th>\n",
       "      <th>V5</th>\n",
       "      <th>V6</th>\n",
       "      <th>V7</th>\n",
       "      <th>V8</th>\n",
       "      <th>V9</th>\n",
       "      <th>V10</th>\n",
       "      <th>...</th>\n",
       "      <th>V32</th>\n",
       "      <th>V33</th>\n",
       "      <th>V34</th>\n",
       "      <th>V35</th>\n",
       "      <th>V36</th>\n",
       "      <th>V37</th>\n",
       "      <th>V38</th>\n",
       "      <th>V39</th>\n",
       "      <th>V40</th>\n",
       "      <th>Target</th>\n",
       "    </tr>\n",
       "  </thead>\n",
       "  <tbody>\n",
       "    <tr>\n",
       "      <th>0</th>\n",
       "      <td>-0.613489</td>\n",
       "      <td>-3.819640</td>\n",
       "      <td>2.202302</td>\n",
       "      <td>1.300420</td>\n",
       "      <td>-1.184929</td>\n",
       "      <td>-4.495964</td>\n",
       "      <td>-1.835817</td>\n",
       "      <td>4.722989</td>\n",
       "      <td>1.206140</td>\n",
       "      <td>-0.341909</td>\n",
       "      <td>...</td>\n",
       "      <td>2.291204</td>\n",
       "      <td>-5.411388</td>\n",
       "      <td>0.870073</td>\n",
       "      <td>0.574479</td>\n",
       "      <td>4.157191</td>\n",
       "      <td>1.428093</td>\n",
       "      <td>-10.511342</td>\n",
       "      <td>0.454664</td>\n",
       "      <td>-1.448363</td>\n",
       "      <td>0</td>\n",
       "    </tr>\n",
       "    <tr>\n",
       "      <th>1</th>\n",
       "      <td>0.389608</td>\n",
       "      <td>-0.512341</td>\n",
       "      <td>0.527053</td>\n",
       "      <td>-2.576776</td>\n",
       "      <td>-1.016766</td>\n",
       "      <td>2.235112</td>\n",
       "      <td>-0.441301</td>\n",
       "      <td>-4.405744</td>\n",
       "      <td>-0.332869</td>\n",
       "      <td>1.966794</td>\n",
       "      <td>...</td>\n",
       "      <td>-2.474936</td>\n",
       "      <td>2.493582</td>\n",
       "      <td>0.315165</td>\n",
       "      <td>2.059288</td>\n",
       "      <td>0.683859</td>\n",
       "      <td>-0.485452</td>\n",
       "      <td>5.128350</td>\n",
       "      <td>1.720744</td>\n",
       "      <td>-1.488235</td>\n",
       "      <td>0</td>\n",
       "    </tr>\n",
       "    <tr>\n",
       "      <th>2</th>\n",
       "      <td>-0.874861</td>\n",
       "      <td>-0.640632</td>\n",
       "      <td>4.084202</td>\n",
       "      <td>-1.590454</td>\n",
       "      <td>0.525855</td>\n",
       "      <td>-1.957592</td>\n",
       "      <td>-0.695367</td>\n",
       "      <td>1.347309</td>\n",
       "      <td>-1.732348</td>\n",
       "      <td>0.466500</td>\n",
       "      <td>...</td>\n",
       "      <td>-1.318888</td>\n",
       "      <td>-2.997464</td>\n",
       "      <td>0.459664</td>\n",
       "      <td>0.619774</td>\n",
       "      <td>5.631504</td>\n",
       "      <td>1.323512</td>\n",
       "      <td>-1.752154</td>\n",
       "      <td>1.808302</td>\n",
       "      <td>1.675748</td>\n",
       "      <td>0</td>\n",
       "    </tr>\n",
       "    <tr>\n",
       "      <th>3</th>\n",
       "      <td>0.238384</td>\n",
       "      <td>1.458607</td>\n",
       "      <td>4.014528</td>\n",
       "      <td>2.534478</td>\n",
       "      <td>1.196987</td>\n",
       "      <td>-3.117330</td>\n",
       "      <td>-0.924035</td>\n",
       "      <td>0.269493</td>\n",
       "      <td>1.322436</td>\n",
       "      <td>0.702345</td>\n",
       "      <td>...</td>\n",
       "      <td>3.517918</td>\n",
       "      <td>-3.074085</td>\n",
       "      <td>-0.284220</td>\n",
       "      <td>0.954576</td>\n",
       "      <td>3.029331</td>\n",
       "      <td>-1.367198</td>\n",
       "      <td>-3.412140</td>\n",
       "      <td>0.906000</td>\n",
       "      <td>-2.450889</td>\n",
       "      <td>0</td>\n",
       "    </tr>\n",
       "    <tr>\n",
       "      <th>4</th>\n",
       "      <td>5.828225</td>\n",
       "      <td>2.768260</td>\n",
       "      <td>-1.234530</td>\n",
       "      <td>2.809264</td>\n",
       "      <td>-1.641648</td>\n",
       "      <td>-1.406698</td>\n",
       "      <td>0.568643</td>\n",
       "      <td>0.965043</td>\n",
       "      <td>1.918379</td>\n",
       "      <td>-2.774855</td>\n",
       "      <td>...</td>\n",
       "      <td>1.773841</td>\n",
       "      <td>-1.501573</td>\n",
       "      <td>-2.226702</td>\n",
       "      <td>4.776830</td>\n",
       "      <td>-6.559698</td>\n",
       "      <td>-0.805551</td>\n",
       "      <td>-0.276007</td>\n",
       "      <td>-3.858207</td>\n",
       "      <td>-0.537694</td>\n",
       "      <td>0</td>\n",
       "    </tr>\n",
       "  </tbody>\n",
       "</table>\n",
       "<p>5 rows × 41 columns</p>\n",
       "</div>"
      ],
      "text/plain": [
       "         V1        V2        V3        V4        V5        V6        V7  \\\n",
       "0 -0.613489 -3.819640  2.202302  1.300420 -1.184929 -4.495964 -1.835817   \n",
       "1  0.389608 -0.512341  0.527053 -2.576776 -1.016766  2.235112 -0.441301   \n",
       "2 -0.874861 -0.640632  4.084202 -1.590454  0.525855 -1.957592 -0.695367   \n",
       "3  0.238384  1.458607  4.014528  2.534478  1.196987 -3.117330 -0.924035   \n",
       "4  5.828225  2.768260 -1.234530  2.809264 -1.641648 -1.406698  0.568643   \n",
       "\n",
       "         V8        V9       V10  ...       V32       V33       V34       V35  \\\n",
       "0  4.722989  1.206140 -0.341909  ...  2.291204 -5.411388  0.870073  0.574479   \n",
       "1 -4.405744 -0.332869  1.966794  ... -2.474936  2.493582  0.315165  2.059288   \n",
       "2  1.347309 -1.732348  0.466500  ... -1.318888 -2.997464  0.459664  0.619774   \n",
       "3  0.269493  1.322436  0.702345  ...  3.517918 -3.074085 -0.284220  0.954576   \n",
       "4  0.965043  1.918379 -2.774855  ...  1.773841 -1.501573 -2.226702  4.776830   \n",
       "\n",
       "        V36       V37        V38       V39       V40  Target  \n",
       "0  4.157191  1.428093 -10.511342  0.454664 -1.448363       0  \n",
       "1  0.683859 -0.485452   5.128350  1.720744 -1.488235       0  \n",
       "2  5.631504  1.323512  -1.752154  1.808302  1.675748       0  \n",
       "3  3.029331 -1.367198  -3.412140  0.906000 -2.450889       0  \n",
       "4 -6.559698 -0.805551  -0.276007 -3.858207 -0.537694       0  \n",
       "\n",
       "[5 rows x 41 columns]"
      ]
     },
     "execution_count": 14,
     "metadata": {},
     "output_type": "execute_result"
    }
   ],
   "source": [
    "base_test.head()"
   ]
  },
  {
   "cell_type": "code",
   "execution_count": 16,
   "metadata": {},
   "outputs": [
    {
     "data": {
      "text/plain": [
       "V1        18\n",
       "V2        18\n",
       "V3         0\n",
       "V4         0\n",
       "V5         0\n",
       "V6         0\n",
       "V7         0\n",
       "V8         0\n",
       "V9         0\n",
       "V10        0\n",
       "V11        0\n",
       "V12        0\n",
       "V13        0\n",
       "V14        0\n",
       "V15        0\n",
       "V16        0\n",
       "V17        0\n",
       "V18        0\n",
       "V19        0\n",
       "V20        0\n",
       "V21        0\n",
       "V22        0\n",
       "V23        0\n",
       "V24        0\n",
       "V25        0\n",
       "V26        0\n",
       "V27        0\n",
       "V28        0\n",
       "V29        0\n",
       "V30        0\n",
       "V31        0\n",
       "V32        0\n",
       "V33        0\n",
       "V34        0\n",
       "V35        0\n",
       "V36        0\n",
       "V37        0\n",
       "V38        0\n",
       "V39        0\n",
       "V40        0\n",
       "Target     0\n",
       "dtype: int64"
      ]
     },
     "execution_count": 16,
     "metadata": {},
     "output_type": "execute_result"
    }
   ],
   "source": [
    "base_train.isna().sum()"
   ]
  },
  {
   "cell_type": "code",
   "execution_count": 18,
   "metadata": {},
   "outputs": [
    {
     "data": {
      "text/plain": [
       "V1        5\n",
       "V2        6\n",
       "V3        0\n",
       "V4        0\n",
       "V5        0\n",
       "V6        0\n",
       "V7        0\n",
       "V8        0\n",
       "V9        0\n",
       "V10       0\n",
       "V11       0\n",
       "V12       0\n",
       "V13       0\n",
       "V14       0\n",
       "V15       0\n",
       "V16       0\n",
       "V17       0\n",
       "V18       0\n",
       "V19       0\n",
       "V20       0\n",
       "V21       0\n",
       "V22       0\n",
       "V23       0\n",
       "V24       0\n",
       "V25       0\n",
       "V26       0\n",
       "V27       0\n",
       "V28       0\n",
       "V29       0\n",
       "V30       0\n",
       "V31       0\n",
       "V32       0\n",
       "V33       0\n",
       "V34       0\n",
       "V35       0\n",
       "V36       0\n",
       "V37       0\n",
       "V38       0\n",
       "V39       0\n",
       "V40       0\n",
       "Target    0\n",
       "dtype: int64"
      ]
     },
     "execution_count": 18,
     "metadata": {},
     "output_type": "execute_result"
    }
   ],
   "source": [
    "base_test.isna().sum()"
   ]
  },
  {
   "cell_type": "code",
   "execution_count": null,
   "metadata": {},
   "outputs": [],
   "source": []
  },
  {
   "cell_type": "code",
   "execution_count": null,
   "metadata": {},
   "outputs": [],
   "source": []
  },
  {
   "cell_type": "code",
   "execution_count": null,
   "metadata": {},
   "outputs": [],
   "source": []
  },
  {
   "cell_type": "code",
   "execution_count": null,
   "metadata": {},
   "outputs": [],
   "source": []
  },
  {
   "cell_type": "code",
   "execution_count": null,
   "metadata": {},
   "outputs": [],
   "source": []
  },
  {
   "cell_type": "markdown",
   "metadata": {
    "id": "UvpMDcaaMKtI"
   },
   "source": [
    "## Data Overview"
   ]
  },
  {
   "cell_type": "markdown",
   "metadata": {
    "id": "tIiCRwqZ54_C"
   },
   "source": [
    "- Observations\n",
    "- Sanity checks"
   ]
  },
  {
   "cell_type": "code",
   "execution_count": null,
   "metadata": {
    "id": "01hJQ7EfMKtK"
   },
   "outputs": [],
   "source": []
  },
  {
   "cell_type": "markdown",
   "metadata": {
    "id": "__7ciGcIDPyk"
   },
   "source": [
    "## Exploratory Data Analysis (EDA)"
   ]
  },
  {
   "cell_type": "markdown",
   "metadata": {
    "id": "TWlGr1u1hKyk"
   },
   "source": [
    "### Plotting histograms and boxplots for all the variables"
   ]
  },
  {
   "cell_type": "code",
   "execution_count": null,
   "metadata": {
    "id": "c2op1ZUyhKyk"
   },
   "outputs": [],
   "source": [
    "# function to plot a boxplot and a histogram along the same scale.\n",
    "\n",
    "\n",
    "def histogram_boxplot(data, feature, figsize=(12, 7), kde=False, bins=None):\n",
    "    \"\"\"\n",
    "    Boxplot and histogram combined\n",
    "\n",
    "    data: dataframe\n",
    "    feature: dataframe column\n",
    "    figsize: size of figure (default (12,7))\n",
    "    kde: whether to the show density curve (default False)\n",
    "    bins: number of bins for histogram (default None)\n",
    "    \"\"\"\n",
    "    f2, (ax_box2, ax_hist2) = plt.subplots(\n",
    "        nrows=2,  # Number of rows of the subplot grid= 2\n",
    "        sharex=True,  # x-axis will be shared among all subplots\n",
    "        gridspec_kw={\"height_ratios\": (0.25, 0.75)},\n",
    "        figsize=figsize,\n",
    "    )  # creating the 2 subplots\n",
    "    sns.boxplot(\n",
    "        data=data, x=feature, ax=ax_box2, showmeans=True, color=\"violet\"\n",
    "    )  # boxplot will be created and a star will indicate the mean value of the column\n",
    "    sns.histplot(\n",
    "        data=data, x=feature, kde=kde, ax=ax_hist2, bins=bins, palette=\"winter\"\n",
    "    ) if bins else sns.histplot(\n",
    "        data=data, x=feature, kde=kde, ax=ax_hist2\n",
    "    )  # For histogram\n",
    "    ax_hist2.axvline(\n",
    "        data[feature].mean(), color=\"green\", linestyle=\"--\"\n",
    "    )  # Add mean to the histogram\n",
    "    ax_hist2.axvline(\n",
    "        data[feature].median(), color=\"black\", linestyle=\"-\"\n",
    "    )  # Add median to the histogram"
   ]
  },
  {
   "cell_type": "markdown",
   "metadata": {
    "id": "_jUaMoVvhKyl"
   },
   "source": [
    "### Plotting all the features at one go"
   ]
  },
  {
   "cell_type": "code",
   "execution_count": null,
   "metadata": {
    "id": "W91y_f944jan"
   },
   "outputs": [],
   "source": [
    "for feature in df.columns:\n",
    "    histogram_boxplot(df, feature, figsize=(12, 7), kde=False, bins=None) ## Please change the dataframe name as you define while reading the data"
   ]
  },
  {
   "cell_type": "markdown",
   "metadata": {
    "id": "knk0w9XH4jao"
   },
   "source": [
    "## Data Pre-processing"
   ]
  },
  {
   "cell_type": "code",
   "execution_count": null,
   "metadata": {
    "id": "2JbJc1bX4jao"
   },
   "outputs": [],
   "source": []
  },
  {
   "cell_type": "markdown",
   "metadata": {
    "id": "0J99-7Kubp09"
   },
   "source": [
    "## Missing value imputation\n",
    "\n",
    "\n"
   ]
  },
  {
   "cell_type": "code",
   "execution_count": null,
   "metadata": {
    "id": "hke9uYOfBqoQ"
   },
   "outputs": [],
   "source": []
  },
  {
   "cell_type": "markdown",
   "metadata": {
    "id": "OzOa9FGA6WtG"
   },
   "source": [
    "## Model Building"
   ]
  },
  {
   "cell_type": "markdown",
   "metadata": {
    "id": "YZqmoqz7bp0-"
   },
   "source": [
    "### Model evaluation criterion"
   ]
  },
  {
   "cell_type": "markdown",
   "metadata": {
    "id": "l2ORUgmUjDZC"
   },
   "source": [
    "The nature of predictions made by the classification model will translate as follows:\n",
    "\n",
    "- True positives (TP) are failures correctly predicted by the model.\n",
    "- False negatives (FN) are real failures in a generator where there is no detection by model.\n",
    "- False positives (FP) are failure detections in a generator where there is no failure.\n",
    "\n",
    "**Which metric to optimize?**\n",
    "\n",
    "* We need to choose the metric which will ensure that the maximum number of generator failures are predicted correctly by the model.\n",
    "* We would want Recall to be maximized as greater the Recall, the higher the chances of minimizing false negatives.\n",
    "* We want to minimize false negatives because if a model predicts that a machine will have no failure when there will be a failure, it will increase the maintenance cost."
   ]
  },
  {
   "cell_type": "markdown",
   "metadata": {
    "id": "djQTqGKU4jap"
   },
   "source": [
    "**Let's define a function to output different metrics (including recall) on the train and test set and a function to show confusion matrix so that we do not have to use the same code repetitively while evaluating models.**"
   ]
  },
  {
   "cell_type": "code",
   "execution_count": null,
   "metadata": {
    "id": "bIekBxwp4jaq"
   },
   "outputs": [],
   "source": [
    "# defining a function to compute different metrics to check performance of a classification model built using sklearn\n",
    "def model_performance_classification_sklearn(model, predictors, target):\n",
    "    \"\"\"\n",
    "    Function to compute different metrics to check classification model performance\n",
    "\n",
    "    model: classifier\n",
    "    predictors: independent variables\n",
    "    target: dependent variable\n",
    "    \"\"\"\n",
    "\n",
    "    # predicting using the independent variables\n",
    "    pred = model.predict(predictors)\n",
    "\n",
    "    acc = accuracy_score(target, pred)  # to compute Accuracy\n",
    "    recall = recall_score(target, pred)  # to compute Recall\n",
    "    precision = precision_score(target, pred)  # to compute Precision\n",
    "    f1 = f1_score(target, pred)  # to compute F1-score\n",
    "\n",
    "    # creating a dataframe of metrics\n",
    "    df_perf = pd.DataFrame(\n",
    "        {\n",
    "            \"Accuracy\": acc,\n",
    "            \"Recall\": recall,\n",
    "            \"Precision\": precision,\n",
    "            \"F1\": f1\n",
    "\n",
    "        },\n",
    "        index=[0],\n",
    "    )\n",
    "\n",
    "    return df_perf"
   ]
  },
  {
   "cell_type": "markdown",
   "metadata": {
    "id": "-hOzddAXbp0_"
   },
   "source": [
    "### Defining scorer to be used for cross-validation and hyperparameter tuning"
   ]
  },
  {
   "cell_type": "markdown",
   "metadata": {
    "id": "dzLUm-eSi_cJ"
   },
   "source": [
    "- We want to reduce false negatives and will try to maximize \"Recall\".\n",
    "- To maximize Recall, we can use Recall as a **scorer** in cross-validation and hyperparameter tuning."
   ]
  },
  {
   "cell_type": "code",
   "execution_count": null,
   "metadata": {
    "id": "ayLcyOLsbp0_"
   },
   "outputs": [],
   "source": [
    "# Type of scoring used to compare parameter combinations\n",
    "scorer = metrics.make_scorer(metrics.recall_score)"
   ]
  },
  {
   "cell_type": "markdown",
   "metadata": {
    "id": "eqCDCbcw4jas"
   },
   "source": [
    "### Model Building with original data"
   ]
  },
  {
   "cell_type": "markdown",
   "metadata": {
    "id": "dBtuhurlhKyp"
   },
   "source": [
    "Sample Decision Tree model building with original data"
   ]
  },
  {
   "cell_type": "code",
   "execution_count": null,
   "metadata": {
    "id": "V-tpzI7g4jas"
   },
   "outputs": [],
   "source": [
    "models = []  # Empty list to store all the models\n",
    "\n",
    "# Appending models into the list\n",
    "models.append((\"dtree\", DecisionTreeClassifier(random_state=1)))\n",
    "\n",
    "results1 = []  # Empty list to store all model's CV scores\n",
    "names = []  # Empty list to store name of the models\n",
    "\n",
    "\n",
    "# loop through all models to get the mean cross validated score\n",
    "print(\"\\n\" \"Cross-Validation performance on training dataset:\" \"\\n\")\n",
    "\n",
    "for name, model in models:\n",
    "    kfold = StratifiedKFold(\n",
    "        n_splits=5, shuffle=True, random_state=1\n",
    "    )  # Setting number of splits equal to 5\n",
    "    cv_result = cross_val_score(\n",
    "        estimator=model, X=X_train, y=y_train, scoring=scorer, cv=kfold\n",
    "    )\n",
    "    results1.append(cv_result)\n",
    "    names.append(name)\n",
    "    print(\"{}: {}\".format(name, cv_result.mean()))\n",
    "\n",
    "print(\"\\n\" \"Validation Performance:\" \"\\n\")\n",
    "\n",
    "for name, model in models:\n",
    "    model.fit(X_train, y_train)\n",
    "    scores = recall_score(y_val, model.predict(X_val))\n",
    "    print(\"{}: {}\".format(name, scores))"
   ]
  },
  {
   "cell_type": "markdown",
   "metadata": {
    "id": "oBKJaFU24jas"
   },
   "source": [
    "### Model Building with Oversampled data\n"
   ]
  },
  {
   "cell_type": "code",
   "execution_count": null,
   "metadata": {
    "id": "FKxnygkE4jat"
   },
   "outputs": [],
   "source": [
    "# Synthetic Minority Over Sampling Technique\n",
    "sm = SMOTE(sampling_strategy=1, k_neighbors=5, random_state=1)\n",
    "X_train_over, y_train_over = sm.fit_resample(X_train, y_train)"
   ]
  },
  {
   "cell_type": "code",
   "execution_count": null,
   "metadata": {
    "id": "uYDlbnUO4jat"
   },
   "outputs": [],
   "source": []
  },
  {
   "cell_type": "markdown",
   "metadata": {
    "id": "1aimb6bn4jat"
   },
   "source": [
    "### Model Building with Undersampled data"
   ]
  },
  {
   "cell_type": "code",
   "execution_count": null,
   "metadata": {
    "id": "DhxfTkvu4jat"
   },
   "outputs": [],
   "source": [
    "# Random undersampler for under sampling the data\n",
    "rus = RandomUnderSampler(random_state=1, sampling_strategy=1)\n",
    "X_train_un, y_train_un = rus.fit_resample(X_train, y_train)"
   ]
  },
  {
   "cell_type": "code",
   "execution_count": null,
   "metadata": {
    "id": "jROP_DVF4jau"
   },
   "outputs": [],
   "source": []
  },
  {
   "cell_type": "markdown",
   "metadata": {
    "id": "yZGY1eL84jau"
   },
   "source": [
    "## HyperparameterTuning"
   ]
  },
  {
   "cell_type": "markdown",
   "metadata": {
    "id": "rxM3jQuK_Pqc"
   },
   "source": [
    "### Sample Parameter Grids"
   ]
  },
  {
   "cell_type": "markdown",
   "metadata": {
    "id": "czq7BZ5b4jau"
   },
   "source": [
    "**Hyperparameter tuning can take a long time to run, so to avoid that time complexity - you can use the following grids, wherever required.**\n",
    "\n",
    "- For Gradient Boosting:\n",
    "\n",
    "param_grid = {\n",
    "    \"n_estimators\": np.arange(100,150,25),\n",
    "    \"learning_rate\": [0.2, 0.05, 1],\n",
    "    \"subsample\":[0.5,0.7],\n",
    "    \"max_features\":[0.5,0.7]\n",
    "}\n",
    "\n",
    "- For Adaboost:\n",
    "\n",
    "param_grid = {\n",
    "    \"n_estimators\": [100, 150, 200],\n",
    "    \"learning_rate\": [0.2, 0.05],\n",
    "    \"base_estimator\": [DecisionTreeClassifier(max_depth=1, random_state=1), DecisionTreeClassifier(max_depth=2, random_state=1), DecisionTreeClassifier(max_depth=3, random_state=1),\n",
    "    ]\n",
    "}\n",
    "\n",
    "- For Bagging Classifier:\n",
    "\n",
    "param_grid = {\n",
    "    'max_samples': [0.8,0.9,1],\n",
    "    'max_features': [0.7,0.8,0.9],\n",
    "    'n_estimators' : [30,50,70],\n",
    "}\n",
    "\n",
    "- For Random Forest:\n",
    "\n",
    "param_grid = {\n",
    "    \"n_estimators\": [200,250,300],\n",
    "    \"min_samples_leaf\": np.arange(1, 4),\n",
    "    \"max_features\": [np.arange(0.3, 0.6, 0.1),'sqrt'],\n",
    "    \"max_samples\": np.arange(0.4, 0.7, 0.1)\n",
    "}\n",
    "\n",
    "- For Decision Trees:\n",
    "\n",
    "param_grid = {\n",
    "    'max_depth': np.arange(2,6),\n",
    "    'min_samples_leaf': [1, 4, 7],\n",
    "    'max_leaf_nodes' : [10, 15],\n",
    "    'min_impurity_decrease': [0.0001,0.001]\n",
    "}\n",
    "\n",
    "- For Logistic Regression:\n",
    "\n",
    "param_grid = {'C': np.arange(0.1,1.1,0.1)}\n",
    "\n",
    "- For XGBoost:\n",
    "\n",
    "param_grid={\n",
    "    'n_estimators': [150, 200, 250],\n",
    "    'scale_pos_weight': [5,10],\n",
    "    'learning_rate': [0.1,0.2],\n",
    "    'gamma': [0,3,5],\n",
    "    'subsample': [0.8,0.9]\n",
    "}"
   ]
  },
  {
   "cell_type": "markdown",
   "metadata": {
    "id": "GMReRXdH_YUd"
   },
   "source": [
    "### Sample tuning method for Decision tree with original data"
   ]
  },
  {
   "cell_type": "code",
   "execution_count": null,
   "metadata": {
    "id": "o9kks1hG_Xhy"
   },
   "outputs": [],
   "source": [
    "# defining model\n",
    "Model = DecisionTreeClassifier(random_state=1)\n",
    "\n",
    "# Parameter grid to pass in RandomSearchCV\n",
    "param_grid = {'max_depth': np.arange(2,6),\n",
    "              'min_samples_leaf': [1, 4, 7],\n",
    "              'max_leaf_nodes' : [10,15],\n",
    "              'min_impurity_decrease': [0.0001,0.001] }\n",
    "\n",
    "#Calling RandomizedSearchCV\n",
    "randomized_cv = RandomizedSearchCV(estimator=Model, param_distributions=param_grid, n_iter=10, n_jobs = -1, scoring=scorer, cv=5, random_state=1)\n",
    "\n",
    "#Fitting parameters in RandomizedSearchCV\n",
    "randomized_cv.fit(X_train,y_train)\n",
    "\n",
    "print(\"Best parameters are {} with CV score={}:\" .format(randomized_cv.best_params_,randomized_cv.best_score_))"
   ]
  },
  {
   "cell_type": "markdown",
   "metadata": {
    "id": "chN8hbfThKyr"
   },
   "source": [
    "### Sample tuning method for Decision tree with oversampled data"
   ]
  },
  {
   "cell_type": "code",
   "execution_count": null,
   "metadata": {
    "id": "tVZcJ0hv4jau"
   },
   "outputs": [],
   "source": [
    "# defining model\n",
    "Model = DecisionTreeClassifier(random_state=1)\n",
    "\n",
    "# Parameter grid to pass in RandomSearchCV\n",
    "param_grid = {'max_depth': np.arange(2,6),\n",
    "              'min_samples_leaf': [1, 4, 7],\n",
    "              'max_leaf_nodes' : [10,15],\n",
    "              'min_impurity_decrease': [0.0001,0.001] }\n",
    "\n",
    "#Calling RandomizedSearchCV\n",
    "randomized_cv = RandomizedSearchCV(estimator=Model, param_distributions=param_grid, n_iter=10, n_jobs = -1, scoring=scorer, cv=5, random_state=1)\n",
    "\n",
    "#Fitting parameters in RandomizedSearchCV\n",
    "randomized_cv.fit(X_train_over,y_train_over)\n",
    "\n",
    "print(\"Best parameters are {} with CV score={}:\" .format(randomized_cv.best_params_,randomized_cv.best_score_))"
   ]
  },
  {
   "cell_type": "markdown",
   "metadata": {
    "id": "HtPIiIS7hKyr"
   },
   "source": [
    "### Sample tuning method for Decision tree with undersampled data"
   ]
  },
  {
   "cell_type": "code",
   "execution_count": null,
   "metadata": {
    "id": "5pbdykhHhKyr"
   },
   "outputs": [],
   "source": [
    "# defining model\n",
    "Model = DecisionTreeClassifier(random_state=1)\n",
    "\n",
    "# Parameter grid to pass in RandomSearchCV\n",
    "param_grid = {'max_depth': np.arange(2,20),\n",
    "              'min_samples_leaf': [1, 2, 5, 7],\n",
    "              'max_leaf_nodes' : [5, 10,15],\n",
    "              'min_impurity_decrease': [0.0001,0.001] }\n",
    "\n",
    "#Calling RandomizedSearchCV\n",
    "randomized_cv = RandomizedSearchCV(estimator=Model, param_distributions=param_grid, n_iter=10, n_jobs = -1, scoring=scorer, cv=5, random_state=1)\n",
    "\n",
    "#Fitting parameters in RandomizedSearchCV\n",
    "randomized_cv.fit(X_train_un,y_train_un)\n",
    "\n",
    "print(\"Best parameters are {} with CV score={}:\" .format(randomized_cv.best_params_,randomized_cv.best_score_))"
   ]
  },
  {
   "cell_type": "markdown",
   "metadata": {
    "id": "D9JNnpxa4jau"
   },
   "source": [
    "## Model performance comparison and choosing the final model"
   ]
  },
  {
   "cell_type": "code",
   "execution_count": null,
   "metadata": {
    "id": "0JG85rkY4jav"
   },
   "outputs": [],
   "source": []
  },
  {
   "cell_type": "markdown",
   "metadata": {
    "id": "d_pDMFAz4jav"
   },
   "source": [
    "### Test set final performance"
   ]
  },
  {
   "cell_type": "code",
   "execution_count": null,
   "metadata": {
    "id": "g8-epsXv4jav"
   },
   "outputs": [],
   "source": []
  },
  {
   "cell_type": "markdown",
   "metadata": {
    "id": "TM6VZTRn4jav"
   },
   "source": [
    "## Pipelines to build the final model\n"
   ]
  },
  {
   "cell_type": "code",
   "execution_count": null,
   "metadata": {
    "id": "Zzg12gvx4jav"
   },
   "outputs": [],
   "source": []
  },
  {
   "cell_type": "markdown",
   "metadata": {
    "id": "c5hPmHyR4jaw"
   },
   "source": [
    "# Business Insights and Conclusions"
   ]
  },
  {
   "cell_type": "markdown",
   "metadata": {
    "id": "VB3eO21n_sgt"
   },
   "source": [
    "***"
   ]
  }
 ],
 "metadata": {
  "colab": {
   "collapsed_sections": [
    "eqCDCbcw4jas",
    "oBKJaFU24jas",
    "1aimb6bn4jat",
    "yZGY1eL84jau",
    "rxM3jQuK_Pqc",
    "GMReRXdH_YUd",
    "chN8hbfThKyr",
    "HtPIiIS7hKyr",
    "D9JNnpxa4jau",
    "d_pDMFAz4jav",
    "TM6VZTRn4jav",
    "c5hPmHyR4jaw"
   ],
   "provenance": []
  },
  "kernelspec": {
   "display_name": "Python [conda env:base] *",
   "language": "python",
   "name": "conda-base-py"
  },
  "language_info": {
   "codemirror_mode": {
    "name": "ipython",
    "version": 3
   },
   "file_extension": ".py",
   "mimetype": "text/x-python",
   "name": "python",
   "nbconvert_exporter": "python",
   "pygments_lexer": "ipython3",
   "version": "3.12.7"
  }
 },
 "nbformat": 4,
 "nbformat_minor": 4
}
