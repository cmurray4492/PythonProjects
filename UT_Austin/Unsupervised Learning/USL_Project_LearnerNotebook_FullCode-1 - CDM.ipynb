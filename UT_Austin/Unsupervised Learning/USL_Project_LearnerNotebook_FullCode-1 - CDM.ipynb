{
 "cells": [
  {
   "cell_type": "markdown",
   "metadata": {
    "id": "e9PnxNiWUw5u"
   },
   "source": [
    "# Unsupervised Learning: Trade & Ahead"
   ]
  },
  {
   "cell_type": "markdown",
   "metadata": {
    "id": "NFgWvm0OwNx2"
   },
   "source": [
    "## Problem Statement"
   ]
  },
  {
   "cell_type": "markdown",
   "metadata": {
    "id": "gdKnPfF1Uw5y"
   },
   "source": [
    "### Context\n",
    "\n",
    "The stock market has consistently proven to be a good place to invest in and save for the future. There are a lot of compelling reasons to invest in stocks. It can help in fighting inflation, create wealth, and also provides some tax benefits. Good steady returns on investments over a long period of time can also grow a lot more than seems possible. Also, thanks to the power of compound interest, the earlier one starts investing, the larger the corpus one can have for retirement. Overall, investing in stocks can help meet life's financial aspirations.\n",
    "\n",
    "It is important to maintain a diversified portfolio when investing in stocks in order to maximise earnings under any market condition. Having a diversified portfolio tends to yield higher returns and face lower risk by tempering potential losses when the market is down. It is often easy to get lost in a sea of financial metrics to analyze while determining the worth of a stock, and doing the same for a multitude of stocks to identify the right picks for an individual can be a tedious task. By doing a cluster analysis, one can identify stocks that exhibit similar characteristics and ones which exhibit minimum correlation. This will help investors better analyze stocks across different market segments and help protect against risks that could make the portfolio vulnerable to losses.\n",
    "\n",
    "\n",
    "### Objective\n",
    "\n",
    "Trade&Ahead is a financial consultancy firm who provide their customers with personalized investment strategies. They have hired you as a Data Scientist and provided you with data comprising stock price and some financial indicators for a few companies listed under the New York Stock Exchange. They have assigned you the tasks of analyzing the data, grouping the stocks based on the attributes provided, and sharing insights about the characteristics of each group.\n",
    "\n",
    "### Data Dictionary\n",
    "\n",
    "- Ticker Symbol: An abbreviation used to uniquely identify publicly traded shares of a particular stock on a particular stock market\n",
    "- Company: Name of the company\n",
    "- GICS Sector: The specific economic sector assigned to a company by the Global Industry Classification Standard (GICS) that best defines its business operations\n",
    "- GICS Sub Industry: The specific sub-industry group assigned to a company by the Global Industry Classification Standard (GICS) that best defines its business operations\n",
    "- Current Price: Current stock price in dollars\n",
    "- Price Change: Percentage change in the stock price in 13 weeks\n",
    "- Volatility: Standard deviation of the stock price over the past 13 weeks\n",
    "- ROE: A measure of financial performance calculated by dividing net income by shareholders' equity (shareholders' equity is equal to a company's assets minus its debt)\n",
    "- Cash Ratio: The ratio of a  company's total reserves of cash and cash equivalents to its total current liabilities\n",
    "- Net Cash Flow: The difference between a company's cash inflows and outflows (in dollars)\n",
    "- Net Income: Revenues minus expenses, interest, and taxes (in dollars)\n",
    "- Earnings Per Share: Company's net profit divided by the number of common shares it has outstanding (in dollars)\n",
    "- Estimated Shares Outstanding: Company's stock currently held by all its shareholders\n",
    "- P/E Ratio: Ratio of the company's current stock price to the earnings per share\n",
    "- P/B Ratio: Ratio of the company's stock price per share by its book value per share (book value of a company is the net difference between that company's total assets and total liabilities)"
   ]
  },
  {
   "cell_type": "markdown",
   "metadata": {
    "id": "GLmC-0-fDPyI"
   },
   "source": [
    "## Importing necessary libraries and data"
   ]
  },
  {
   "cell_type": "code",
   "execution_count": null,
   "metadata": {
    "id": "R4awLZAKu_je"
   },
   "outputs": [],
   "source": [
    "# Installing the libraries with the specified version.\n",
    "# uncomment and run the following line if Google Colab is being used\n",
    "# !pip install scikit-learn==1.2.2 seaborn==0.13.1 matplotlib==3.7.1 numpy==1.25.2 pandas==1.5.3 yellowbrick==1.5 -q --user"
   ]
  },
  {
   "cell_type": "code",
   "execution_count": 1,
   "metadata": {},
   "outputs": [],
   "source": [
    "import numpy as np\n",
    "import pandas as pd\n",
    "import matplotlib.pyplot as plt\n",
    "import seaborn as sns"
   ]
  },
  {
   "cell_type": "code",
   "execution_count": null,
   "metadata": {
    "id": "_veXCT_OvADJ"
   },
   "outputs": [],
   "source": [
    "# Installing the libraries with the specified version.\n",
    "# uncomment and run the following lines if Jupyter Notebook is being used\n",
    "# !pip install scikit-learn==1.2.2 seaborn==0.13.1 matplotlib==3.7.1 numpy==1.25.2 pandas==1.5.2 yellowbrick==1.5 -q --user\n",
    "# !pip install --upgrade -q jinja2"
   ]
  },
  {
   "cell_type": "markdown",
   "metadata": {
    "id": "sci3jTPrvDeB"
   },
   "source": [
    "**Note**: *After running the above cell, kindly restart the notebook kernel and run all cells sequentially from the start again.*"
   ]
  },
  {
   "cell_type": "code",
   "execution_count": 7,
   "metadata": {
    "id": "zeF8YaNKDPyK"
   },
   "outputs": [
    {
     "data": {
      "text/html": [
       "<div>\n",
       "<style scoped>\n",
       "    .dataframe tbody tr th:only-of-type {\n",
       "        vertical-align: middle;\n",
       "    }\n",
       "\n",
       "    .dataframe tbody tr th {\n",
       "        vertical-align: top;\n",
       "    }\n",
       "\n",
       "    .dataframe thead th {\n",
       "        text-align: right;\n",
       "    }\n",
       "</style>\n",
       "<table border=\"1\" class=\"dataframe\">\n",
       "  <thead>\n",
       "    <tr style=\"text-align: right;\">\n",
       "      <th></th>\n",
       "      <th>Ticker Symbol</th>\n",
       "      <th>Security</th>\n",
       "      <th>GICS Sector</th>\n",
       "      <th>GICS Sub Industry</th>\n",
       "      <th>Current Price</th>\n",
       "      <th>Price Change</th>\n",
       "      <th>Volatility</th>\n",
       "      <th>ROE</th>\n",
       "      <th>Cash Ratio</th>\n",
       "      <th>Net Cash Flow</th>\n",
       "      <th>Net Income</th>\n",
       "      <th>Earnings Per Share</th>\n",
       "      <th>Estimated Shares Outstanding</th>\n",
       "      <th>P/E Ratio</th>\n",
       "      <th>P/B Ratio</th>\n",
       "    </tr>\n",
       "  </thead>\n",
       "  <tbody>\n",
       "    <tr>\n",
       "      <th>0</th>\n",
       "      <td>AAL</td>\n",
       "      <td>American Airlines Group</td>\n",
       "      <td>Industrials</td>\n",
       "      <td>Airlines</td>\n",
       "      <td>42.349998</td>\n",
       "      <td>9.999995</td>\n",
       "      <td>1.687151</td>\n",
       "      <td>135</td>\n",
       "      <td>51</td>\n",
       "      <td>-604000000</td>\n",
       "      <td>7610000000</td>\n",
       "      <td>11.39</td>\n",
       "      <td>6.681299e+08</td>\n",
       "      <td>3.718174</td>\n",
       "      <td>-8.784219</td>\n",
       "    </tr>\n",
       "    <tr>\n",
       "      <th>1</th>\n",
       "      <td>ABBV</td>\n",
       "      <td>AbbVie</td>\n",
       "      <td>Health Care</td>\n",
       "      <td>Pharmaceuticals</td>\n",
       "      <td>59.240002</td>\n",
       "      <td>8.339433</td>\n",
       "      <td>2.197887</td>\n",
       "      <td>130</td>\n",
       "      <td>77</td>\n",
       "      <td>51000000</td>\n",
       "      <td>5144000000</td>\n",
       "      <td>3.15</td>\n",
       "      <td>1.633016e+09</td>\n",
       "      <td>18.806350</td>\n",
       "      <td>-8.750068</td>\n",
       "    </tr>\n",
       "    <tr>\n",
       "      <th>2</th>\n",
       "      <td>ABT</td>\n",
       "      <td>Abbott Laboratories</td>\n",
       "      <td>Health Care</td>\n",
       "      <td>Health Care Equipment</td>\n",
       "      <td>44.910000</td>\n",
       "      <td>11.301121</td>\n",
       "      <td>1.273646</td>\n",
       "      <td>21</td>\n",
       "      <td>67</td>\n",
       "      <td>938000000</td>\n",
       "      <td>4423000000</td>\n",
       "      <td>2.94</td>\n",
       "      <td>1.504422e+09</td>\n",
       "      <td>15.275510</td>\n",
       "      <td>-0.394171</td>\n",
       "    </tr>\n",
       "    <tr>\n",
       "      <th>3</th>\n",
       "      <td>ADBE</td>\n",
       "      <td>Adobe Systems Inc</td>\n",
       "      <td>Information Technology</td>\n",
       "      <td>Application Software</td>\n",
       "      <td>93.940002</td>\n",
       "      <td>13.977195</td>\n",
       "      <td>1.357679</td>\n",
       "      <td>9</td>\n",
       "      <td>180</td>\n",
       "      <td>-240840000</td>\n",
       "      <td>629551000</td>\n",
       "      <td>1.26</td>\n",
       "      <td>4.996437e+08</td>\n",
       "      <td>74.555557</td>\n",
       "      <td>4.199651</td>\n",
       "    </tr>\n",
       "    <tr>\n",
       "      <th>4</th>\n",
       "      <td>ADI</td>\n",
       "      <td>Analog Devices, Inc.</td>\n",
       "      <td>Information Technology</td>\n",
       "      <td>Semiconductors</td>\n",
       "      <td>55.320000</td>\n",
       "      <td>-1.827858</td>\n",
       "      <td>1.701169</td>\n",
       "      <td>14</td>\n",
       "      <td>272</td>\n",
       "      <td>315120000</td>\n",
       "      <td>696878000</td>\n",
       "      <td>0.31</td>\n",
       "      <td>2.247994e+09</td>\n",
       "      <td>178.451613</td>\n",
       "      <td>1.059810</td>\n",
       "    </tr>\n",
       "  </tbody>\n",
       "</table>\n",
       "</div>"
      ],
      "text/plain": [
       "  Ticker Symbol                 Security             GICS Sector  \\\n",
       "0           AAL  American Airlines Group             Industrials   \n",
       "1          ABBV                   AbbVie             Health Care   \n",
       "2           ABT      Abbott Laboratories             Health Care   \n",
       "3          ADBE        Adobe Systems Inc  Information Technology   \n",
       "4           ADI     Analog Devices, Inc.  Information Technology   \n",
       "\n",
       "       GICS Sub Industry  Current Price  Price Change  Volatility  ROE  \\\n",
       "0               Airlines      42.349998      9.999995    1.687151  135   \n",
       "1        Pharmaceuticals      59.240002      8.339433    2.197887  130   \n",
       "2  Health Care Equipment      44.910000     11.301121    1.273646   21   \n",
       "3   Application Software      93.940002     13.977195    1.357679    9   \n",
       "4         Semiconductors      55.320000     -1.827858    1.701169   14   \n",
       "\n",
       "   Cash Ratio  Net Cash Flow  Net Income  Earnings Per Share  \\\n",
       "0          51     -604000000  7610000000               11.39   \n",
       "1          77       51000000  5144000000                3.15   \n",
       "2          67      938000000  4423000000                2.94   \n",
       "3         180     -240840000   629551000                1.26   \n",
       "4         272      315120000   696878000                0.31   \n",
       "\n",
       "   Estimated Shares Outstanding   P/E Ratio  P/B Ratio  \n",
       "0                  6.681299e+08    3.718174  -8.784219  \n",
       "1                  1.633016e+09   18.806350  -8.750068  \n",
       "2                  1.504422e+09   15.275510  -0.394171  \n",
       "3                  4.996437e+08   74.555557   4.199651  \n",
       "4                  2.247994e+09  178.451613   1.059810  "
      ]
     },
     "execution_count": 7,
     "metadata": {},
     "output_type": "execute_result"
    }
   ],
   "source": [
    "df = pd.read_csv(\"stock_data.csv\")\n",
    "df.head()"
   ]
  },
  {
   "cell_type": "markdown",
   "metadata": {
    "id": "UvpMDcaaMKtI"
   },
   "source": [
    "## Data Overview\n",
    "\n",
    "- Observations\n",
    "- Sanity checks"
   ]
  },
  {
   "cell_type": "code",
   "execution_count": null,
   "metadata": {
    "id": "01hJQ7EfMKtK"
   },
   "outputs": [],
   "source": []
  },
  {
   "cell_type": "markdown",
   "metadata": {
    "id": "__7ciGcIDPyk"
   },
   "source": [
    "## Exploratory Data Analysis (EDA)\n",
    "\n",
    "- EDA is an important part of any project involving data.\n",
    "- It is important to investigate and understand the data better before building a model with it.\n",
    "- A few questions have been mentioned below which will help you approach the analysis in the right manner and generate insights from the data.\n",
    "- A thorough analysis of the data, in addition to the questions mentioned below, should be done."
   ]
  },
  {
   "cell_type": "markdown",
   "metadata": {
    "id": "oEyqzdJBb0jU"
   },
   "source": [
    "**Questions**:\n",
    "\n",
    "1. What does the distribution of stock prices look like?\n",
    "2. The stocks of which economic sector have seen the maximum price increase on average?\n",
    "3. How are the different variables correlated with each other?\n",
    "4. Cash ratio provides a measure of a company's ability to cover its short-term obligations using only cash and cash equivalents. How does the average cash ratio vary across economic sectors?\n",
    "5. P/E ratios can help determine the relative value of a company's shares as they signify the amount of money an investor is willing to invest in a single share of a company per dollar of its earnings. How does the P/E ratio vary, on average, across economic sectors?"
   ]
  },
  {
   "cell_type": "code",
   "execution_count": null,
   "metadata": {
    "id": "cN1lyueHttwW"
   },
   "outputs": [],
   "source": []
  },
  {
   "cell_type": "markdown",
   "metadata": {
    "id": "pVn5toJ7MKte"
   },
   "source": [
    "## Data Preprocessing\n",
    "\n",
    "- Duplicate value check\n",
    "- Missing value treatment\n",
    "- Outlier check\n",
    "- Feature engineering (if needed)\n",
    "- Any other preprocessing steps (if needed)"
   ]
  },
  {
   "cell_type": "code",
   "execution_count": null,
   "metadata": {
    "id": "zUi6E9EUMKth"
   },
   "outputs": [],
   "source": []
  },
  {
   "cell_type": "markdown",
   "metadata": {
    "id": "KNzFis7eEaXj"
   },
   "source": [
    "## EDA\n",
    "\n",
    "- It is a good idea to explore the data once again after manipulating it."
   ]
  },
  {
   "cell_type": "code",
   "execution_count": null,
   "metadata": {
    "id": "4lcDTGi9EZ1M"
   },
   "outputs": [],
   "source": []
  },
  {
   "cell_type": "markdown",
   "metadata": {
    "id": "g65eWNkmUw55"
   },
   "source": [
    "## K-means Clustering"
   ]
  },
  {
   "cell_type": "code",
   "execution_count": null,
   "metadata": {
    "id": "ZNRiMg0wMKth"
   },
   "outputs": [],
   "source": []
  },
  {
   "cell_type": "markdown",
   "metadata": {
    "id": "083oRHCMUw55"
   },
   "source": [
    "## Hierarchical Clustering"
   ]
  },
  {
   "cell_type": "code",
   "execution_count": null,
   "metadata": {
    "id": "k3e6gzxdMKti"
   },
   "outputs": [],
   "source": []
  },
  {
   "cell_type": "markdown",
   "metadata": {
    "id": "a9GxSQf-qH8e"
   },
   "source": [
    "## K-means vs Hierarchical Clustering"
   ]
  },
  {
   "cell_type": "markdown",
   "metadata": {
    "id": "naX-iXItqH-b"
   },
   "source": [
    "You compare several things, like:\n",
    "- Which clustering technique took less time for execution?\n",
    "- Which clustering technique gave you more distinct clusters, or are they the same?\n",
    "- How many observations are there in the similar clusters of both algorithms?\n",
    "- How many clusters are obtained as the appropriate number of clusters from both algorithms?\n",
    "\n",
    "You can also mention any differences or similarities you obtained in the cluster profiles from both the clustering techniques."
   ]
  },
  {
   "cell_type": "markdown",
   "metadata": {
    "id": "2BkZh6eHluZK"
   },
   "source": [
    "## Actionable Insights and Recommendations\n",
    "\n",
    "-"
   ]
  }
 ],
 "metadata": {
  "colab": {
   "collapsed_sections": [
    "NFgWvm0OwNx2",
    "UvpMDcaaMKtI",
    "__7ciGcIDPyk",
    "g65eWNkmUw55"
   ],
   "provenance": []
  },
  "hide_input": false,
  "kernelspec": {
   "display_name": "Python [conda env:base] *",
   "language": "python",
   "name": "conda-base-py"
  },
  "language_info": {
   "codemirror_mode": {
    "name": "ipython",
    "version": 3
   },
   "file_extension": ".py",
   "mimetype": "text/x-python",
   "name": "python",
   "nbconvert_exporter": "python",
   "pygments_lexer": "ipython3",
   "version": "3.12.7"
  },
  "latex_envs": {
   "LaTeX_envs_menu_present": true,
   "autoclose": false,
   "autocomplete": true,
   "bibliofile": "biblio.bib",
   "cite_by": "apalike",
   "current_citInitial": 1,
   "eqLabelWithNumbers": true,
   "eqNumInitial": 1,
   "hotkeys": {
    "equation": "Ctrl-E",
    "itemize": "Ctrl-I"
   },
   "labels_anchors": false,
   "latex_user_defs": false,
   "report_style_numbering": false,
   "user_envs_cfg": false
  },
  "varInspector": {
   "cols": {
    "lenName": 16,
    "lenType": 16,
    "lenVar": 40
   },
   "kernels_config": {
    "python": {
     "delete_cmd_postfix": "",
     "delete_cmd_prefix": "del ",
     "library": "var_list.py",
     "varRefreshCmd": "print(var_dic_list())"
    },
    "r": {
     "delete_cmd_postfix": ") ",
     "delete_cmd_prefix": "rm(",
     "library": "var_list.r",
     "varRefreshCmd": "cat(var_dic_list()) "
    }
   },
   "types_to_exclude": [
    "module",
    "function",
    "builtin_function_or_method",
    "instance",
    "_Feature"
   ],
   "window_display": false
  }
 },
 "nbformat": 4,
 "nbformat_minor": 4
}
