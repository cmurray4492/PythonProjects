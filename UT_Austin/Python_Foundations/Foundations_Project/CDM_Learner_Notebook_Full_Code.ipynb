{
 "cells": [
  {
   "cell_type": "markdown",
   "metadata": {
    "id": "Gc8x8QimJY_H"
   },
   "source": [
    "# Project Python Foundations: FoodHub Data Analysis"
   ]
  },
  {
   "cell_type": "markdown",
   "metadata": {
    "id": "NqikjkWwJY_L"
   },
   "source": [
    "### Context\n",
    "\n",
    "The number of restaurants in New York is increasing day by day. Lots of students and busy professionals rely on those restaurants due to their hectic lifestyles. Online food delivery service is a great option for them. It provides them with good food from their favorite restaurants. A food aggregator company FoodHub offers access to multiple restaurants through a single smartphone app.\n",
    "\n",
    "The app allows the restaurants to receive a direct online order from a customer. The app assigns a delivery person from the company to pick up the order after it is confirmed by the restaurant. The delivery person then uses the map to reach the restaurant and waits for the food package. Once the food package is handed over to the delivery person, he/she confirms the pick-up in the app and travels to the customer's location to deliver the food. The delivery person confirms the drop-off in the app after delivering the food package to the customer. The customer can rate the order in the app. The food aggregator earns money by collecting a fixed margin of the delivery order from the restaurants.\n",
    "\n",
    "### Objective\n",
    "\n",
    "The food aggregator company has stored the data of the different orders made by the registered customers in their online portal. They want to analyze the data to get a fair idea about the demand of different restaurants which will help them in enhancing their customer experience. Suppose you are hired as a Data Scientist in this company and the Data Science team has shared some of the key questions that need to be answered. Perform the data analysis to find answers to these questions that will help the company to improve the business.\n",
    "\n",
    "### Data Description\n",
    "\n",
    "The data contains the different data related to a food order. The detailed data dictionary is given below.\n",
    "\n",
    "### Data Dictionary\n",
    "\n",
    "* order_id: Unique ID of the order\n",
    "* customer_id: ID of the customer who ordered the food\n",
    "* restaurant_name: Name of the restaurant\n",
    "* cuisine_type: Cuisine ordered by the customer\n",
    "* cost_of_the_order: Cost of the order\n",
    "* day_of_the_week: Indicates whether the order is placed on a weekday or weekend (The weekday is from Monday to Friday and the weekend is Saturday and Sunday)\n",
    "* rating: Rating given by the customer out of 5\n",
    "* food_preparation_time: Time (in minutes) taken by the restaurant to prepare the food. This is calculated by taking the difference between the timestamps of the restaurant's order confirmation and the delivery person's pick-up confirmation.\n",
    "* delivery_time: Time (in minutes) taken by the delivery person to deliver the food package. This is calculated by taking the difference between the timestamps of the delivery person's pick-up confirmation and drop-off information"
   ]
  },
  {
   "cell_type": "markdown",
   "metadata": {
    "id": "cEtNUxNAJY_M"
   },
   "source": [
    "### Let us start by importing the required libraries"
   ]
  },
  {
   "cell_type": "code",
   "execution_count": 1,
   "metadata": {
    "id": "_aG-ZzhYXs_1"
   },
   "outputs": [],
   "source": [
    "# Installing the libraries with the specified version.\n",
    "# !pip install numpy==1.25.2 pandas==1.5.3 matplotlib==3.7.1 seaborn==0.13.1 -q --user"
   ]
  },
  {
   "cell_type": "markdown",
   "metadata": {
    "id": "7ueES9WOzI5X"
   },
   "source": [
    "**Note**: *After running the above cell, kindly restart the notebook kernel and run all cells sequentially from the start again.*"
   ]
  },
  {
   "cell_type": "code",
   "execution_count": 2,
   "metadata": {
    "id": "u6PlpJAPJY_N"
   },
   "outputs": [],
   "source": [
    "# import libraries for data manipulation\n",
    "import numpy as np\n",
    "import pandas as pd\n",
    "\n",
    "# import libraries for data visualization\n",
    "import matplotlib.pyplot as plt\n",
    "import seaborn as sns"
   ]
  },
  {
   "cell_type": "markdown",
   "metadata": {
    "id": "AdracY0HJY_O"
   },
   "source": [
    "### Understanding the structure of the data"
   ]
  },
  {
   "cell_type": "code",
   "execution_count": 3,
   "metadata": {
    "id": "WBh2ZGB9kFhU"
   },
   "outputs": [],
   "source": [
    "# uncomment and run the following lines for Google Colab\n",
    "# from google.colab import drive\n",
    "# drive.mount('/content/drive')"
   ]
  },
  {
   "cell_type": "code",
   "execution_count": 4,
   "metadata": {
    "id": "GF01IZDbJY_O",
    "scrolled": true
   },
   "outputs": [],
   "source": [
    "# Write your code here to read the data\n",
    "raw_data = pd.read_csv('foodhub_order.csv')"
   ]
  },
  {
   "cell_type": "code",
   "execution_count": 5,
   "metadata": {
    "id": "v32Z7ZZQVYB3"
   },
   "outputs": [
    {
     "data": {
      "text/html": [
       "<div>\n",
       "<style scoped>\n",
       "    .dataframe tbody tr th:only-of-type {\n",
       "        vertical-align: middle;\n",
       "    }\n",
       "\n",
       "    .dataframe tbody tr th {\n",
       "        vertical-align: top;\n",
       "    }\n",
       "\n",
       "    .dataframe thead th {\n",
       "        text-align: right;\n",
       "    }\n",
       "</style>\n",
       "<table border=\"1\" class=\"dataframe\">\n",
       "  <thead>\n",
       "    <tr style=\"text-align: right;\">\n",
       "      <th></th>\n",
       "      <th>order_id</th>\n",
       "      <th>customer_id</th>\n",
       "      <th>restaurant_name</th>\n",
       "      <th>cuisine_type</th>\n",
       "      <th>cost_of_the_order</th>\n",
       "      <th>day_of_the_week</th>\n",
       "      <th>rating</th>\n",
       "      <th>food_preparation_time</th>\n",
       "      <th>delivery_time</th>\n",
       "    </tr>\n",
       "  </thead>\n",
       "  <tbody>\n",
       "    <tr>\n",
       "      <th>0</th>\n",
       "      <td>1477147</td>\n",
       "      <td>337525</td>\n",
       "      <td>Hangawi</td>\n",
       "      <td>Korean</td>\n",
       "      <td>30.75</td>\n",
       "      <td>Weekend</td>\n",
       "      <td>Not given</td>\n",
       "      <td>25</td>\n",
       "      <td>20</td>\n",
       "    </tr>\n",
       "    <tr>\n",
       "      <th>1</th>\n",
       "      <td>1477685</td>\n",
       "      <td>358141</td>\n",
       "      <td>Blue Ribbon Sushi Izakaya</td>\n",
       "      <td>Japanese</td>\n",
       "      <td>12.08</td>\n",
       "      <td>Weekend</td>\n",
       "      <td>Not given</td>\n",
       "      <td>25</td>\n",
       "      <td>23</td>\n",
       "    </tr>\n",
       "    <tr>\n",
       "      <th>2</th>\n",
       "      <td>1477070</td>\n",
       "      <td>66393</td>\n",
       "      <td>Cafe Habana</td>\n",
       "      <td>Mexican</td>\n",
       "      <td>12.23</td>\n",
       "      <td>Weekday</td>\n",
       "      <td>5</td>\n",
       "      <td>23</td>\n",
       "      <td>28</td>\n",
       "    </tr>\n",
       "    <tr>\n",
       "      <th>3</th>\n",
       "      <td>1477334</td>\n",
       "      <td>106968</td>\n",
       "      <td>Blue Ribbon Fried Chicken</td>\n",
       "      <td>American</td>\n",
       "      <td>29.20</td>\n",
       "      <td>Weekend</td>\n",
       "      <td>3</td>\n",
       "      <td>25</td>\n",
       "      <td>15</td>\n",
       "    </tr>\n",
       "    <tr>\n",
       "      <th>4</th>\n",
       "      <td>1478249</td>\n",
       "      <td>76942</td>\n",
       "      <td>Dirty Bird to Go</td>\n",
       "      <td>American</td>\n",
       "      <td>11.59</td>\n",
       "      <td>Weekday</td>\n",
       "      <td>4</td>\n",
       "      <td>25</td>\n",
       "      <td>24</td>\n",
       "    </tr>\n",
       "  </tbody>\n",
       "</table>\n",
       "</div>"
      ],
      "text/plain": [
       "   order_id  customer_id            restaurant_name cuisine_type  \\\n",
       "0   1477147       337525                    Hangawi       Korean   \n",
       "1   1477685       358141  Blue Ribbon Sushi Izakaya     Japanese   \n",
       "2   1477070        66393                Cafe Habana      Mexican   \n",
       "3   1477334       106968  Blue Ribbon Fried Chicken     American   \n",
       "4   1478249        76942           Dirty Bird to Go     American   \n",
       "\n",
       "   cost_of_the_order day_of_the_week     rating  food_preparation_time  \\\n",
       "0              30.75         Weekend  Not given                     25   \n",
       "1              12.08         Weekend  Not given                     25   \n",
       "2              12.23         Weekday          5                     23   \n",
       "3              29.20         Weekend          3                     25   \n",
       "4              11.59         Weekday          4                     25   \n",
       "\n",
       "   delivery_time  \n",
       "0             20  \n",
       "1             23  \n",
       "2             28  \n",
       "3             15  \n",
       "4             24  "
      ]
     },
     "execution_count": 5,
     "metadata": {},
     "output_type": "execute_result"
    }
   ],
   "source": [
    "# Write your code here to view the first 5 rows\n",
    "raw_data.head()"
   ]
  },
  {
   "cell_type": "markdown",
   "metadata": {
    "id": "c3kenV4vJY_Q"
   },
   "source": [
    "### **Question 1:** How many rows and columns are present in the data? [0.5 mark]"
   ]
  },
  {
   "cell_type": "code",
   "execution_count": 6,
   "metadata": {
    "id": "Yvz5i-PhJY_Q"
   },
   "outputs": [
    {
     "name": "stdout",
     "output_type": "stream",
     "text": [
      "There are 1898 rows.\n",
      "There are 9 columns.\n"
     ]
    }
   ],
   "source": [
    "# Write your code here\n",
    "raw_data.shape\n",
    "print(f'There are {raw_data.shape[0]} rows.')\n",
    "print(f'There are {raw_data.shape[1]} columns.')"
   ]
  },
  {
   "cell_type": "markdown",
   "metadata": {
    "id": "UsTNy3unJY_R"
   },
   "source": [
    "#### Observations:\n",
    "This data set contains 1898 rows and 9 columns. \n"
   ]
  },
  {
   "cell_type": "markdown",
   "metadata": {
    "id": "jRXakVrUJY_R"
   },
   "source": [
    "### **Question 2:** What are the datatypes of the different columns in the dataset? (The info() function can be used) [0.5 mark]"
   ]
  },
  {
   "cell_type": "code",
   "execution_count": 7,
   "metadata": {
    "id": "Kp70Z0BNJY_R"
   },
   "outputs": [
    {
     "name": "stdout",
     "output_type": "stream",
     "text": [
      "<class 'pandas.core.frame.DataFrame'>\n",
      "RangeIndex: 1898 entries, 0 to 1897\n",
      "Data columns (total 9 columns):\n",
      " #   Column                 Non-Null Count  Dtype  \n",
      "---  ------                 --------------  -----  \n",
      " 0   order_id               1898 non-null   int64  \n",
      " 1   customer_id            1898 non-null   int64  \n",
      " 2   restaurant_name        1898 non-null   object \n",
      " 3   cuisine_type           1898 non-null   object \n",
      " 4   cost_of_the_order      1898 non-null   float64\n",
      " 5   day_of_the_week        1898 non-null   object \n",
      " 6   rating                 1898 non-null   object \n",
      " 7   food_preparation_time  1898 non-null   int64  \n",
      " 8   delivery_time          1898 non-null   int64  \n",
      "dtypes: float64(1), int64(4), object(4)\n",
      "memory usage: 133.6+ KB\n"
     ]
    }
   ],
   "source": [
    "# Write your code here\n",
    "raw_data.info()"
   ]
  },
  {
   "cell_type": "markdown",
   "metadata": {
    "id": "WJes5GP2JY_S"
   },
   "source": [
    "#### Observations:\n",
    "This data set in its raw form has 4 features that are integers, 4 that are objects, and one feature that is a float. A review of the features that are objects the \"rating\" column should probably be an integer. From examining the head of the data shoiws that some rows have \"Not given\" in the \"ratings\" column. These are missing values and need to be addressed.  \n"
   ]
  },
  {
   "cell_type": "markdown",
   "metadata": {
    "id": "pF_92MN6JY_S"
   },
   "source": [
    "### **Question 3:** Are there any missing values in the data? If yes, treat them using an appropriate method. [1 mark]"
   ]
  },
  {
   "cell_type": "code",
   "execution_count": 8,
   "metadata": {
    "id": "Zth-RR1PJY_S"
   },
   "outputs": [
    {
     "name": "stdout",
     "output_type": "stream",
     "text": [
      "order_id                 0\n",
      "customer_id              0\n",
      "restaurant_name          0\n",
      "cuisine_type             0\n",
      "cost_of_the_order        0\n",
      "day_of_the_week          0\n",
      "rating                   0\n",
      "food_preparation_time    0\n",
      "delivery_time            0\n",
      "dtype: int64\n"
     ]
    }
   ],
   "source": [
    "# Write your code here\n",
    "null_values = raw_data.isnull().sum()\n",
    "print(null_values)"
   ]
  },
  {
   "cell_type": "code",
   "execution_count": 9,
   "metadata": {},
   "outputs": [
    {
     "data": {
      "text/plain": [
       "order_id                 1898\n",
       "customer_id              1200\n",
       "restaurant_name           178\n",
       "cuisine_type               14\n",
       "cost_of_the_order         312\n",
       "day_of_the_week             2\n",
       "rating                      4\n",
       "food_preparation_time      16\n",
       "delivery_time              19\n",
       "dtype: int64"
      ]
     },
     "execution_count": 9,
     "metadata": {},
     "output_type": "execute_result"
    }
   ],
   "source": [
    "raw_data.nunique()"
   ]
  },
  {
   "cell_type": "code",
   "execution_count": 10,
   "metadata": {},
   "outputs": [
    {
     "data": {
      "text/plain": [
       "array(['Not given', '5', '3', '4'], dtype=object)"
      ]
     },
     "execution_count": 10,
     "metadata": {},
     "output_type": "execute_result"
    }
   ],
   "source": [
    "raw_data['rating'].unique()"
   ]
  },
  {
   "cell_type": "code",
   "execution_count": 11,
   "metadata": {},
   "outputs": [],
   "source": [
    "working_data = raw_data.copy()"
   ]
  },
  {
   "cell_type": "code",
   "execution_count": 12,
   "metadata": {},
   "outputs": [
    {
     "data": {
      "text/html": [
       "<div>\n",
       "<style scoped>\n",
       "    .dataframe tbody tr th:only-of-type {\n",
       "        vertical-align: middle;\n",
       "    }\n",
       "\n",
       "    .dataframe tbody tr th {\n",
       "        vertical-align: top;\n",
       "    }\n",
       "\n",
       "    .dataframe thead th {\n",
       "        text-align: right;\n",
       "    }\n",
       "</style>\n",
       "<table border=\"1\" class=\"dataframe\">\n",
       "  <thead>\n",
       "    <tr style=\"text-align: right;\">\n",
       "      <th></th>\n",
       "      <th>order_id</th>\n",
       "      <th>customer_id</th>\n",
       "      <th>restaurant_name</th>\n",
       "      <th>cuisine_type</th>\n",
       "      <th>cost_of_the_order</th>\n",
       "      <th>day_of_the_week</th>\n",
       "      <th>rating</th>\n",
       "      <th>food_preparation_time</th>\n",
       "      <th>delivery_time</th>\n",
       "    </tr>\n",
       "  </thead>\n",
       "  <tbody>\n",
       "    <tr>\n",
       "      <th>0</th>\n",
       "      <td>1477147</td>\n",
       "      <td>337525</td>\n",
       "      <td>Hangawi</td>\n",
       "      <td>Korean</td>\n",
       "      <td>30.75</td>\n",
       "      <td>Weekend</td>\n",
       "      <td>Not given</td>\n",
       "      <td>25</td>\n",
       "      <td>20</td>\n",
       "    </tr>\n",
       "    <tr>\n",
       "      <th>1</th>\n",
       "      <td>1477685</td>\n",
       "      <td>358141</td>\n",
       "      <td>Blue Ribbon Sushi Izakaya</td>\n",
       "      <td>Japanese</td>\n",
       "      <td>12.08</td>\n",
       "      <td>Weekend</td>\n",
       "      <td>Not given</td>\n",
       "      <td>25</td>\n",
       "      <td>23</td>\n",
       "    </tr>\n",
       "    <tr>\n",
       "      <th>2</th>\n",
       "      <td>1477070</td>\n",
       "      <td>66393</td>\n",
       "      <td>Cafe Habana</td>\n",
       "      <td>Mexican</td>\n",
       "      <td>12.23</td>\n",
       "      <td>Weekday</td>\n",
       "      <td>5</td>\n",
       "      <td>23</td>\n",
       "      <td>28</td>\n",
       "    </tr>\n",
       "    <tr>\n",
       "      <th>3</th>\n",
       "      <td>1477334</td>\n",
       "      <td>106968</td>\n",
       "      <td>Blue Ribbon Fried Chicken</td>\n",
       "      <td>American</td>\n",
       "      <td>29.20</td>\n",
       "      <td>Weekend</td>\n",
       "      <td>3</td>\n",
       "      <td>25</td>\n",
       "      <td>15</td>\n",
       "    </tr>\n",
       "    <tr>\n",
       "      <th>4</th>\n",
       "      <td>1478249</td>\n",
       "      <td>76942</td>\n",
       "      <td>Dirty Bird to Go</td>\n",
       "      <td>American</td>\n",
       "      <td>11.59</td>\n",
       "      <td>Weekday</td>\n",
       "      <td>4</td>\n",
       "      <td>25</td>\n",
       "      <td>24</td>\n",
       "    </tr>\n",
       "  </tbody>\n",
       "</table>\n",
       "</div>"
      ],
      "text/plain": [
       "   order_id  customer_id            restaurant_name cuisine_type  \\\n",
       "0   1477147       337525                    Hangawi       Korean   \n",
       "1   1477685       358141  Blue Ribbon Sushi Izakaya     Japanese   \n",
       "2   1477070        66393                Cafe Habana      Mexican   \n",
       "3   1477334       106968  Blue Ribbon Fried Chicken     American   \n",
       "4   1478249        76942           Dirty Bird to Go     American   \n",
       "\n",
       "   cost_of_the_order day_of_the_week     rating  food_preparation_time  \\\n",
       "0              30.75         Weekend  Not given                     25   \n",
       "1              12.08         Weekend  Not given                     25   \n",
       "2              12.23         Weekday          5                     23   \n",
       "3              29.20         Weekend          3                     25   \n",
       "4              11.59         Weekday          4                     25   \n",
       "\n",
       "   delivery_time  \n",
       "0             20  \n",
       "1             23  \n",
       "2             28  \n",
       "3             15  \n",
       "4             24  "
      ]
     },
     "execution_count": 12,
     "metadata": {},
     "output_type": "execute_result"
    }
   ],
   "source": [
    "working_data.head()"
   ]
  },
  {
   "cell_type": "code",
   "execution_count": 13,
   "metadata": {},
   "outputs": [],
   "source": [
    "working_data['rating'] = working_data['rating'].replace('Not given', np.nan)\n",
    "\n",
    "# ['B'] = df['B'].replace('not available', np.nan)"
   ]
  },
  {
   "cell_type": "code",
   "execution_count": 14,
   "metadata": {},
   "outputs": [
    {
     "data": {
      "text/html": [
       "<div>\n",
       "<style scoped>\n",
       "    .dataframe tbody tr th:only-of-type {\n",
       "        vertical-align: middle;\n",
       "    }\n",
       "\n",
       "    .dataframe tbody tr th {\n",
       "        vertical-align: top;\n",
       "    }\n",
       "\n",
       "    .dataframe thead th {\n",
       "        text-align: right;\n",
       "    }\n",
       "</style>\n",
       "<table border=\"1\" class=\"dataframe\">\n",
       "  <thead>\n",
       "    <tr style=\"text-align: right;\">\n",
       "      <th></th>\n",
       "      <th>order_id</th>\n",
       "      <th>customer_id</th>\n",
       "      <th>restaurant_name</th>\n",
       "      <th>cuisine_type</th>\n",
       "      <th>cost_of_the_order</th>\n",
       "      <th>day_of_the_week</th>\n",
       "      <th>rating</th>\n",
       "      <th>food_preparation_time</th>\n",
       "      <th>delivery_time</th>\n",
       "    </tr>\n",
       "  </thead>\n",
       "  <tbody>\n",
       "    <tr>\n",
       "      <th>0</th>\n",
       "      <td>1477147</td>\n",
       "      <td>337525</td>\n",
       "      <td>Hangawi</td>\n",
       "      <td>Korean</td>\n",
       "      <td>30.75</td>\n",
       "      <td>Weekend</td>\n",
       "      <td>NaN</td>\n",
       "      <td>25</td>\n",
       "      <td>20</td>\n",
       "    </tr>\n",
       "    <tr>\n",
       "      <th>1</th>\n",
       "      <td>1477685</td>\n",
       "      <td>358141</td>\n",
       "      <td>Blue Ribbon Sushi Izakaya</td>\n",
       "      <td>Japanese</td>\n",
       "      <td>12.08</td>\n",
       "      <td>Weekend</td>\n",
       "      <td>NaN</td>\n",
       "      <td>25</td>\n",
       "      <td>23</td>\n",
       "    </tr>\n",
       "    <tr>\n",
       "      <th>2</th>\n",
       "      <td>1477070</td>\n",
       "      <td>66393</td>\n",
       "      <td>Cafe Habana</td>\n",
       "      <td>Mexican</td>\n",
       "      <td>12.23</td>\n",
       "      <td>Weekday</td>\n",
       "      <td>5</td>\n",
       "      <td>23</td>\n",
       "      <td>28</td>\n",
       "    </tr>\n",
       "    <tr>\n",
       "      <th>3</th>\n",
       "      <td>1477334</td>\n",
       "      <td>106968</td>\n",
       "      <td>Blue Ribbon Fried Chicken</td>\n",
       "      <td>American</td>\n",
       "      <td>29.20</td>\n",
       "      <td>Weekend</td>\n",
       "      <td>3</td>\n",
       "      <td>25</td>\n",
       "      <td>15</td>\n",
       "    </tr>\n",
       "    <tr>\n",
       "      <th>4</th>\n",
       "      <td>1478249</td>\n",
       "      <td>76942</td>\n",
       "      <td>Dirty Bird to Go</td>\n",
       "      <td>American</td>\n",
       "      <td>11.59</td>\n",
       "      <td>Weekday</td>\n",
       "      <td>4</td>\n",
       "      <td>25</td>\n",
       "      <td>24</td>\n",
       "    </tr>\n",
       "  </tbody>\n",
       "</table>\n",
       "</div>"
      ],
      "text/plain": [
       "   order_id  customer_id            restaurant_name cuisine_type  \\\n",
       "0   1477147       337525                    Hangawi       Korean   \n",
       "1   1477685       358141  Blue Ribbon Sushi Izakaya     Japanese   \n",
       "2   1477070        66393                Cafe Habana      Mexican   \n",
       "3   1477334       106968  Blue Ribbon Fried Chicken     American   \n",
       "4   1478249        76942           Dirty Bird to Go     American   \n",
       "\n",
       "   cost_of_the_order day_of_the_week rating  food_preparation_time  \\\n",
       "0              30.75         Weekend    NaN                     25   \n",
       "1              12.08         Weekend    NaN                     25   \n",
       "2              12.23         Weekday      5                     23   \n",
       "3              29.20         Weekend      3                     25   \n",
       "4              11.59         Weekday      4                     25   \n",
       "\n",
       "   delivery_time  \n",
       "0             20  \n",
       "1             23  \n",
       "2             28  \n",
       "3             15  \n",
       "4             24  "
      ]
     },
     "execution_count": 14,
     "metadata": {},
     "output_type": "execute_result"
    }
   ],
   "source": [
    "working_data.head()"
   ]
  },
  {
   "cell_type": "code",
   "execution_count": 15,
   "metadata": {},
   "outputs": [],
   "source": [
    "from sklearn.impute import SimpleImputer"
   ]
  },
  {
   "cell_type": "code",
   "execution_count": 16,
   "metadata": {},
   "outputs": [],
   "source": [
    "imputer_num = SimpleImputer(strategy='mean')"
   ]
  },
  {
   "cell_type": "code",
   "execution_count": 17,
   "metadata": {},
   "outputs": [],
   "source": [
    "working_data[['rating']] = imputer_num.fit_transform(working_data[['rating']]).astype(int)"
   ]
  },
  {
   "cell_type": "code",
   "execution_count": 18,
   "metadata": {},
   "outputs": [
    {
     "data": {
      "text/html": [
       "<div>\n",
       "<style scoped>\n",
       "    .dataframe tbody tr th:only-of-type {\n",
       "        vertical-align: middle;\n",
       "    }\n",
       "\n",
       "    .dataframe tbody tr th {\n",
       "        vertical-align: top;\n",
       "    }\n",
       "\n",
       "    .dataframe thead th {\n",
       "        text-align: right;\n",
       "    }\n",
       "</style>\n",
       "<table border=\"1\" class=\"dataframe\">\n",
       "  <thead>\n",
       "    <tr style=\"text-align: right;\">\n",
       "      <th></th>\n",
       "      <th>order_id</th>\n",
       "      <th>customer_id</th>\n",
       "      <th>restaurant_name</th>\n",
       "      <th>cuisine_type</th>\n",
       "      <th>cost_of_the_order</th>\n",
       "      <th>day_of_the_week</th>\n",
       "      <th>rating</th>\n",
       "      <th>food_preparation_time</th>\n",
       "      <th>delivery_time</th>\n",
       "    </tr>\n",
       "  </thead>\n",
       "  <tbody>\n",
       "    <tr>\n",
       "      <th>0</th>\n",
       "      <td>1477147</td>\n",
       "      <td>337525</td>\n",
       "      <td>Hangawi</td>\n",
       "      <td>Korean</td>\n",
       "      <td>30.75</td>\n",
       "      <td>Weekend</td>\n",
       "      <td>4</td>\n",
       "      <td>25</td>\n",
       "      <td>20</td>\n",
       "    </tr>\n",
       "    <tr>\n",
       "      <th>1</th>\n",
       "      <td>1477685</td>\n",
       "      <td>358141</td>\n",
       "      <td>Blue Ribbon Sushi Izakaya</td>\n",
       "      <td>Japanese</td>\n",
       "      <td>12.08</td>\n",
       "      <td>Weekend</td>\n",
       "      <td>4</td>\n",
       "      <td>25</td>\n",
       "      <td>23</td>\n",
       "    </tr>\n",
       "    <tr>\n",
       "      <th>2</th>\n",
       "      <td>1477070</td>\n",
       "      <td>66393</td>\n",
       "      <td>Cafe Habana</td>\n",
       "      <td>Mexican</td>\n",
       "      <td>12.23</td>\n",
       "      <td>Weekday</td>\n",
       "      <td>5</td>\n",
       "      <td>23</td>\n",
       "      <td>28</td>\n",
       "    </tr>\n",
       "    <tr>\n",
       "      <th>3</th>\n",
       "      <td>1477334</td>\n",
       "      <td>106968</td>\n",
       "      <td>Blue Ribbon Fried Chicken</td>\n",
       "      <td>American</td>\n",
       "      <td>29.20</td>\n",
       "      <td>Weekend</td>\n",
       "      <td>3</td>\n",
       "      <td>25</td>\n",
       "      <td>15</td>\n",
       "    </tr>\n",
       "    <tr>\n",
       "      <th>4</th>\n",
       "      <td>1478249</td>\n",
       "      <td>76942</td>\n",
       "      <td>Dirty Bird to Go</td>\n",
       "      <td>American</td>\n",
       "      <td>11.59</td>\n",
       "      <td>Weekday</td>\n",
       "      <td>4</td>\n",
       "      <td>25</td>\n",
       "      <td>24</td>\n",
       "    </tr>\n",
       "  </tbody>\n",
       "</table>\n",
       "</div>"
      ],
      "text/plain": [
       "   order_id  customer_id            restaurant_name cuisine_type  \\\n",
       "0   1477147       337525                    Hangawi       Korean   \n",
       "1   1477685       358141  Blue Ribbon Sushi Izakaya     Japanese   \n",
       "2   1477070        66393                Cafe Habana      Mexican   \n",
       "3   1477334       106968  Blue Ribbon Fried Chicken     American   \n",
       "4   1478249        76942           Dirty Bird to Go     American   \n",
       "\n",
       "   cost_of_the_order day_of_the_week  rating  food_preparation_time  \\\n",
       "0              30.75         Weekend       4                     25   \n",
       "1              12.08         Weekend       4                     25   \n",
       "2              12.23         Weekday       5                     23   \n",
       "3              29.20         Weekend       3                     25   \n",
       "4              11.59         Weekday       4                     25   \n",
       "\n",
       "   delivery_time  \n",
       "0             20  \n",
       "1             23  \n",
       "2             28  \n",
       "3             15  \n",
       "4             24  "
      ]
     },
     "execution_count": 18,
     "metadata": {},
     "output_type": "execute_result"
    }
   ],
   "source": [
    "working_data.head()"
   ]
  },
  {
   "cell_type": "code",
   "execution_count": 19,
   "metadata": {},
   "outputs": [
    {
     "name": "stdout",
     "output_type": "stream",
     "text": [
      "<class 'pandas.core.frame.DataFrame'>\n",
      "RangeIndex: 1898 entries, 0 to 1897\n",
      "Data columns (total 9 columns):\n",
      " #   Column                 Non-Null Count  Dtype  \n",
      "---  ------                 --------------  -----  \n",
      " 0   order_id               1898 non-null   int64  \n",
      " 1   customer_id            1898 non-null   int64  \n",
      " 2   restaurant_name        1898 non-null   object \n",
      " 3   cuisine_type           1898 non-null   object \n",
      " 4   cost_of_the_order      1898 non-null   float64\n",
      " 5   day_of_the_week        1898 non-null   object \n",
      " 6   rating                 1898 non-null   int32  \n",
      " 7   food_preparation_time  1898 non-null   int64  \n",
      " 8   delivery_time          1898 non-null   int64  \n",
      "dtypes: float64(1), int32(1), int64(4), object(3)\n",
      "memory usage: 126.2+ KB\n"
     ]
    }
   ],
   "source": [
    "working_data.info()"
   ]
  },
  {
   "cell_type": "markdown",
   "metadata": {
    "id": "jDHT3vD1JY_S"
   },
   "source": [
    "#### Observations:\n",
    "\n",
    "Yes, there are missing values in the dataset. Under the \"ratings\" column therr were \"Not given\" responses. These values are missing and filled using SciKit Learn Simpleimputer."
   ]
  },
  {
   "cell_type": "markdown",
   "metadata": {
    "id": "MnJo7MWrJY_S"
   },
   "source": [
    "### **Question 4:** Check the statistical summary of the data. What is the minimum, average, and maximum time it takes for food to be prepared once an order is placed? [2 marks]"
   ]
  },
  {
   "cell_type": "code",
   "execution_count": 20,
   "metadata": {
    "id": "WprQBgOSJY_T"
   },
   "outputs": [
    {
     "data": {
      "text/html": [
       "<div>\n",
       "<style scoped>\n",
       "    .dataframe tbody tr th:only-of-type {\n",
       "        vertical-align: middle;\n",
       "    }\n",
       "\n",
       "    .dataframe tbody tr th {\n",
       "        vertical-align: top;\n",
       "    }\n",
       "\n",
       "    .dataframe thead th {\n",
       "        text-align: right;\n",
       "    }\n",
       "</style>\n",
       "<table border=\"1\" class=\"dataframe\">\n",
       "  <thead>\n",
       "    <tr style=\"text-align: right;\">\n",
       "      <th></th>\n",
       "      <th>count</th>\n",
       "      <th>mean</th>\n",
       "      <th>std</th>\n",
       "      <th>min</th>\n",
       "      <th>25%</th>\n",
       "      <th>50%</th>\n",
       "      <th>75%</th>\n",
       "      <th>max</th>\n",
       "    </tr>\n",
       "  </thead>\n",
       "  <tbody>\n",
       "    <tr>\n",
       "      <th>order_id</th>\n",
       "      <td>1898.0</td>\n",
       "      <td>1.477496e+06</td>\n",
       "      <td>548.049724</td>\n",
       "      <td>1476547.00</td>\n",
       "      <td>1477021.25</td>\n",
       "      <td>1477495.50</td>\n",
       "      <td>1.477970e+06</td>\n",
       "      <td>1478444.00</td>\n",
       "    </tr>\n",
       "    <tr>\n",
       "      <th>customer_id</th>\n",
       "      <td>1898.0</td>\n",
       "      <td>1.711685e+05</td>\n",
       "      <td>113698.139743</td>\n",
       "      <td>1311.00</td>\n",
       "      <td>77787.75</td>\n",
       "      <td>128600.00</td>\n",
       "      <td>2.705250e+05</td>\n",
       "      <td>405334.00</td>\n",
       "    </tr>\n",
       "    <tr>\n",
       "      <th>cost_of_the_order</th>\n",
       "      <td>1898.0</td>\n",
       "      <td>1.649885e+01</td>\n",
       "      <td>7.483812</td>\n",
       "      <td>4.47</td>\n",
       "      <td>12.08</td>\n",
       "      <td>14.14</td>\n",
       "      <td>2.229750e+01</td>\n",
       "      <td>35.41</td>\n",
       "    </tr>\n",
       "    <tr>\n",
       "      <th>rating</th>\n",
       "      <td>1898.0</td>\n",
       "      <td>4.210748e+00</td>\n",
       "      <td>0.603845</td>\n",
       "      <td>3.00</td>\n",
       "      <td>4.00</td>\n",
       "      <td>4.00</td>\n",
       "      <td>5.000000e+00</td>\n",
       "      <td>5.00</td>\n",
       "    </tr>\n",
       "    <tr>\n",
       "      <th>food_preparation_time</th>\n",
       "      <td>1898.0</td>\n",
       "      <td>2.737197e+01</td>\n",
       "      <td>4.632481</td>\n",
       "      <td>20.00</td>\n",
       "      <td>23.00</td>\n",
       "      <td>27.00</td>\n",
       "      <td>3.100000e+01</td>\n",
       "      <td>35.00</td>\n",
       "    </tr>\n",
       "    <tr>\n",
       "      <th>delivery_time</th>\n",
       "      <td>1898.0</td>\n",
       "      <td>2.416175e+01</td>\n",
       "      <td>4.972637</td>\n",
       "      <td>15.00</td>\n",
       "      <td>20.00</td>\n",
       "      <td>25.00</td>\n",
       "      <td>2.800000e+01</td>\n",
       "      <td>33.00</td>\n",
       "    </tr>\n",
       "  </tbody>\n",
       "</table>\n",
       "</div>"
      ],
      "text/plain": [
       "                        count          mean            std         min  \\\n",
       "order_id               1898.0  1.477496e+06     548.049724  1476547.00   \n",
       "customer_id            1898.0  1.711685e+05  113698.139743     1311.00   \n",
       "cost_of_the_order      1898.0  1.649885e+01       7.483812        4.47   \n",
       "rating                 1898.0  4.210748e+00       0.603845        3.00   \n",
       "food_preparation_time  1898.0  2.737197e+01       4.632481       20.00   \n",
       "delivery_time          1898.0  2.416175e+01       4.972637       15.00   \n",
       "\n",
       "                              25%         50%           75%         max  \n",
       "order_id               1477021.25  1477495.50  1.477970e+06  1478444.00  \n",
       "customer_id              77787.75   128600.00  2.705250e+05   405334.00  \n",
       "cost_of_the_order           12.08       14.14  2.229750e+01       35.41  \n",
       "rating                       4.00        4.00  5.000000e+00        5.00  \n",
       "food_preparation_time       23.00       27.00  3.100000e+01       35.00  \n",
       "delivery_time               20.00       25.00  2.800000e+01       33.00  "
      ]
     },
     "execution_count": 20,
     "metadata": {},
     "output_type": "execute_result"
    }
   ],
   "source": [
    "# Write your code here\n",
    "working_data.describe().T"
   ]
  },
  {
   "cell_type": "markdown",
   "metadata": {
    "id": "9YbSOR5wJY_T"
   },
   "source": [
    "#### Observations:\n",
    "**food_preparation_time**\n",
    "\n",
    "minimum: 20 minutes\n",
    "\n",
    "average: 27 minutes\n",
    "\n",
    "maximum: 35 minutes"
   ]
  },
  {
   "cell_type": "markdown",
   "metadata": {
    "id": "cw3l58z_JY_T"
   },
   "source": [
    "### **Question 5:** How many orders are not rated? [1 mark]"
   ]
  },
  {
   "cell_type": "code",
   "execution_count": 26,
   "metadata": {
    "id": "hEzDUL9wgksi"
   },
   "outputs": [
    {
     "name": "stdout",
     "output_type": "stream",
     "text": [
      "736\n"
     ]
    }
   ],
   "source": [
    "# Write the code here\n",
    "count_notgiven = raw_data['rating'].value_counts().get('Not given')\n",
    "print(count_notgiven)"
   ]
  },
  {
   "cell_type": "markdown",
   "metadata": {
    "id": "5E0O_oviJY_T"
   },
   "source": [
    "#### Observations:\n",
    "There were 736 rows where a rating was niot given. "
   ]
  },
  {
   "cell_type": "markdown",
   "metadata": {
    "id": "7msIfXE-JY_T"
   },
   "source": [
    "### Exploratory Data Analysis (EDA)"
   ]
  },
  {
   "cell_type": "markdown",
   "metadata": {
    "id": "-2xfI28YJY_T"
   },
   "source": [
    "### Univariate Analysis"
   ]
  },
  {
   "cell_type": "markdown",
   "metadata": {
    "id": "0RHZnugBJY_U"
   },
   "source": [
    "### **Question 6:** Explore all the variables and provide observations on their distributions. (Generally, histograms, boxplots, countplots, etc. are used for univariate exploration.) [9 marks]"
   ]
  },
  {
   "cell_type": "markdown",
   "metadata": {},
   "source": [
    "#### cost_of_the_order"
   ]
  },
  {
   "cell_type": "code",
   "execution_count": 32,
   "metadata": {
    "id": "rU5ZqISjJY_U"
   },
   "outputs": [
    {
     "data": {
      "image/png": "[encoded data removed]",
      "text/plain": [
       "<Figure size 640x480 with 1 Axes>"
      ]
     },
     "metadata": {},
     "output_type": "display_data"
    }
   ],
   "source": [
    "# Write the code here working_data\n",
    "sns.histplot(data=working_data['cost_of_the_order'], kde=True) ;"
   ]
  },
  {
   "cell_type": "code",
   "execution_count": 37,
   "metadata": {},
   "outputs": [
    {
     "data": {
      "image/png": "[encoded data removed]",
      "text/plain": [
       "<Figure size 640x480 with 1 Axes>"
      ]
     },
     "metadata": {},
     "output_type": "display_data"
    }
   ],
   "source": [
    "sns.boxplot(data=working_data['cost_of_the_order']);"
   ]
  },
  {
   "cell_type": "markdown",
   "metadata": {},
   "source": [
    "#### rating"
   ]
  },
  {
   "cell_type": "code",
   "execution_count": 33,
   "metadata": {},
   "outputs": [
    {
     "data": {
      "image/png": "[encoded data removed]",
      "text/plain": [
       "<Figure size 640x480 with 1 Axes>"
      ]
     },
     "metadata": {},
     "output_type": "display_data"
    }
   ],
   "source": [
    "sns.histplot(data=working_data['cost_of_the_order'], kde=True);"
   ]
  },
  {
   "cell_type": "code",
   "execution_count": 38,
   "metadata": {},
   "outputs": [
    {
     "data": {
      "image/png": "[encoded data removed]",
      "text/plain": [
       "<Figure size 640x480 with 1 Axes>"
      ]
     },
     "metadata": {},
     "output_type": "display_data"
    }
   ],
   "source": [
    "sns.boxplot(data=working_data['rating']);"
   ]
  },
  {
   "cell_type": "markdown",
   "metadata": {},
   "source": [
    "#### food_preparation_time"
   ]
  },
  {
   "cell_type": "code",
   "execution_count": 35,
   "metadata": {},
   "outputs": [
    {
     "data": {
      "image/png": "[encoded data removed]",
      "text/plain": [
       "<Figure size 640x480 with 1 Axes>"
      ]
     },
     "metadata": {},
     "output_type": "display_data"
    }
   ],
   "source": [
    "sns.histplot(data=working_data['food_preparation_time'], kde=True);"
   ]
  },
  {
   "cell_type": "code",
   "execution_count": 39,
   "metadata": {},
   "outputs": [
    {
     "data": {
      "image/png": "[encoded data removed]",
      "text/plain": [
       "<Figure size 640x480 with 1 Axes>"
      ]
     },
     "metadata": {},
     "output_type": "display_data"
    }
   ],
   "source": [
    "sns.boxplot(data=working_data['food_preparation_time']);"
   ]
  },
  {
   "cell_type": "markdown",
   "metadata": {},
   "source": [
    "#### delivery_time"
   ]
  },
  {
   "cell_type": "code",
   "execution_count": 36,
   "metadata": {},
   "outputs": [
    {
     "data": {
      "image/png": "[encoded data removed]",
      "text/plain": [
       "<Figure size 640x480 with 1 Axes>"
      ]
     },
     "metadata": {},
     "output_type": "display_data"
    }
   ],
   "source": [
    "sns.histplot(data=working_data['delivery_time'], kde=True);"
   ]
  },
  {
   "cell_type": "code",
   "execution_count": 40,
   "metadata": {},
   "outputs": [
    {
     "data": {
      "image/png": "[encoded data removed]",
      "text/plain": [
       "<Figure size 640x480 with 1 Axes>"
      ]
     },
     "metadata": {},
     "output_type": "display_data"
    }
   ],
   "source": [
    "sns.boxplot(data=working_data['delivery_time']);"
   ]
  },
  {
   "cell_type": "markdown",
   "metadata": {},
   "source": [
    "#### cuisine_type"
   ]
  },
  {
   "cell_type": "code",
   "execution_count": 144,
   "metadata": {
    "scrolled": true
   },
   "outputs": [
    {
     "data": {
      "image/png": "[encoded data removed]",
      "text/plain": [
       "<Figure size 640x480 with 1 Axes>"
      ]
     },
     "metadata": {},
     "output_type": "display_data"
    }
   ],
   "source": [
    "plt.xticks(rotation=45)\n",
    "sns.countplot(data=working_data, x='cuisine_type', palette='Set2')\n",
    "#plt.title('Number of Orders by Cuisine Type');"
   ]
  },
  {
   "cell_type": "markdown",
   "metadata": {
    "id": "K9CqA5H_JY_U"
   },
   "source": [
    "### **Question 7**: Which are the top 5 restaurants in terms of the number of orders received? [1 mark]"
   ]
  },
  {
   "cell_type": "code",
   "execution_count": 151,
   "metadata": {},
   "outputs": [
    {
     "name": "stdout",
     "output_type": "stream",
     "text": [
      "               restaurant_name  order_count\n",
      "136                Shake Shack          219\n",
      "153          The Meatball Shop          132\n",
      "21           Blue Ribbon Sushi          119\n",
      "20   Blue Ribbon Fried Chicken           96\n",
      "109                       Parm           68\n"
     ]
    }
   ],
   "source": [
    "top_5 = working_data.groupby('restaurant_name')['order_id'].count().reset_index()\n",
    "top_5.columns = ['restaurant_name', 'order_count']\n",
    "top_5_restaurants = top_5.sort_values(by='order_count', ascending=False).head()\n",
    "print(top_5_restaurants)"
   ]
  },
  {
   "cell_type": "markdown",
   "metadata": {
    "id": "tnjhWgUfJY_U"
   },
   "source": [
    "#### Observations:\n",
    "Shake Shack has the most orders for this time frame, with a large lead of the second place restaurant, The Meatball Shop. The number of orders per restaurant start to decrease rapidly after the top 5. "
   ]
  },
  {
   "cell_type": "markdown",
   "metadata": {
    "id": "gWPMqGq0JY_U"
   },
   "source": [
    "### **Question 8**: Which is the most popular cuisine on weekends? [1 mark]"
   ]
  },
  {
   "cell_type": "code",
   "execution_count": 163,
   "metadata": {},
   "outputs": [
    {
     "data": {
      "text/html": [
       "<div>\n",
       "<style scoped>\n",
       "    .dataframe tbody tr th:only-of-type {\n",
       "        vertical-align: middle;\n",
       "    }\n",
       "\n",
       "    .dataframe tbody tr th {\n",
       "        vertical-align: top;\n",
       "    }\n",
       "\n",
       "    .dataframe thead th {\n",
       "        text-align: right;\n",
       "    }\n",
       "</style>\n",
       "<table border=\"1\" class=\"dataframe\">\n",
       "  <thead>\n",
       "    <tr style=\"text-align: right;\">\n",
       "      <th></th>\n",
       "      <th>order_id</th>\n",
       "      <th>customer_id</th>\n",
       "      <th>restaurant_name</th>\n",
       "      <th>cuisine_type</th>\n",
       "      <th>cost_of_the_order</th>\n",
       "      <th>day_of_the_week</th>\n",
       "      <th>rating</th>\n",
       "      <th>food_preparation_time</th>\n",
       "      <th>delivery_time</th>\n",
       "    </tr>\n",
       "  </thead>\n",
       "  <tbody>\n",
       "    <tr>\n",
       "      <th>0</th>\n",
       "      <td>1477147</td>\n",
       "      <td>337525</td>\n",
       "      <td>Hangawi</td>\n",
       "      <td>Korean</td>\n",
       "      <td>30.75</td>\n",
       "      <td>Weekend</td>\n",
       "      <td>4</td>\n",
       "      <td>25</td>\n",
       "      <td>20</td>\n",
       "    </tr>\n",
       "    <tr>\n",
       "      <th>1</th>\n",
       "      <td>1477685</td>\n",
       "      <td>358141</td>\n",
       "      <td>Blue Ribbon Sushi Izakaya</td>\n",
       "      <td>Japanese</td>\n",
       "      <td>12.08</td>\n",
       "      <td>Weekend</td>\n",
       "      <td>4</td>\n",
       "      <td>25</td>\n",
       "      <td>23</td>\n",
       "    </tr>\n",
       "    <tr>\n",
       "      <th>3</th>\n",
       "      <td>1477334</td>\n",
       "      <td>106968</td>\n",
       "      <td>Blue Ribbon Fried Chicken</td>\n",
       "      <td>American</td>\n",
       "      <td>29.20</td>\n",
       "      <td>Weekend</td>\n",
       "      <td>3</td>\n",
       "      <td>25</td>\n",
       "      <td>15</td>\n",
       "    </tr>\n",
       "    <tr>\n",
       "      <th>6</th>\n",
       "      <td>1477894</td>\n",
       "      <td>157711</td>\n",
       "      <td>The Meatball Shop</td>\n",
       "      <td>Italian</td>\n",
       "      <td>6.07</td>\n",
       "      <td>Weekend</td>\n",
       "      <td>4</td>\n",
       "      <td>28</td>\n",
       "      <td>21</td>\n",
       "    </tr>\n",
       "    <tr>\n",
       "      <th>11</th>\n",
       "      <td>1478437</td>\n",
       "      <td>221206</td>\n",
       "      <td>Empanada Mama (closed)</td>\n",
       "      <td>Mexican</td>\n",
       "      <td>8.10</td>\n",
       "      <td>Weekend</td>\n",
       "      <td>5</td>\n",
       "      <td>23</td>\n",
       "      <td>22</td>\n",
       "    </tr>\n",
       "    <tr>\n",
       "      <th>...</th>\n",
       "      <td>...</td>\n",
       "      <td>...</td>\n",
       "      <td>...</td>\n",
       "      <td>...</td>\n",
       "      <td>...</td>\n",
       "      <td>...</td>\n",
       "      <td>...</td>\n",
       "      <td>...</td>\n",
       "      <td>...</td>\n",
       "    </tr>\n",
       "    <tr>\n",
       "      <th>1891</th>\n",
       "      <td>1476981</td>\n",
       "      <td>138586</td>\n",
       "      <td>Shake Shack</td>\n",
       "      <td>American</td>\n",
       "      <td>5.82</td>\n",
       "      <td>Weekend</td>\n",
       "      <td>4</td>\n",
       "      <td>22</td>\n",
       "      <td>28</td>\n",
       "    </tr>\n",
       "    <tr>\n",
       "      <th>1892</th>\n",
       "      <td>1477473</td>\n",
       "      <td>97838</td>\n",
       "      <td>Han Dynasty</td>\n",
       "      <td>Chinese</td>\n",
       "      <td>29.15</td>\n",
       "      <td>Weekend</td>\n",
       "      <td>4</td>\n",
       "      <td>29</td>\n",
       "      <td>21</td>\n",
       "    </tr>\n",
       "    <tr>\n",
       "      <th>1893</th>\n",
       "      <td>1476701</td>\n",
       "      <td>292602</td>\n",
       "      <td>Chipotle Mexican Grill $1.99 Delivery</td>\n",
       "      <td>Mexican</td>\n",
       "      <td>22.31</td>\n",
       "      <td>Weekend</td>\n",
       "      <td>5</td>\n",
       "      <td>31</td>\n",
       "      <td>17</td>\n",
       "    </tr>\n",
       "    <tr>\n",
       "      <th>1894</th>\n",
       "      <td>1477421</td>\n",
       "      <td>397537</td>\n",
       "      <td>The Smile</td>\n",
       "      <td>American</td>\n",
       "      <td>12.18</td>\n",
       "      <td>Weekend</td>\n",
       "      <td>5</td>\n",
       "      <td>31</td>\n",
       "      <td>19</td>\n",
       "    </tr>\n",
       "    <tr>\n",
       "      <th>1897</th>\n",
       "      <td>1478056</td>\n",
       "      <td>120353</td>\n",
       "      <td>Blue Ribbon Sushi</td>\n",
       "      <td>Japanese</td>\n",
       "      <td>19.45</td>\n",
       "      <td>Weekend</td>\n",
       "      <td>4</td>\n",
       "      <td>28</td>\n",
       "      <td>24</td>\n",
       "    </tr>\n",
       "  </tbody>\n",
       "</table>\n",
       "<p>1351 rows × 9 columns</p>\n",
       "</div>"
      ],
      "text/plain": [
       "      order_id  customer_id                        restaurant_name  \\\n",
       "0      1477147       337525                                Hangawi   \n",
       "1      1477685       358141              Blue Ribbon Sushi Izakaya   \n",
       "3      1477334       106968              Blue Ribbon Fried Chicken   \n",
       "6      1477894       157711                      The Meatball Shop   \n",
       "11     1478437       221206                 Empanada Mama (closed)   \n",
       "...        ...          ...                                    ...   \n",
       "1891   1476981       138586                            Shake Shack   \n",
       "1892   1477473        97838                            Han Dynasty   \n",
       "1893   1476701       292602  Chipotle Mexican Grill $1.99 Delivery   \n",
       "1894   1477421       397537                              The Smile   \n",
       "1897   1478056       120353                      Blue Ribbon Sushi   \n",
       "\n",
       "     cuisine_type  cost_of_the_order day_of_the_week  rating  \\\n",
       "0          Korean              30.75         Weekend       4   \n",
       "1        Japanese              12.08         Weekend       4   \n",
       "3        American              29.20         Weekend       3   \n",
       "6         Italian               6.07         Weekend       4   \n",
       "11        Mexican               8.10         Weekend       5   \n",
       "...           ...                ...             ...     ...   \n",
       "1891     American               5.82         Weekend       4   \n",
       "1892      Chinese              29.15         Weekend       4   \n",
       "1893      Mexican              22.31         Weekend       5   \n",
       "1894     American              12.18         Weekend       5   \n",
       "1897     Japanese              19.45         Weekend       4   \n",
       "\n",
       "      food_preparation_time  delivery_time  \n",
       "0                        25             20  \n",
       "1                        25             23  \n",
       "3                        25             15  \n",
       "6                        28             21  \n",
       "11                       23             22  \n",
       "...                     ...            ...  \n",
       "1891                     22             28  \n",
       "1892                     29             21  \n",
       "1893                     31             17  \n",
       "1894                     31             19  \n",
       "1897                     28             24  \n",
       "\n",
       "[1351 rows x 9 columns]"
      ]
     },
     "execution_count": 163,
     "metadata": {},
     "output_type": "execute_result"
    }
   ],
   "source": [
    "weekend_orders = working_data[working_data['day_of_the_week'].str.contains('Weekend')].copy()\n",
    "weekend_orders"
   ]
  },
  {
   "cell_type": "code",
   "execution_count": 171,
   "metadata": {},
   "outputs": [
    {
     "data": {
      "text/html": [
       "<div>\n",
       "<style scoped>\n",
       "    .dataframe tbody tr th:only-of-type {\n",
       "        vertical-align: middle;\n",
       "    }\n",
       "\n",
       "    .dataframe tbody tr th {\n",
       "        vertical-align: top;\n",
       "    }\n",
       "\n",
       "    .dataframe thead th {\n",
       "        text-align: right;\n",
       "    }\n",
       "</style>\n",
       "<table border=\"1\" class=\"dataframe\">\n",
       "  <thead>\n",
       "    <tr style=\"text-align: right;\">\n",
       "      <th></th>\n",
       "      <th>cuisine</th>\n",
       "      <th>order_count</th>\n",
       "    </tr>\n",
       "  </thead>\n",
       "  <tbody>\n",
       "    <tr>\n",
       "      <th>0</th>\n",
       "      <td>American</td>\n",
       "      <td>415</td>\n",
       "    </tr>\n",
       "  </tbody>\n",
       "</table>\n",
       "</div>"
      ],
      "text/plain": [
       "    cuisine  order_count\n",
       "0  American          415"
      ]
     },
     "execution_count": 171,
     "metadata": {},
     "output_type": "execute_result"
    }
   ],
   "source": [
    "popular_cuisine = weekend_orders.groupby('cuisine_type')['order_id'].count().reset_index()\n",
    "popular_cuisine.columns = ['cuisine', 'order_count']\n",
    "most_popular_cuisine = popular_cuisine.sort_values(by='order_count', ascending=False).head(1)\n",
    "most_popular_cuisine"
   ]
  },
  {
   "cell_type": "markdown",
   "metadata": {
    "id": "bpQ270TUJY_U"
   },
   "source": [
    "#### Observations:\n",
    "The most poular cuisine on the weekend is American"
   ]
  },
  {
   "cell_type": "markdown",
   "metadata": {
    "id": "88xgTqkxJY_U"
   },
   "source": [
    "### **Question 9**: What percentage of the orders cost more than 20 dollars? [2 marks]"
   ]
  },
  {
   "cell_type": "code",
   "execution_count": 177,
   "metadata": {
    "id": "OTpHyTdzJY_U"
   },
   "outputs": [
    {
     "data": {
      "text/plain": [
       "29.24130663856691"
      ]
     },
     "execution_count": 177,
     "metadata": {},
     "output_type": "execute_result"
    }
   ],
   "source": [
    "# Write the code here - working_data\n",
    "total_orders = len(working_data)\n",
    "above_20 = len(working_data[working_data['cost_of_the_order'] > 20])\n",
    "percent_above_20 = (above_20 / total_orders) * 100\n",
    "percent_above_20"
   ]
  },
  {
   "cell_type": "markdown",
   "metadata": {
    "id": "77KNAC5zJY_U"
   },
   "source": [
    "#### Observations:\n"
   ]
  },
  {
   "cell_type": "code",
   "execution_count": 183,
   "metadata": {},
   "outputs": [
    {
     "name": "stdout",
     "output_type": "stream",
     "text": [
      "Percentage of orders costing more than $20: 29.2%\n"
     ]
    }
   ],
   "source": [
    "print(f\"Percentage of orders costing more than $20: {percent_above_20:.1f}%\")"
   ]
  },
  {
   "cell_type": "markdown",
   "metadata": {
    "id": "HFyHn7hsJY_V"
   },
   "source": [
    "### **Question 10**: What is the mean order delivery time? [1 mark]"
   ]
  },
  {
   "cell_type": "code",
   "execution_count": 180,
   "metadata": {
    "id": "cyFL13hNJY_V"
   },
   "outputs": [
    {
     "data": {
      "text/plain": [
       "24.161749209694417"
      ]
     },
     "execution_count": 180,
     "metadata": {},
     "output_type": "execute_result"
    }
   ],
   "source": [
    "# Write the code here\n",
    "mean_delivery_time = working_data['delivery_time'].mean()\n",
    "mean_delivery_time"
   ]
  },
  {
   "cell_type": "markdown",
   "metadata": {
    "id": "F35SRV-HJY_V"
   },
   "source": [
    "#### Observations:\n"
   ]
  },
  {
   "cell_type": "code",
   "execution_count": 184,
   "metadata": {},
   "outputs": [
    {
     "name": "stdout",
     "output_type": "stream",
     "text": [
      "Mean order delivery time: 24.2 minutes\n"
     ]
    }
   ],
   "source": [
    "print(f\"Mean order delivery time: {mean_delivery_time:.1f} minutes\")"
   ]
  },
  {
   "cell_type": "markdown",
   "metadata": {
    "id": "48IjaOuDJY_V"
   },
   "source": [
    "### **Question 11:** The company has decided to give 20% discount vouchers to the top 3 most frequent customers. Find the IDs of these customers and the number of orders they placed. [1 mark]"
   ]
  },
  {
   "cell_type": "code",
   "execution_count": 185,
   "metadata": {
    "id": "Hz8-DE4Zge0j"
   },
   "outputs": [],
   "source": [
    "# Write the code here\n",
    "customer_orders = working_data.groupby('customer_id')['order_id'].count().reset_index()\n",
    "customer_orders.columns = ['customer_id', 'order_count']\n",
    "top_customers = customer_orders.nlargest(3, 'order_count')"
   ]
  },
  {
   "cell_type": "markdown",
   "metadata": {
    "id": "9tWVwfX6JY_V"
   },
   "source": [
    "#### Observations:\n"
   ]
  },
  {
   "cell_type": "code",
   "execution_count": 186,
   "metadata": {},
   "outputs": [
    {
     "name": "stdout",
     "output_type": "stream",
     "text": [
      "Top 3 most frequent customers and their order counts:\n",
      "     customer_id  order_count\n",
      "116        52832           13\n",
      "84         47440           10\n",
      "333        83287            9\n"
     ]
    }
   ],
   "source": [
    "print(\"Top 3 most frequent customers and their order counts:\")\n",
    "print(top_customers)"
   ]
  },
  {
   "cell_type": "markdown",
   "metadata": {
    "id": "AfIc2jPaJY_V"
   },
   "source": [
    "### Multivariate Analysis"
   ]
  },
  {
   "cell_type": "markdown",
   "metadata": {
    "id": "iqiS0RT_JY_V"
   },
   "source": [
    "### **Question 12**: Perform a multivariate analysis to explore relationships between the important variables in the dataset. (It is a good idea to explore relations between numerical variables as well as relations between numerical and categorical variables) [10 marks]\n"
   ]
  },
  {
   "cell_type": "code",
   "execution_count": 188,
   "metadata": {
    "id": "3qt4MCNTJY_V"
   },
   "outputs": [
    {
     "data": {
      "text/html": [
       "<div>\n",
       "<style scoped>\n",
       "    .dataframe tbody tr th:only-of-type {\n",
       "        vertical-align: middle;\n",
       "    }\n",
       "\n",
       "    .dataframe tbody tr th {\n",
       "        vertical-align: top;\n",
       "    }\n",
       "\n",
       "    .dataframe thead th {\n",
       "        text-align: right;\n",
       "    }\n",
       "</style>\n",
       "<table border=\"1\" class=\"dataframe\">\n",
       "  <thead>\n",
       "    <tr style=\"text-align: right;\">\n",
       "      <th></th>\n",
       "      <th>order_id</th>\n",
       "      <th>customer_id</th>\n",
       "      <th>restaurant_name</th>\n",
       "      <th>cuisine_type</th>\n",
       "      <th>cost_of_the_order</th>\n",
       "      <th>day_of_the_week</th>\n",
       "      <th>rating</th>\n",
       "      <th>food_preparation_time</th>\n",
       "      <th>delivery_time</th>\n",
       "    </tr>\n",
       "  </thead>\n",
       "  <tbody>\n",
       "    <tr>\n",
       "      <th>0</th>\n",
       "      <td>1477147</td>\n",
       "      <td>337525</td>\n",
       "      <td>Hangawi</td>\n",
       "      <td>Korean</td>\n",
       "      <td>30.75</td>\n",
       "      <td>Weekend</td>\n",
       "      <td>4</td>\n",
       "      <td>25</td>\n",
       "      <td>20</td>\n",
       "    </tr>\n",
       "    <tr>\n",
       "      <th>1</th>\n",
       "      <td>1477685</td>\n",
       "      <td>358141</td>\n",
       "      <td>Blue Ribbon Sushi Izakaya</td>\n",
       "      <td>Japanese</td>\n",
       "      <td>12.08</td>\n",
       "      <td>Weekend</td>\n",
       "      <td>4</td>\n",
       "      <td>25</td>\n",
       "      <td>23</td>\n",
       "    </tr>\n",
       "    <tr>\n",
       "      <th>2</th>\n",
       "      <td>1477070</td>\n",
       "      <td>66393</td>\n",
       "      <td>Cafe Habana</td>\n",
       "      <td>Mexican</td>\n",
       "      <td>12.23</td>\n",
       "      <td>Weekday</td>\n",
       "      <td>5</td>\n",
       "      <td>23</td>\n",
       "      <td>28</td>\n",
       "    </tr>\n",
       "    <tr>\n",
       "      <th>3</th>\n",
       "      <td>1477334</td>\n",
       "      <td>106968</td>\n",
       "      <td>Blue Ribbon Fried Chicken</td>\n",
       "      <td>American</td>\n",
       "      <td>29.20</td>\n",
       "      <td>Weekend</td>\n",
       "      <td>3</td>\n",
       "      <td>25</td>\n",
       "      <td>15</td>\n",
       "    </tr>\n",
       "    <tr>\n",
       "      <th>4</th>\n",
       "      <td>1478249</td>\n",
       "      <td>76942</td>\n",
       "      <td>Dirty Bird to Go</td>\n",
       "      <td>American</td>\n",
       "      <td>11.59</td>\n",
       "      <td>Weekday</td>\n",
       "      <td>4</td>\n",
       "      <td>25</td>\n",
       "      <td>24</td>\n",
       "    </tr>\n",
       "  </tbody>\n",
       "</table>\n",
       "</div>"
      ],
      "text/plain": [
       "   order_id  customer_id            restaurant_name cuisine_type  \\\n",
       "0   1477147       337525                    Hangawi       Korean   \n",
       "1   1477685       358141  Blue Ribbon Sushi Izakaya     Japanese   \n",
       "2   1477070        66393                Cafe Habana      Mexican   \n",
       "3   1477334       106968  Blue Ribbon Fried Chicken     American   \n",
       "4   1478249        76942           Dirty Bird to Go     American   \n",
       "\n",
       "   cost_of_the_order day_of_the_week  rating  food_preparation_time  \\\n",
       "0              30.75         Weekend       4                     25   \n",
       "1              12.08         Weekend       4                     25   \n",
       "2              12.23         Weekday       5                     23   \n",
       "3              29.20         Weekend       3                     25   \n",
       "4              11.59         Weekday       4                     25   \n",
       "\n",
       "   delivery_time  \n",
       "0             20  \n",
       "1             23  \n",
       "2             28  \n",
       "3             15  \n",
       "4             24  "
      ]
     },
     "execution_count": 188,
     "metadata": {},
     "output_type": "execute_result"
    }
   ],
   "source": [
    "# Write the code here -  working_data\n",
    "working_data.head()"
   ]
  },
  {
   "cell_type": "code",
   "execution_count": 217,
   "metadata": {},
   "outputs": [],
   "source": [
    "corr_df = working_data.copy()"
   ]
  },
  {
   "cell_type": "code",
   "execution_count": 222,
   "metadata": {},
   "outputs": [
    {
     "data": {
      "text/html": [
       "<div>\n",
       "<style scoped>\n",
       "    .dataframe tbody tr th:only-of-type {\n",
       "        vertical-align: middle;\n",
       "    }\n",
       "\n",
       "    .dataframe tbody tr th {\n",
       "        vertical-align: top;\n",
       "    }\n",
       "\n",
       "    .dataframe thead th {\n",
       "        text-align: right;\n",
       "    }\n",
       "</style>\n",
       "<table border=\"1\" class=\"dataframe\">\n",
       "  <thead>\n",
       "    <tr style=\"text-align: right;\">\n",
       "      <th></th>\n",
       "      <th>cost_of_the_order</th>\n",
       "      <th>rating</th>\n",
       "      <th>food_preparation_time</th>\n",
       "      <th>delivery_time</th>\n",
       "    </tr>\n",
       "  </thead>\n",
       "  <tbody>\n",
       "    <tr>\n",
       "      <th>0</th>\n",
       "      <td>30.75</td>\n",
       "      <td>4</td>\n",
       "      <td>25</td>\n",
       "      <td>20</td>\n",
       "    </tr>\n",
       "    <tr>\n",
       "      <th>1</th>\n",
       "      <td>12.08</td>\n",
       "      <td>4</td>\n",
       "      <td>25</td>\n",
       "      <td>23</td>\n",
       "    </tr>\n",
       "    <tr>\n",
       "      <th>2</th>\n",
       "      <td>12.23</td>\n",
       "      <td>5</td>\n",
       "      <td>23</td>\n",
       "      <td>28</td>\n",
       "    </tr>\n",
       "    <tr>\n",
       "      <th>3</th>\n",
       "      <td>29.20</td>\n",
       "      <td>3</td>\n",
       "      <td>25</td>\n",
       "      <td>15</td>\n",
       "    </tr>\n",
       "    <tr>\n",
       "      <th>4</th>\n",
       "      <td>11.59</td>\n",
       "      <td>4</td>\n",
       "      <td>25</td>\n",
       "      <td>24</td>\n",
       "    </tr>\n",
       "    <tr>\n",
       "      <th>...</th>\n",
       "      <td>...</td>\n",
       "      <td>...</td>\n",
       "      <td>...</td>\n",
       "      <td>...</td>\n",
       "    </tr>\n",
       "    <tr>\n",
       "      <th>1893</th>\n",
       "      <td>22.31</td>\n",
       "      <td>5</td>\n",
       "      <td>31</td>\n",
       "      <td>17</td>\n",
       "    </tr>\n",
       "    <tr>\n",
       "      <th>1894</th>\n",
       "      <td>12.18</td>\n",
       "      <td>5</td>\n",
       "      <td>31</td>\n",
       "      <td>19</td>\n",
       "    </tr>\n",
       "    <tr>\n",
       "      <th>1895</th>\n",
       "      <td>25.22</td>\n",
       "      <td>4</td>\n",
       "      <td>31</td>\n",
       "      <td>24</td>\n",
       "    </tr>\n",
       "    <tr>\n",
       "      <th>1896</th>\n",
       "      <td>12.18</td>\n",
       "      <td>5</td>\n",
       "      <td>23</td>\n",
       "      <td>31</td>\n",
       "    </tr>\n",
       "    <tr>\n",
       "      <th>1897</th>\n",
       "      <td>19.45</td>\n",
       "      <td>4</td>\n",
       "      <td>28</td>\n",
       "      <td>24</td>\n",
       "    </tr>\n",
       "  </tbody>\n",
       "</table>\n",
       "<p>1898 rows × 4 columns</p>\n",
       "</div>"
      ],
      "text/plain": [
       "      cost_of_the_order  rating  food_preparation_time  delivery_time\n",
       "0                 30.75       4                     25             20\n",
       "1                 12.08       4                     25             23\n",
       "2                 12.23       5                     23             28\n",
       "3                 29.20       3                     25             15\n",
       "4                 11.59       4                     25             24\n",
       "...                 ...     ...                    ...            ...\n",
       "1893              22.31       5                     31             17\n",
       "1894              12.18       5                     31             19\n",
       "1895              25.22       4                     31             24\n",
       "1896              12.18       5                     23             31\n",
       "1897              19.45       4                     28             24\n",
       "\n",
       "[1898 rows x 4 columns]"
      ]
     },
     "execution_count": 222,
     "metadata": {},
     "output_type": "execute_result"
    }
   ],
   "source": [
    "corr_df.drop(columns=['order_id', 'customer_id', 'restaurant_name', 'cuisine_type', 'day_of_the_week'], inplace=True)\n",
    "corr_df"
   ]
  },
  {
   "cell_type": "code",
   "execution_count": 234,
   "metadata": {},
   "outputs": [
    {
     "data": {
      "image/png": "[encoded data removed]",
      "text/plain": [
       "<Figure size 640x480 with 2 Axes>"
      ]
     },
     "metadata": {},
     "output_type": "display_data"
    }
   ],
   "source": [
    "sns.heatmap(data=cdm, cmap='coolwarm', vmin=-1, vmax=1, annot=True);"
   ]
  },
  {
   "cell_type": "code",
   "execution_count": 237,
   "metadata": {},
   "outputs": [
    {
     "data": {
      "image/png": "[encoded data removed]",
      "text/plain": [
       "<Figure size 1000x500 with 1 Axes>"
      ]
     },
     "metadata": {},
     "output_type": "display_data"
    }
   ],
   "source": [
    "plt.figure(figsize=(10,5))\n",
    "sns.scatterplot(data=raw_data,x='food_preparation_time',y='delivery_time')\n",
    "plt.show()"
   ]
  },
  {
   "cell_type": "code",
   "execution_count": 238,
   "metadata": {},
   "outputs": [
    {
     "data": {
      "image/png": "[encoded data removed]",
      "text/plain": [
       "<Figure size 1000x500 with 1 Axes>"
      ]
     },
     "metadata": {},
     "output_type": "display_data"
    }
   ],
   "source": [
    "plt.figure(figsize=(10,5))\n",
    "sns.scatterplot(data=raw_data,x='cost_of_the_order',y='rating')\n",
    "plt.show()"
   ]
  },
  {
   "cell_type": "markdown",
   "metadata": {
    "id": "YLkMf09YJY_V"
   },
   "source": [
    "### **Question 13:** The company wants to provide a promotional offer in the advertisement of the restaurants. The condition to get the offer is that the restaurants must have a rating count of more than 50 and the average rating should be greater than 4. Find the restaurants fulfilling the criteria to get the promotional offer. [3 marks]"
   ]
  },
  {
   "cell_type": "code",
   "execution_count": 248,
   "metadata": {},
   "outputs": [
    {
     "name": "stdout",
     "output_type": "stream",
     "text": [
      "Restaurants meeting this criteriainclude: \n",
      "\n",
      "               restaurant_name  average_rating  rating_count\n",
      "20   Blue Ribbon Fried Chicken        4.218750            96\n",
      "21           Blue Ribbon Sushi        4.134454           119\n",
      "109                       Parm        4.073529            68\n",
      "121           RedFarm Broadway        4.169492            59\n",
      "122             RedFarm Hudson        4.109091            55\n",
      "136                Shake Shack        4.168950           219\n",
      "153          The Meatball Shop        4.325758           132\n"
     ]
    }
   ],
   "source": [
    "# rating_count\n",
    "# average_rating\n",
    "average_ratings = working_data.groupby('restaurant_name').agg(\n",
    "    average_rating=('rating', 'mean'),\n",
    "    rating_count=('rating', 'count')\n",
    ").reset_index()\n",
    "\n",
    "# print(average_ratings)\n",
    "\n",
    "\n",
    "qualified_restaurants = average_ratings[\n",
    "    (average_ratings['rating_count'] > 50) & (average_ratings['average_rating'] > 4)\n",
    "]\n",
    "\n",
    "print(\"Restaurants meeting this criteriainclude: \")\n",
    "print()\n",
    "print(qualified_restaurants)\n"
   ]
  },
  {
   "cell_type": "markdown",
   "metadata": {
    "id": "10uryUMhJY_V"
   },
   "source": [
    "#### Observations:\n",
    "There only 7 restaurants that meet the criteria for this special promotional offer. "
   ]
  },
  {
   "cell_type": "markdown",
   "metadata": {
    "id": "1gvWBkRUJY_V"
   },
   "source": [
    "### **Question 14:** The company charges the restaurant 25% on the orders having cost greater than 20 dollars and 15% on the orders having cost greater than 5 dollars. Find the net revenue generated by the company across all orders. [3 marks]"
   ]
  },
  {
   "cell_type": "code",
   "execution_count": 250,
   "metadata": {
    "id": "rEjbnTNEJY_W"
   },
   "outputs": [
    {
     "name": "stdout",
     "output_type": "stream",
     "text": [
      "Net revenue generated by the company across all orders:\n",
      "6166.303\n"
     ]
    }
   ],
   "source": [
    "# Write the code here - use an if block \n",
    "net_revenue = 0 \n",
    "\n",
    "def calculate_revenue(cost_of_the_order):\n",
    "    if cost_of_the_order > 20:\n",
    "        return cost_of_the_order * 0.25 \n",
    "    elif cost_of_the_order > 5:\n",
    "        return cost_of_the_order * 0.15  \n",
    "    else:\n",
    "        return 0\n",
    "\n",
    "\n",
    "working_data['revenue'] = working_data['cost_of_the_order'].apply(calculate_revenue)\n",
    "\n",
    "total_revenue = working_data['revenue'].sum()\n",
    "\n",
    "print(\"Net revenue generated by the company across all orders:\")\n",
    "print(total_revenue)"
   ]
  },
  {
   "cell_type": "markdown",
   "metadata": {
    "id": "XHCEJgH0JY_W"
   },
   "source": [
    "#### Observations:\n",
    "The $6,166.30 over the time period of the dataset. "
   ]
  },
  {
   "cell_type": "markdown",
   "metadata": {
    "id": "pRlVW-oeJY_W"
   },
   "source": [
    "### **Question 15:** The company wants to analyze the total time required to deliver the food. What percentage of orders take more than 60 minutes to get delivered from the time the order is placed? (The food has to be prepared and then delivered.) [2 marks]"
   ]
  },
  {
   "cell_type": "code",
   "execution_count": 270,
   "metadata": {
    "id": "zxoTrxfLJY_W"
   },
   "outputs": [
    {
     "name": "stdout",
     "output_type": "stream",
     "text": [
      "10.537407797681771\n"
     ]
    }
   ],
   "source": [
    "# Write the code here\n",
    "working_data['total_time'] = working_data['food_preparation_time'] + working_data['delivery_time']\n",
    "order_count = working_data['total_time'].count()\n",
    "over_60 = (working_data['total_time'] > 60).sum()\n",
    "\n",
    "# print(order_count)\n",
    "# print(over_60)\n",
    "\n",
    "percent_over_60 = (over_60 / order_count) * 100\n",
    "print(percent_over_60)"
   ]
  },
  {
   "cell_type": "markdown",
   "metadata": {
    "id": "iqzBXn2yJY_W"
   },
   "source": [
    "#### Observations:\n"
   ]
  },
  {
   "cell_type": "code",
   "execution_count": 276,
   "metadata": {},
   "outputs": [
    {
     "name": "stdout",
     "output_type": "stream",
     "text": [
      "The are about 10.5% took over 60 minutes total time to be delivery\n"
     ]
    }
   ],
   "source": [
    "print(f\"The are about {percent_over_60:.1f}% took over 60 minutes total time to be delivery\")"
   ]
  },
  {
   "cell_type": "markdown",
   "metadata": {
    "id": "bUd6cYpPJY_W"
   },
   "source": [
    "### **Question 16:** The company wants to analyze the delivery time of the orders on weekdays and weekends. How does the mean delivery time vary during weekdays and weekends? [2 marks]"
   ]
  },
  {
   "cell_type": "code",
   "execution_count": 282,
   "metadata": {
    "id": "pIU5xZZ6JY_W"
   },
   "outputs": [
    {
     "data": {
      "text/html": [
       "<div>\n",
       "<style scoped>\n",
       "    .dataframe tbody tr th:only-of-type {\n",
       "        vertical-align: middle;\n",
       "    }\n",
       "\n",
       "    .dataframe tbody tr th {\n",
       "        vertical-align: top;\n",
       "    }\n",
       "\n",
       "    .dataframe thead th {\n",
       "        text-align: right;\n",
       "    }\n",
       "</style>\n",
       "<table border=\"1\" class=\"dataframe\">\n",
       "  <thead>\n",
       "    <tr style=\"text-align: right;\">\n",
       "      <th></th>\n",
       "      <th>day_of_the_week</th>\n",
       "      <th>delivery_time</th>\n",
       "    </tr>\n",
       "  </thead>\n",
       "  <tbody>\n",
       "    <tr>\n",
       "      <th>0</th>\n",
       "      <td>Weekday</td>\n",
       "      <td>28.340037</td>\n",
       "    </tr>\n",
       "    <tr>\n",
       "      <th>1</th>\n",
       "      <td>Weekend</td>\n",
       "      <td>22.470022</td>\n",
       "    </tr>\n",
       "  </tbody>\n",
       "</table>\n",
       "</div>"
      ],
      "text/plain": [
       "  day_of_the_week  delivery_time\n",
       "0         Weekday      28.340037\n",
       "1         Weekend      22.470022"
      ]
     },
     "execution_count": 282,
     "metadata": {},
     "output_type": "execute_result"
    }
   ],
   "source": [
    "# Write the code here\n",
    "mean_delivery_time = working_data.groupby('day_of_the_week')['delivery_time'].mean().reset_index()\n",
    "mean_delivery_time"
   ]
  },
  {
   "cell_type": "markdown",
   "metadata": {
    "id": "8H-ODxbVJY_W"
   },
   "source": [
    "#### Observations:\n"
   ]
  },
  {
   "cell_type": "markdown",
   "metadata": {},
   "source": [
    "Orders on the weekend are delivered 6 minutes ealrier than on a weekday. There is not enough data to determine the reason"
   ]
  },
  {
   "cell_type": "markdown",
   "metadata": {
    "id": "17roJywaJY_W"
   },
   "source": [
    "### Conclusion and Recommendations"
   ]
  },
  {
   "cell_type": "markdown",
   "metadata": {
    "id": "ZdX2Wz4FJY_W"
   },
   "source": [
    "### **Question 17:** What are your conclusions from the analysis? What recommendations would you like to share to help improve the business? (You can use cuisine type and feedback ratings to drive your business recommendations.) [6 marks]"
   ]
  },
  {
   "cell_type": "markdown",
   "metadata": {
    "id": "VTugVsL4Ddz-"
   },
   "source": [
    "### Conclusions:\n",
    "*  The majority of the orders are from a limited number of stores. "
   ]
  },
  {
   "cell_type": "markdown",
   "metadata": {
    "id": "PWnsI0i_guWJ"
   },
   "source": [
    "### Recommendations:\n",
    "\n",
    "*  More data is needed. I think they examine the cudstomer demographics of the highest order stores and see if there is any commonality. If there is some common factors address this group of people. "
   ]
  },
  {
   "cell_type": "markdown",
   "metadata": {
    "id": "tSoucKKbg9Hc"
   },
   "source": [
    "---"
   ]
  }
 ],
 "metadata": {
  "colab": {
   "provenance": []
  },
  "kernelspec": {
   "display_name": "Python 3 (ipykernel)",
   "language": "python",
   "name": "python3"
  },
  "language_info": {
   "codemirror_mode": {
    "name": "ipython",
    "version": 3
   },
   "file_extension": ".py",
   "mimetype": "text/x-python",
   "name": "python",
   "nbconvert_exporter": "python",
   "pygments_lexer": "ipython3",
   "version": "3.11.5"
  }
 },
 "nbformat": 4,
 "nbformat_minor": 1
}
