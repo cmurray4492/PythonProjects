{
 "cells": [
  {
   "cell_type": "markdown",
   "id": "c6e9ef21",
   "metadata": {},
   "source": [
    "## 95% Confidence Interval"
   ]
  },
  {
   "cell_type": "code",
   "execution_count": 14,
   "id": "572c36dc",
   "metadata": {},
   "outputs": [],
   "source": [
    "import numpy as np\n",
    "import pandas as pd\n",
    "import matplotlib.pyplot as plt\n",
    "import seaborn as sns\n",
    "import scipy.stats as stats"
   ]
  },
  {
   "cell_type": "code",
   "execution_count": 2,
   "id": "62373d06",
   "metadata": {},
   "outputs": [],
   "source": [
    "x_bar = 110 # mean\n",
    "n=50 # number of observations\n",
    "sigma=7 # Standard Deviation"
   ]
  },
  {
   "cell_type": "code",
   "execution_count": 3,
   "id": "a54520d7",
   "metadata": {},
   "outputs": [],
   "source": [
    "from scipy.stats import norm"
   ]
  },
  {
   "cell_type": "code",
   "execution_count": 4,
   "id": "ba32b366",
   "metadata": {},
   "outputs": [
    {
     "data": {
      "text/plain": [
       "array([108.06, 111.94])"
      ]
     },
     "execution_count": 4,
     "metadata": {},
     "output_type": "execute_result"
    }
   ],
   "source": [
    "np.round(norm.interval(0.95, loc=x_bar, scale=sigma/np.sqrt(n)), 2)"
   ]
  },
  {
   "cell_type": "markdown",
   "id": "8c067b7a",
   "metadata": {},
   "source": [
    "## 95% Confidence Interval with T Score"
   ]
  },
  {
   "cell_type": "code",
   "execution_count": 5,
   "id": "ab235ef8",
   "metadata": {},
   "outputs": [],
   "source": [
    "from scipy.stats import t"
   ]
  },
  {
   "cell_type": "code",
   "execution_count": 6,
   "id": "221630e4",
   "metadata": {},
   "outputs": [],
   "source": [
    "x_bar, s = 110, 7\n",
    "n = 50\n",
    "k = n-1"
   ]
  },
  {
   "cell_type": "code",
   "execution_count": 7,
   "id": "728c7850",
   "metadata": {},
   "outputs": [
    {
     "data": {
      "text/plain": [
       "array([108.01, 111.99])"
      ]
     },
     "execution_count": 7,
     "metadata": {},
     "output_type": "execute_result"
    }
   ],
   "source": [
    "np.round(t.interval(0.95, df=k, loc=x_bar, scale=s/np.sqrt(n)), 2)"
   ]
  },
  {
   "cell_type": "markdown",
   "id": "af9c43eb",
   "metadata": {},
   "source": [
    "## Quiz question 1"
   ]
  },
  {
   "cell_type": "code",
   "execution_count": 8,
   "id": "7618d2d6",
   "metadata": {},
   "outputs": [],
   "source": [
    "n = 100\n",
    "x_bar = 180\n",
    "s = 6\n",
    "# k = n - 1"
   ]
  },
  {
   "cell_type": "code",
   "execution_count": 9,
   "id": "5a8a70c4",
   "metadata": {},
   "outputs": [
    {
     "data": {
      "text/plain": [
       "array([178.82, 181.18])"
      ]
     },
     "execution_count": 9,
     "metadata": {},
     "output_type": "execute_result"
    }
   ],
   "source": [
    "np.round(norm.interval(0.95, loc=x_bar, scale=s/np.sqrt(n)), 2)"
   ]
  },
  {
   "cell_type": "markdown",
   "id": "d8a24eb0",
   "metadata": {},
   "source": [
    "## Quiz Question 2"
   ]
  },
  {
   "cell_type": "code",
   "execution_count": 10,
   "id": "e05f7daf",
   "metadata": {},
   "outputs": [],
   "source": [
    "n = 100\n",
    "x_bar = 1000\n",
    "s = 200"
   ]
  },
  {
   "cell_type": "code",
   "execution_count": 11,
   "id": "8d28b3fa",
   "metadata": {},
   "outputs": [
    {
     "data": {
      "text/plain": [
       "array([ 960.8, 1039.2])"
      ]
     },
     "execution_count": 11,
     "metadata": {},
     "output_type": "execute_result"
    }
   ],
   "source": [
    "np.round(norm.interval(0.95, loc=x_bar, scale=s/np.sqrt(n)), 2)"
   ]
  },
  {
   "cell_type": "markdown",
   "id": "c528bee6",
   "metadata": {},
   "source": [
    "## Quiz Question 3"
   ]
  },
  {
   "cell_type": "code",
   "execution_count": 12,
   "id": "ed6614ea",
   "metadata": {},
   "outputs": [],
   "source": [
    "n = 50\n",
    "x_bar = 160.9\n",
    "s = 6"
   ]
  },
  {
   "cell_type": "code",
   "execution_count": 13,
   "id": "2b87cf2f",
   "metadata": {},
   "outputs": [
    {
     "data": {
      "text/plain": [
       "array([159.24, 162.56])"
      ]
     },
     "execution_count": 13,
     "metadata": {},
     "output_type": "execute_result"
    }
   ],
   "source": [
    "np.round(norm.interval(0.95, loc=x_bar, scale=s/np.sqrt(n)), 2)"
   ]
  },
  {
   "cell_type": "markdown",
   "id": "bc4f3f32",
   "metadata": {},
   "source": [
    "## Performing a Hypthesis Test"
   ]
  },
  {
   "cell_type": "code",
   "execution_count": 16,
   "id": "475071da",
   "metadata": {},
   "outputs": [
    {
     "data": {
      "text/plain": [
       "1.2900392177883402"
      ]
     },
     "execution_count": 16,
     "metadata": {},
     "output_type": "execute_result"
    }
   ],
   "source": [
    "# Find the Z Score test statistic\n",
    "mu, sigma = 5, 1.3\n",
    "x_bar = 5.25\n",
    "\n",
    "test_stat = (x_bar - mu) / (sigma / np.sqrt(45))\n",
    "test_stat"
   ]
  },
  {
   "cell_type": "code",
   "execution_count": 18,
   "id": "43eac2f5",
   "metadata": {},
   "outputs": [
    {
     "data": {
      "image/png": "[encoded data removed]",
      "text/plain": [
       "<Figure size 640x480 with 1 Axes>"
      ]
     },
     "metadata": {},
     "output_type": "display_data"
    }
   ],
   "source": [
    "# plot the distribuiton of the Z test statistic\n",
    "x = np.linspace(-4, 4, 100)\n",
    "plt.plot(x, stats.norm.pdf(x, 0, 1))\n",
    "plt.axvline(x = test_stat, c = 'r')\n",
    "plt.show()"
   ]
  },
  {
   "cell_type": "code",
   "execution_count": 19,
   "id": "be457044",
   "metadata": {},
   "outputs": [
    {
     "data": {
      "text/plain": [
       "0.09851852092578695"
      ]
     },
     "execution_count": 19,
     "metadata": {},
     "output_type": "execute_result"
    }
   ],
   "source": [
    "1 - stats.norm.cdf(test_stat)"
   ]
  },
  {
   "cell_type": "code",
   "execution_count": 22,
   "id": "33073c98",
   "metadata": {},
   "outputs": [
    {
     "data": {
      "text/plain": [
       "1.6448536269514722"
      ]
     },
     "execution_count": 22,
     "metadata": {},
     "output_type": "execute_result"
    }
   ],
   "source": [
    "critical_value = stats.norm.ppf(1 - .05)\n",
    "critical_value"
   ]
  },
  {
   "cell_type": "code",
   "execution_count": 29,
   "id": "fea27b73",
   "metadata": {},
   "outputs": [
    {
     "data": {
      "image/png": "[encoded data removed]",
      "text/plain": [
       "<Figure size 640x480 with 1 Axes>"
      ]
     },
     "metadata": {},
     "output_type": "display_data"
    }
   ],
   "source": [
    "x = np.linspace(-4, 4, 100)\n",
    "plt.plot(x, stats.norm.pdf(x, 0, 1))\n",
    "plt.axvline(x = critical_value, c = 'r')\n",
    "x1 = np.linspace(critical_value, 4, 50)\n",
    "plt.axvline(x = test_stat, c = 'g')\n",
    "plt.fill_between(x1, stats.norm.pdf(x1, 0, 1), color = 'r')\n",
    "plt.annotate('Reject Null', (2, 0.20))\n",
    "plt.annotate('  Do not reject \\n    Null', (-1, 0.20))\n",
    "plt.show()"
   ]
  },
  {
   "cell_type": "code",
   "execution_count": null,
   "id": "ad68eeab",
   "metadata": {},
   "outputs": [],
   "source": []
  }
 ],
 "metadata": {
  "kernelspec": {
   "display_name": "Python 3 (ipykernel)",
   "language": "python",
   "name": "python3"
  },
  "language_info": {
   "codemirror_mode": {
    "name": "ipython",
    "version": 3
   },
   "file_extension": ".py",
   "mimetype": "text/x-python",
   "name": "python",
   "nbconvert_exporter": "python",
   "pygments_lexer": "ipython3",
   "version": "3.11.5"
  }
 },
 "nbformat": 4,
 "nbformat_minor": 5
}
